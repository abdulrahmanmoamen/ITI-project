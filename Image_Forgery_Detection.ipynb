{
  "nbformat": 4,
  "nbformat_minor": 0,
  "metadata": {
    "colab": {
      "provenance": [],
      "mount_file_id": "1_OaqU7fyHy9VbOUUwrMaGSn3CSI5u6ho",
      "authorship_tag": "ABX9TyO5fmzw6rn9bA4inop0AIHT",
      "include_colab_link": true
    },
    "kernelspec": {
      "name": "python3",
      "display_name": "Python 3"
    },
    "language_info": {
      "name": "python"
    }
  },
  "cells": [
    {
      "cell_type": "markdown",
      "metadata": {
        "id": "view-in-github",
        "colab_type": "text"
      },
      "source": [
        "<a href=\"https://colab.research.google.com/github/abdulrahmanmoamen/ITI-project/blob/main/Image_Forgery_Detection.ipynb\" target=\"_parent\"><img src=\"https://colab.research.google.com/assets/colab-badge.svg\" alt=\"Open In Colab\"/></a>"
      ]
    },
    {
      "cell_type": "code",
      "source": [
        "# Unzip the dataset archive from Google Drive into the local working directory\n",
        "!unzip \"/content/drive/MyDrive/archive (3).zip\" -d /content/mini_forgery_dataset\n"
      ],
      "metadata": {
        "colab": {
          "base_uri": "https://localhost:8080/"
        },
        "id": "G24nC5oGF82C",
        "outputId": "c5c10f8c-d425-46c3-9830-b54e2248521c"
      },
      "execution_count": 1,
      "outputs": [
        {
          "output_type": "stream",
          "name": "stdout",
          "text": [
            "Archive:  /content/drive/MyDrive/archive (3).zip\n",
            "  inflating: /content/mini_forgery_dataset/Columbia Uncompressed Image Splicing Detection/4cam_auth/4cam_auth/canong3_02_sub_01.tif  \n",
            "  inflating: /content/mini_forgery_dataset/Columbia Uncompressed Image Splicing Detection/4cam_auth/4cam_auth/canong3_02_sub_02.tif  \n",
            "  inflating: /content/mini_forgery_dataset/Columbia Uncompressed Image Splicing Detection/4cam_auth/4cam_auth/canong3_02_sub_03.tif  \n",
            "  inflating: /content/mini_forgery_dataset/Columbia Uncompressed Image Splicing Detection/4cam_auth/4cam_auth/canong3_02_sub_04.tif  \n",
            "  inflating: /content/mini_forgery_dataset/Columbia Uncompressed Image Splicing Detection/4cam_auth/4cam_auth/canong3_02_sub_05.tif  \n",
            "  inflating: /content/mini_forgery_dataset/Columbia Uncompressed Image Splicing Detection/4cam_auth/4cam_auth/canong3_02_sub_06.tif  \n",
            "  inflating: /content/mini_forgery_dataset/Columbia Uncompressed Image Splicing Detection/4cam_auth/4cam_auth/canong3_02_sub_07.tif  \n",
            "  inflating: /content/mini_forgery_dataset/Columbia Uncompressed Image Splicing Detection/4cam_auth/4cam_auth/canong3_02_sub_08.tif  \n",
            "  inflating: /content/mini_forgery_dataset/Columbia Uncompressed Image Splicing Detection/4cam_auth/4cam_auth/canong3_02_sub_09.tif  \n",
            "  inflating: /content/mini_forgery_dataset/Columbia Uncompressed Image Splicing Detection/4cam_auth/4cam_auth/canong3_05_sub_01.tif  \n",
            "  inflating: /content/mini_forgery_dataset/Columbia Uncompressed Image Splicing Detection/4cam_auth/4cam_auth/canong3_05_sub_02.tif  \n",
            "  inflating: /content/mini_forgery_dataset/Columbia Uncompressed Image Splicing Detection/4cam_auth/4cam_auth/canong3_05_sub_03.tif  \n",
            "  inflating: /content/mini_forgery_dataset/Columbia Uncompressed Image Splicing Detection/4cam_auth/4cam_auth/canong3_05_sub_04.tif  \n",
            "  inflating: /content/mini_forgery_dataset/Columbia Uncompressed Image Splicing Detection/4cam_auth/4cam_auth/canong3_05_sub_05.tif  \n",
            "  inflating: /content/mini_forgery_dataset/Columbia Uncompressed Image Splicing Detection/4cam_auth/4cam_auth/canong3_05_sub_06.tif  \n",
            "  inflating: /content/mini_forgery_dataset/Columbia Uncompressed Image Splicing Detection/4cam_auth/4cam_auth/canong3_05_sub_07.tif  \n",
            "  inflating: /content/mini_forgery_dataset/Columbia Uncompressed Image Splicing Detection/4cam_auth/4cam_auth/canong3_05_sub_08.tif  \n",
            "  inflating: /content/mini_forgery_dataset/Columbia Uncompressed Image Splicing Detection/4cam_auth/4cam_auth/canong3_05_sub_09.tif  \n",
            "  inflating: /content/mini_forgery_dataset/Columbia Uncompressed Image Splicing Detection/4cam_auth/4cam_auth/canong3_08_sub_01.tif  \n",
            "  inflating: /content/mini_forgery_dataset/Columbia Uncompressed Image Splicing Detection/4cam_auth/4cam_auth/canong3_08_sub_02.tif  \n",
            "  inflating: /content/mini_forgery_dataset/Columbia Uncompressed Image Splicing Detection/4cam_auth/4cam_auth/canong3_08_sub_03.tif  \n",
            "  inflating: /content/mini_forgery_dataset/Columbia Uncompressed Image Splicing Detection/4cam_auth/4cam_auth/canong3_08_sub_04.tif  \n",
            "  inflating: /content/mini_forgery_dataset/Columbia Uncompressed Image Splicing Detection/4cam_auth/4cam_auth/canong3_08_sub_05.tif  \n",
            "  inflating: /content/mini_forgery_dataset/Columbia Uncompressed Image Splicing Detection/4cam_auth/4cam_auth/canong3_08_sub_06.tif  \n",
            "  inflating: /content/mini_forgery_dataset/Columbia Uncompressed Image Splicing Detection/4cam_auth/4cam_auth/canong3_08_sub_07.tif  \n",
            "  inflating: /content/mini_forgery_dataset/Columbia Uncompressed Image Splicing Detection/4cam_auth/4cam_auth/canong3_08_sub_08.tif  \n",
            "  inflating: /content/mini_forgery_dataset/Columbia Uncompressed Image Splicing Detection/4cam_auth/4cam_auth/canong3_08_sub_09.tif  \n",
            "  inflating: /content/mini_forgery_dataset/Columbia Uncompressed Image Splicing Detection/4cam_auth/4cam_auth/canonxt_02_sub_01.tif  \n",
            "  inflating: /content/mini_forgery_dataset/Columbia Uncompressed Image Splicing Detection/4cam_auth/4cam_auth/canonxt_02_sub_02.tif  \n",
            "  inflating: /content/mini_forgery_dataset/Columbia Uncompressed Image Splicing Detection/4cam_auth/4cam_auth/canonxt_02_sub_03.tif  \n",
            "  inflating: /content/mini_forgery_dataset/Columbia Uncompressed Image Splicing Detection/4cam_auth/4cam_auth/canonxt_02_sub_04.tif  \n",
            "  inflating: /content/mini_forgery_dataset/Columbia Uncompressed Image Splicing Detection/4cam_auth/4cam_auth/canonxt_02_sub_05.tif  \n",
            "  inflating: /content/mini_forgery_dataset/Columbia Uncompressed Image Splicing Detection/4cam_auth/4cam_auth/canonxt_02_sub_06.tif  \n",
            "  inflating: /content/mini_forgery_dataset/Columbia Uncompressed Image Splicing Detection/4cam_auth/4cam_auth/canonxt_02_sub_07.tif  \n",
            "  inflating: /content/mini_forgery_dataset/Columbia Uncompressed Image Splicing Detection/4cam_auth/4cam_auth/canonxt_02_sub_08.tif  \n",
            "  inflating: /content/mini_forgery_dataset/Columbia Uncompressed Image Splicing Detection/4cam_auth/4cam_auth/canonxt_02_sub_09.tif  \n",
            "  inflating: /content/mini_forgery_dataset/Columbia Uncompressed Image Splicing Detection/4cam_auth/4cam_auth/canonxt_05_sub_01.tif  \n",
            "  inflating: /content/mini_forgery_dataset/Columbia Uncompressed Image Splicing Detection/4cam_auth/4cam_auth/canonxt_05_sub_02.tif  \n",
            "  inflating: /content/mini_forgery_dataset/Columbia Uncompressed Image Splicing Detection/4cam_auth/4cam_auth/canonxt_05_sub_03.tif  \n",
            "  inflating: /content/mini_forgery_dataset/Columbia Uncompressed Image Splicing Detection/4cam_auth/4cam_auth/canonxt_05_sub_04.tif  \n",
            "  inflating: /content/mini_forgery_dataset/Columbia Uncompressed Image Splicing Detection/4cam_auth/4cam_auth/canonxt_05_sub_05.tif  \n",
            "  inflating: /content/mini_forgery_dataset/Columbia Uncompressed Image Splicing Detection/4cam_auth/4cam_auth/canonxt_05_sub_06.tif  \n",
            "  inflating: /content/mini_forgery_dataset/Columbia Uncompressed Image Splicing Detection/4cam_auth/4cam_auth/canonxt_05_sub_07.tif  \n",
            "  inflating: /content/mini_forgery_dataset/Columbia Uncompressed Image Splicing Detection/4cam_auth/4cam_auth/canonxt_05_sub_08.tif  \n",
            "  inflating: /content/mini_forgery_dataset/Columbia Uncompressed Image Splicing Detection/4cam_auth/4cam_auth/canonxt_05_sub_09.tif  \n",
            "  inflating: /content/mini_forgery_dataset/Columbia Uncompressed Image Splicing Detection/4cam_auth/4cam_auth/canonxt_08_sub_01.tif  \n",
            "  inflating: /content/mini_forgery_dataset/Columbia Uncompressed Image Splicing Detection/4cam_auth/4cam_auth/canonxt_08_sub_02.tif  \n",
            "  inflating: /content/mini_forgery_dataset/Columbia Uncompressed Image Splicing Detection/4cam_auth/4cam_auth/canonxt_08_sub_03.tif  \n",
            "  inflating: /content/mini_forgery_dataset/Columbia Uncompressed Image Splicing Detection/4cam_auth/4cam_auth/canonxt_08_sub_04.tif  \n",
            "  inflating: /content/mini_forgery_dataset/Columbia Uncompressed Image Splicing Detection/4cam_auth/4cam_auth/canonxt_08_sub_05.tif  \n",
            "  inflating: /content/mini_forgery_dataset/Columbia Uncompressed Image Splicing Detection/4cam_auth/4cam_auth/canonxt_08_sub_06.tif  \n",
            "  inflating: /content/mini_forgery_dataset/Columbia Uncompressed Image Splicing Detection/4cam_auth/4cam_auth/canonxt_08_sub_07.tif  \n",
            "  inflating: /content/mini_forgery_dataset/Columbia Uncompressed Image Splicing Detection/4cam_auth/4cam_auth/canonxt_08_sub_08.tif  \n",
            "  inflating: /content/mini_forgery_dataset/Columbia Uncompressed Image Splicing Detection/4cam_auth/4cam_auth/canonxt_08_sub_09.tif  \n",
            "  inflating: /content/mini_forgery_dataset/Columbia Uncompressed Image Splicing Detection/4cam_auth/4cam_auth/canonxt_11_sub_01.tif  \n",
            "  inflating: /content/mini_forgery_dataset/Columbia Uncompressed Image Splicing Detection/4cam_auth/4cam_auth/canonxt_11_sub_02.tif  \n",
            "  inflating: /content/mini_forgery_dataset/Columbia Uncompressed Image Splicing Detection/4cam_auth/4cam_auth/canonxt_11_sub_03.tif  \n",
            "  inflating: /content/mini_forgery_dataset/Columbia Uncompressed Image Splicing Detection/4cam_auth/4cam_auth/canonxt_11_sub_04.tif  \n",
            "  inflating: /content/mini_forgery_dataset/Columbia Uncompressed Image Splicing Detection/4cam_auth/4cam_auth/canonxt_11_sub_05.tif  \n",
            "  inflating: /content/mini_forgery_dataset/Columbia Uncompressed Image Splicing Detection/4cam_auth/4cam_auth/canonxt_11_sub_06.tif  \n",
            "  inflating: /content/mini_forgery_dataset/Columbia Uncompressed Image Splicing Detection/4cam_auth/4cam_auth/canonxt_11_sub_07.tif  \n",
            "  inflating: /content/mini_forgery_dataset/Columbia Uncompressed Image Splicing Detection/4cam_auth/4cam_auth/canonxt_11_sub_08.tif  \n",
            "  inflating: /content/mini_forgery_dataset/Columbia Uncompressed Image Splicing Detection/4cam_auth/4cam_auth/canonxt_11_sub_09.tif  \n",
            "  inflating: /content/mini_forgery_dataset/Columbia Uncompressed Image Splicing Detection/4cam_auth/4cam_auth/canonxt_14_sub_01.tif  \n",
            "  inflating: /content/mini_forgery_dataset/Columbia Uncompressed Image Splicing Detection/4cam_auth/4cam_auth/canonxt_14_sub_02.tif  \n",
            "  inflating: /content/mini_forgery_dataset/Columbia Uncompressed Image Splicing Detection/4cam_auth/4cam_auth/canonxt_14_sub_03.tif  \n",
            "  inflating: /content/mini_forgery_dataset/Columbia Uncompressed Image Splicing Detection/4cam_auth/4cam_auth/canonxt_14_sub_04.tif  \n",
            "  inflating: /content/mini_forgery_dataset/Columbia Uncompressed Image Splicing Detection/4cam_auth/4cam_auth/canonxt_14_sub_05.tif  \n",
            "  inflating: /content/mini_forgery_dataset/Columbia Uncompressed Image Splicing Detection/4cam_auth/4cam_auth/canonxt_14_sub_06.tif  \n",
            "  inflating: /content/mini_forgery_dataset/Columbia Uncompressed Image Splicing Detection/4cam_auth/4cam_auth/canonxt_14_sub_07.tif  \n",
            "  inflating: /content/mini_forgery_dataset/Columbia Uncompressed Image Splicing Detection/4cam_auth/4cam_auth/canonxt_14_sub_08.tif  \n",
            "  inflating: /content/mini_forgery_dataset/Columbia Uncompressed Image Splicing Detection/4cam_auth/4cam_auth/canonxt_14_sub_09.tif  \n",
            "  inflating: /content/mini_forgery_dataset/Columbia Uncompressed Image Splicing Detection/4cam_auth/4cam_auth/canonxt_17_sub_01.tif  \n",
            "  inflating: /content/mini_forgery_dataset/Columbia Uncompressed Image Splicing Detection/4cam_auth/4cam_auth/canonxt_17_sub_02.tif  \n",
            "  inflating: /content/mini_forgery_dataset/Columbia Uncompressed Image Splicing Detection/4cam_auth/4cam_auth/canonxt_17_sub_03.tif  \n",
            "  inflating: /content/mini_forgery_dataset/Columbia Uncompressed Image Splicing Detection/4cam_auth/4cam_auth/canonxt_17_sub_04.tif  \n",
            "  inflating: /content/mini_forgery_dataset/Columbia Uncompressed Image Splicing Detection/4cam_auth/4cam_auth/canonxt_17_sub_05.tif  \n",
            "  inflating: /content/mini_forgery_dataset/Columbia Uncompressed Image Splicing Detection/4cam_auth/4cam_auth/canonxt_17_sub_06.tif  \n",
            "  inflating: /content/mini_forgery_dataset/Columbia Uncompressed Image Splicing Detection/4cam_auth/4cam_auth/canonxt_17_sub_07.tif  \n",
            "  inflating: /content/mini_forgery_dataset/Columbia Uncompressed Image Splicing Detection/4cam_auth/4cam_auth/canonxt_17_sub_08.tif  \n",
            "  inflating: /content/mini_forgery_dataset/Columbia Uncompressed Image Splicing Detection/4cam_auth/4cam_auth/canonxt_17_sub_09.tif  \n",
            "  inflating: /content/mini_forgery_dataset/Columbia Uncompressed Image Splicing Detection/4cam_auth/4cam_auth/canonxt_20_sub_01.tif  \n",
            "  inflating: /content/mini_forgery_dataset/Columbia Uncompressed Image Splicing Detection/4cam_auth/4cam_auth/canonxt_20_sub_02.tif  \n",
            "  inflating: /content/mini_forgery_dataset/Columbia Uncompressed Image Splicing Detection/4cam_auth/4cam_auth/canonxt_20_sub_03.tif  \n",
            "  inflating: /content/mini_forgery_dataset/Columbia Uncompressed Image Splicing Detection/4cam_auth/4cam_auth/canonxt_20_sub_04.tif  \n",
            "  inflating: /content/mini_forgery_dataset/Columbia Uncompressed Image Splicing Detection/4cam_auth/4cam_auth/canonxt_20_sub_05.tif  \n",
            "  inflating: /content/mini_forgery_dataset/Columbia Uncompressed Image Splicing Detection/4cam_auth/4cam_auth/canonxt_20_sub_06.tif  \n",
            "  inflating: /content/mini_forgery_dataset/Columbia Uncompressed Image Splicing Detection/4cam_auth/4cam_auth/canonxt_20_sub_07.tif  \n",
            "  inflating: /content/mini_forgery_dataset/Columbia Uncompressed Image Splicing Detection/4cam_auth/4cam_auth/canonxt_20_sub_08.tif  \n",
            "  inflating: /content/mini_forgery_dataset/Columbia Uncompressed Image Splicing Detection/4cam_auth/4cam_auth/canonxt_20_sub_09.tif  \n",
            "  inflating: /content/mini_forgery_dataset/Columbia Uncompressed Image Splicing Detection/4cam_auth/4cam_auth/canonxt_23_sub_01.tif  \n",
            "  inflating: /content/mini_forgery_dataset/Columbia Uncompressed Image Splicing Detection/4cam_auth/4cam_auth/canonxt_23_sub_02.tif  \n",
            "  inflating: /content/mini_forgery_dataset/Columbia Uncompressed Image Splicing Detection/4cam_auth/4cam_auth/canonxt_23_sub_03.tif  \n",
            "  inflating: /content/mini_forgery_dataset/Columbia Uncompressed Image Splicing Detection/4cam_auth/4cam_auth/canonxt_23_sub_04.tif  \n",
            "  inflating: /content/mini_forgery_dataset/Columbia Uncompressed Image Splicing Detection/4cam_auth/4cam_auth/canonxt_23_sub_05.tif  \n",
            "  inflating: /content/mini_forgery_dataset/Columbia Uncompressed Image Splicing Detection/4cam_auth/4cam_auth/canonxt_23_sub_06.tif  \n",
            "  inflating: /content/mini_forgery_dataset/Columbia Uncompressed Image Splicing Detection/4cam_auth/4cam_auth/canonxt_23_sub_07.tif  \n",
            "  inflating: /content/mini_forgery_dataset/Columbia Uncompressed Image Splicing Detection/4cam_auth/4cam_auth/canonxt_23_sub_08.tif  \n",
            "  inflating: /content/mini_forgery_dataset/Columbia Uncompressed Image Splicing Detection/4cam_auth/4cam_auth/canonxt_23_sub_09.tif  \n",
            "  inflating: /content/mini_forgery_dataset/Columbia Uncompressed Image Splicing Detection/4cam_auth/4cam_auth/canonxt_26_sub_01.tif  \n",
            "  inflating: /content/mini_forgery_dataset/Columbia Uncompressed Image Splicing Detection/4cam_auth/4cam_auth/canonxt_26_sub_02.tif  \n",
            "  inflating: /content/mini_forgery_dataset/Columbia Uncompressed Image Splicing Detection/4cam_auth/4cam_auth/canonxt_26_sub_03.tif  \n",
            "  inflating: /content/mini_forgery_dataset/Columbia Uncompressed Image Splicing Detection/4cam_auth/4cam_auth/canonxt_26_sub_04.tif  \n",
            "  inflating: /content/mini_forgery_dataset/Columbia Uncompressed Image Splicing Detection/4cam_auth/4cam_auth/canonxt_26_sub_05.tif  \n",
            "  inflating: /content/mini_forgery_dataset/Columbia Uncompressed Image Splicing Detection/4cam_auth/4cam_auth/canonxt_26_sub_06.tif  \n",
            "  inflating: /content/mini_forgery_dataset/Columbia Uncompressed Image Splicing Detection/4cam_auth/4cam_auth/canonxt_26_sub_07.tif  \n",
            "  inflating: /content/mini_forgery_dataset/Columbia Uncompressed Image Splicing Detection/4cam_auth/4cam_auth/canonxt_26_sub_08.tif  \n",
            "  inflating: /content/mini_forgery_dataset/Columbia Uncompressed Image Splicing Detection/4cam_auth/4cam_auth/canonxt_26_sub_09.tif  \n",
            "  inflating: /content/mini_forgery_dataset/Columbia Uncompressed Image Splicing Detection/4cam_auth/4cam_auth/canonxt_29_sub_01.tif  \n",
            "  inflating: /content/mini_forgery_dataset/Columbia Uncompressed Image Splicing Detection/4cam_auth/4cam_auth/canonxt_29_sub_02.tif  \n",
            "  inflating: /content/mini_forgery_dataset/Columbia Uncompressed Image Splicing Detection/4cam_auth/4cam_auth/canonxt_29_sub_03.tif  \n",
            "  inflating: /content/mini_forgery_dataset/Columbia Uncompressed Image Splicing Detection/4cam_auth/4cam_auth/canonxt_29_sub_04.tif  \n",
            "  inflating: /content/mini_forgery_dataset/Columbia Uncompressed Image Splicing Detection/4cam_auth/4cam_auth/canonxt_29_sub_05.tif  \n",
            "  inflating: /content/mini_forgery_dataset/Columbia Uncompressed Image Splicing Detection/4cam_auth/4cam_auth/canonxt_29_sub_06.tif  \n",
            "  inflating: /content/mini_forgery_dataset/Columbia Uncompressed Image Splicing Detection/4cam_auth/4cam_auth/canonxt_29_sub_07.tif  \n",
            "  inflating: /content/mini_forgery_dataset/Columbia Uncompressed Image Splicing Detection/4cam_auth/4cam_auth/canonxt_29_sub_08.tif  \n",
            "  inflating: /content/mini_forgery_dataset/Columbia Uncompressed Image Splicing Detection/4cam_auth/4cam_auth/canonxt_29_sub_09.tif  \n",
            "  inflating: /content/mini_forgery_dataset/Columbia Uncompressed Image Splicing Detection/4cam_auth/4cam_auth/canonxt_32_sub_01.tif  \n",
            "  inflating: /content/mini_forgery_dataset/Columbia Uncompressed Image Splicing Detection/4cam_auth/4cam_auth/canonxt_32_sub_02.tif  \n",
            "  inflating: /content/mini_forgery_dataset/Columbia Uncompressed Image Splicing Detection/4cam_auth/4cam_auth/canonxt_32_sub_03.tif  \n",
            "  inflating: /content/mini_forgery_dataset/Columbia Uncompressed Image Splicing Detection/4cam_auth/4cam_auth/canonxt_32_sub_04.tif  \n",
            "  inflating: /content/mini_forgery_dataset/Columbia Uncompressed Image Splicing Detection/4cam_auth/4cam_auth/canonxt_32_sub_05.tif  \n",
            "  inflating: /content/mini_forgery_dataset/Columbia Uncompressed Image Splicing Detection/4cam_auth/4cam_auth/canonxt_32_sub_06.tif  \n",
            "  inflating: /content/mini_forgery_dataset/Columbia Uncompressed Image Splicing Detection/4cam_auth/4cam_auth/canonxt_32_sub_07.tif  \n",
            "  inflating: /content/mini_forgery_dataset/Columbia Uncompressed Image Splicing Detection/4cam_auth/4cam_auth/canonxt_32_sub_08.tif  \n",
            "  inflating: /content/mini_forgery_dataset/Columbia Uncompressed Image Splicing Detection/4cam_auth/4cam_auth/canonxt_32_sub_09.tif  \n",
            "  inflating: /content/mini_forgery_dataset/Columbia Uncompressed Image Splicing Detection/4cam_auth/4cam_auth/canonxt_35_sub_01.tif  \n",
            "  inflating: /content/mini_forgery_dataset/Columbia Uncompressed Image Splicing Detection/4cam_auth/4cam_auth/canonxt_35_sub_02.tif  \n",
            "  inflating: /content/mini_forgery_dataset/Columbia Uncompressed Image Splicing Detection/4cam_auth/4cam_auth/canonxt_35_sub_03.tif  \n",
            "  inflating: /content/mini_forgery_dataset/Columbia Uncompressed Image Splicing Detection/4cam_auth/4cam_auth/canonxt_35_sub_04.tif  \n",
            "  inflating: /content/mini_forgery_dataset/Columbia Uncompressed Image Splicing Detection/4cam_auth/4cam_auth/canonxt_35_sub_05.tif  \n",
            "  inflating: /content/mini_forgery_dataset/Columbia Uncompressed Image Splicing Detection/4cam_auth/4cam_auth/canonxt_35_sub_06.tif  \n",
            "  inflating: /content/mini_forgery_dataset/Columbia Uncompressed Image Splicing Detection/4cam_auth/4cam_auth/canonxt_35_sub_07.tif  \n",
            "  inflating: /content/mini_forgery_dataset/Columbia Uncompressed Image Splicing Detection/4cam_auth/4cam_auth/canonxt_35_sub_08.tif  \n",
            "  inflating: /content/mini_forgery_dataset/Columbia Uncompressed Image Splicing Detection/4cam_auth/4cam_auth/canonxt_35_sub_09.tif  \n",
            "  inflating: /content/mini_forgery_dataset/Columbia Uncompressed Image Splicing Detection/4cam_auth/4cam_auth/canonxt_38_sub_01.tif  \n",
            "  inflating: /content/mini_forgery_dataset/Columbia Uncompressed Image Splicing Detection/4cam_auth/4cam_auth/canonxt_38_sub_02.tif  \n",
            "  inflating: /content/mini_forgery_dataset/Columbia Uncompressed Image Splicing Detection/4cam_auth/4cam_auth/canonxt_38_sub_03.tif  \n",
            "  inflating: /content/mini_forgery_dataset/Columbia Uncompressed Image Splicing Detection/4cam_auth/4cam_auth/canonxt_38_sub_04.tif  \n",
            "  inflating: /content/mini_forgery_dataset/Columbia Uncompressed Image Splicing Detection/4cam_auth/4cam_auth/canonxt_38_sub_05.tif  \n",
            "  inflating: /content/mini_forgery_dataset/Columbia Uncompressed Image Splicing Detection/4cam_auth/4cam_auth/canonxt_38_sub_06.tif  \n",
            "  inflating: /content/mini_forgery_dataset/Columbia Uncompressed Image Splicing Detection/4cam_auth/4cam_auth/canonxt_38_sub_07.tif  \n",
            "  inflating: /content/mini_forgery_dataset/Columbia Uncompressed Image Splicing Detection/4cam_auth/4cam_auth/canonxt_38_sub_08.tif  \n",
            "  inflating: /content/mini_forgery_dataset/Columbia Uncompressed Image Splicing Detection/4cam_auth/4cam_auth/canonxt_38_sub_09.tif  \n",
            "  inflating: /content/mini_forgery_dataset/Columbia Uncompressed Image Splicing Detection/4cam_auth/4cam_auth/kodakdcs330_01_sub_01.tif  \n",
            "  inflating: /content/mini_forgery_dataset/Columbia Uncompressed Image Splicing Detection/4cam_auth/4cam_auth/kodakdcs330_02_sub_01.tif  \n",
            "  inflating: /content/mini_forgery_dataset/Columbia Uncompressed Image Splicing Detection/4cam_auth/4cam_auth/kodakdcs330_03_sub_01.tif  \n",
            "  inflating: /content/mini_forgery_dataset/Columbia Uncompressed Image Splicing Detection/4cam_auth/4cam_auth/nikond70_02_sub_01.tif  \n",
            "  inflating: /content/mini_forgery_dataset/Columbia Uncompressed Image Splicing Detection/4cam_auth/4cam_auth/nikond70_02_sub_02.tif  \n",
            "  inflating: /content/mini_forgery_dataset/Columbia Uncompressed Image Splicing Detection/4cam_auth/4cam_auth/nikond70_02_sub_03.tif  \n",
            "  inflating: /content/mini_forgery_dataset/Columbia Uncompressed Image Splicing Detection/4cam_auth/4cam_auth/nikond70_02_sub_04.tif  \n",
            "  inflating: /content/mini_forgery_dataset/Columbia Uncompressed Image Splicing Detection/4cam_auth/4cam_auth/nikond70_02_sub_05.tif  \n",
            "  inflating: /content/mini_forgery_dataset/Columbia Uncompressed Image Splicing Detection/4cam_auth/4cam_auth/nikond70_02_sub_06.tif  \n",
            "  inflating: /content/mini_forgery_dataset/Columbia Uncompressed Image Splicing Detection/4cam_auth/4cam_auth/nikond70_02_sub_07.tif  \n",
            "  inflating: /content/mini_forgery_dataset/Columbia Uncompressed Image Splicing Detection/4cam_auth/4cam_auth/nikond70_02_sub_08.tif  \n",
            "  inflating: /content/mini_forgery_dataset/Columbia Uncompressed Image Splicing Detection/4cam_auth/4cam_auth/nikond70_02_sub_09.tif  \n",
            "  inflating: /content/mini_forgery_dataset/Columbia Uncompressed Image Splicing Detection/4cam_auth/4cam_auth/nikond70_05_sub_01.tif  \n",
            "  inflating: /content/mini_forgery_dataset/Columbia Uncompressed Image Splicing Detection/4cam_auth/4cam_auth/nikond70_05_sub_02.tif  \n",
            "  inflating: /content/mini_forgery_dataset/Columbia Uncompressed Image Splicing Detection/4cam_auth/4cam_auth/nikond70_05_sub_03.tif  \n",
            "  inflating: /content/mini_forgery_dataset/Columbia Uncompressed Image Splicing Detection/4cam_auth/4cam_auth/nikond70_05_sub_04.tif  \n",
            "  inflating: /content/mini_forgery_dataset/Columbia Uncompressed Image Splicing Detection/4cam_auth/4cam_auth/nikond70_05_sub_05.tif  \n",
            "  inflating: /content/mini_forgery_dataset/Columbia Uncompressed Image Splicing Detection/4cam_auth/4cam_auth/nikond70_05_sub_06.tif  \n",
            "  inflating: /content/mini_forgery_dataset/Columbia Uncompressed Image Splicing Detection/4cam_auth/4cam_auth/nikond70_05_sub_07.tif  \n",
            "  inflating: /content/mini_forgery_dataset/Columbia Uncompressed Image Splicing Detection/4cam_auth/4cam_auth/nikond70_05_sub_08.tif  \n",
            "  inflating: /content/mini_forgery_dataset/Columbia Uncompressed Image Splicing Detection/4cam_auth/4cam_auth/nikond70_05_sub_09.tif  \n",
            "  inflating: /content/mini_forgery_dataset/Columbia Uncompressed Image Splicing Detection/4cam_auth/4cam_auth/nikond70_08_sub_01.tif  \n",
            "  inflating: /content/mini_forgery_dataset/Columbia Uncompressed Image Splicing Detection/4cam_auth/4cam_auth/nikond70_08_sub_02.tif  \n",
            "  inflating: /content/mini_forgery_dataset/Columbia Uncompressed Image Splicing Detection/4cam_auth/4cam_auth/nikond70_08_sub_03.tif  \n",
            "  inflating: /content/mini_forgery_dataset/Columbia Uncompressed Image Splicing Detection/4cam_auth/4cam_auth/nikond70_08_sub_04.tif  \n",
            "  inflating: /content/mini_forgery_dataset/Columbia Uncompressed Image Splicing Detection/4cam_auth/4cam_auth/nikond70_08_sub_05.tif  \n",
            "  inflating: /content/mini_forgery_dataset/Columbia Uncompressed Image Splicing Detection/4cam_auth/4cam_auth/nikond70_08_sub_06.tif  \n",
            "  inflating: /content/mini_forgery_dataset/Columbia Uncompressed Image Splicing Detection/4cam_auth/4cam_auth/nikond70_08_sub_07.tif  \n",
            "  inflating: /content/mini_forgery_dataset/Columbia Uncompressed Image Splicing Detection/4cam_auth/4cam_auth/nikond70_08_sub_08.tif  \n",
            "  inflating: /content/mini_forgery_dataset/Columbia Uncompressed Image Splicing Detection/4cam_auth/4cam_auth/nikond70_08_sub_09.tif  \n",
            "  inflating: /content/mini_forgery_dataset/Columbia Uncompressed Image Splicing Detection/4cam_auth/4cam_auth/nikond70_11_sub_01.tif  \n",
            "  inflating: /content/mini_forgery_dataset/Columbia Uncompressed Image Splicing Detection/4cam_auth/4cam_auth/nikond70_11_sub_02.tif  \n",
            "  inflating: /content/mini_forgery_dataset/Columbia Uncompressed Image Splicing Detection/4cam_auth/4cam_auth/nikond70_11_sub_03.tif  \n",
            "  inflating: /content/mini_forgery_dataset/Columbia Uncompressed Image Splicing Detection/4cam_auth/4cam_auth/nikond70_11_sub_04.tif  \n",
            "  inflating: /content/mini_forgery_dataset/Columbia Uncompressed Image Splicing Detection/4cam_auth/4cam_auth/nikond70_11_sub_05.tif  \n",
            "  inflating: /content/mini_forgery_dataset/Columbia Uncompressed Image Splicing Detection/4cam_auth/4cam_auth/nikond70_11_sub_06.tif  \n",
            "  inflating: /content/mini_forgery_dataset/Columbia Uncompressed Image Splicing Detection/4cam_auth/4cam_auth/nikond70_11_sub_07.tif  \n",
            "  inflating: /content/mini_forgery_dataset/Columbia Uncompressed Image Splicing Detection/4cam_auth/4cam_auth/nikond70_11_sub_08.tif  \n",
            "  inflating: /content/mini_forgery_dataset/Columbia Uncompressed Image Splicing Detection/4cam_auth/4cam_auth/nikond70_11_sub_09.tif  \n",
            "  inflating: /content/mini_forgery_dataset/Columbia Uncompressed Image Splicing Detection/4cam_auth/Thumbs.db  \n",
            "  inflating: /content/mini_forgery_dataset/Columbia Uncompressed Image Splicing Detection/4cam_auth/edgemask/Thumbs.db  \n",
            "  inflating: /content/mini_forgery_dataset/Columbia Uncompressed Image Splicing Detection/4cam_auth/edgemask/canong3_02_sub_01_edgemask.jpg  \n",
            "  inflating: /content/mini_forgery_dataset/Columbia Uncompressed Image Splicing Detection/4cam_auth/edgemask/canong3_02_sub_01_edgemask_3.jpg  \n",
            "  inflating: /content/mini_forgery_dataset/Columbia Uncompressed Image Splicing Detection/4cam_auth/edgemask/canong3_02_sub_02_edgemask.jpg  \n",
            "  inflating: /content/mini_forgery_dataset/Columbia Uncompressed Image Splicing Detection/4cam_auth/edgemask/canong3_02_sub_02_edgemask_3.jpg  \n",
            "  inflating: /content/mini_forgery_dataset/Columbia Uncompressed Image Splicing Detection/4cam_auth/edgemask/canong3_02_sub_03_edgemask.jpg  \n",
            "  inflating: /content/mini_forgery_dataset/Columbia Uncompressed Image Splicing Detection/4cam_auth/edgemask/canong3_02_sub_03_edgemask_3.jpg  \n",
            "  inflating: /content/mini_forgery_dataset/Columbia Uncompressed Image Splicing Detection/4cam_auth/edgemask/canong3_02_sub_04_edgemask.jpg  \n",
            "  inflating: /content/mini_forgery_dataset/Columbia Uncompressed Image Splicing Detection/4cam_auth/edgemask/canong3_02_sub_04_edgemask_3.jpg  \n",
            "  inflating: /content/mini_forgery_dataset/Columbia Uncompressed Image Splicing Detection/4cam_auth/edgemask/canong3_02_sub_05_edgemask.jpg  \n",
            "  inflating: /content/mini_forgery_dataset/Columbia Uncompressed Image Splicing Detection/4cam_auth/edgemask/canong3_02_sub_05_edgemask_3.jpg  \n",
            "  inflating: /content/mini_forgery_dataset/Columbia Uncompressed Image Splicing Detection/4cam_auth/edgemask/canong3_02_sub_06_edgemask.jpg  \n",
            "  inflating: /content/mini_forgery_dataset/Columbia Uncompressed Image Splicing Detection/4cam_auth/edgemask/canong3_02_sub_06_edgemask_3.jpg  \n",
            "  inflating: /content/mini_forgery_dataset/Columbia Uncompressed Image Splicing Detection/4cam_auth/edgemask/canong3_02_sub_07_edgemask.jpg  \n",
            "  inflating: /content/mini_forgery_dataset/Columbia Uncompressed Image Splicing Detection/4cam_auth/edgemask/canong3_02_sub_07_edgemask_3.jpg  \n",
            "  inflating: /content/mini_forgery_dataset/Columbia Uncompressed Image Splicing Detection/4cam_auth/edgemask/canong3_02_sub_08_edgemask.jpg  \n",
            "  inflating: /content/mini_forgery_dataset/Columbia Uncompressed Image Splicing Detection/4cam_auth/edgemask/canong3_02_sub_08_edgemask_3.jpg  \n",
            "  inflating: /content/mini_forgery_dataset/Columbia Uncompressed Image Splicing Detection/4cam_auth/edgemask/canong3_02_sub_09_edgemask.jpg  \n",
            "  inflating: /content/mini_forgery_dataset/Columbia Uncompressed Image Splicing Detection/4cam_auth/edgemask/canong3_02_sub_09_edgemask_3.jpg  \n",
            "  inflating: /content/mini_forgery_dataset/Columbia Uncompressed Image Splicing Detection/4cam_auth/edgemask/canong3_05_sub_01_edgemask.jpg  \n",
            "  inflating: /content/mini_forgery_dataset/Columbia Uncompressed Image Splicing Detection/4cam_auth/edgemask/canong3_05_sub_01_edgemask_3.jpg  \n",
            "  inflating: /content/mini_forgery_dataset/Columbia Uncompressed Image Splicing Detection/4cam_auth/edgemask/canong3_05_sub_02_edgemask.jpg  \n",
            "  inflating: /content/mini_forgery_dataset/Columbia Uncompressed Image Splicing Detection/4cam_auth/edgemask/canong3_05_sub_02_edgemask_3.jpg  \n",
            "  inflating: /content/mini_forgery_dataset/Columbia Uncompressed Image Splicing Detection/4cam_auth/edgemask/canong3_05_sub_03_edgemask.jpg  \n",
            "  inflating: /content/mini_forgery_dataset/Columbia Uncompressed Image Splicing Detection/4cam_auth/edgemask/canong3_05_sub_03_edgemask_3.jpg  \n",
            "  inflating: /content/mini_forgery_dataset/Columbia Uncompressed Image Splicing Detection/4cam_auth/edgemask/canong3_05_sub_04_edgemask.jpg  \n",
            "  inflating: /content/mini_forgery_dataset/Columbia Uncompressed Image Splicing Detection/4cam_auth/edgemask/canong3_05_sub_04_edgemask_3.jpg  \n",
            "  inflating: /content/mini_forgery_dataset/Columbia Uncompressed Image Splicing Detection/4cam_auth/edgemask/canong3_05_sub_05_edgemask.jpg  \n",
            "  inflating: /content/mini_forgery_dataset/Columbia Uncompressed Image Splicing Detection/4cam_auth/edgemask/canong3_05_sub_05_edgemask_3.jpg  \n",
            "  inflating: /content/mini_forgery_dataset/Columbia Uncompressed Image Splicing Detection/4cam_auth/edgemask/canong3_05_sub_06_edgemask.jpg  \n",
            "  inflating: /content/mini_forgery_dataset/Columbia Uncompressed Image Splicing Detection/4cam_auth/edgemask/canong3_05_sub_06_edgemask_3.jpg  \n",
            "  inflating: /content/mini_forgery_dataset/Columbia Uncompressed Image Splicing Detection/4cam_auth/edgemask/canong3_05_sub_07_edgemask.jpg  \n",
            "  inflating: /content/mini_forgery_dataset/Columbia Uncompressed Image Splicing Detection/4cam_auth/edgemask/canong3_05_sub_07_edgemask_3.jpg  \n",
            "  inflating: /content/mini_forgery_dataset/Columbia Uncompressed Image Splicing Detection/4cam_auth/edgemask/canong3_05_sub_08_edgemask.jpg  \n",
            "  inflating: /content/mini_forgery_dataset/Columbia Uncompressed Image Splicing Detection/4cam_auth/edgemask/canong3_05_sub_08_edgemask_3.jpg  \n",
            "  inflating: /content/mini_forgery_dataset/Columbia Uncompressed Image Splicing Detection/4cam_auth/edgemask/canong3_05_sub_09_edgemask.jpg  \n",
            "  inflating: /content/mini_forgery_dataset/Columbia Uncompressed Image Splicing Detection/4cam_auth/edgemask/canong3_05_sub_09_edgemask_3.jpg  \n",
            "  inflating: /content/mini_forgery_dataset/Columbia Uncompressed Image Splicing Detection/4cam_auth/edgemask/canong3_08_sub_01_edgemask.jpg  \n",
            "  inflating: /content/mini_forgery_dataset/Columbia Uncompressed Image Splicing Detection/4cam_auth/edgemask/canong3_08_sub_01_edgemask_3.jpg  \n",
            "  inflating: /content/mini_forgery_dataset/Columbia Uncompressed Image Splicing Detection/4cam_auth/edgemask/canong3_08_sub_02_edgemask.jpg  \n",
            "  inflating: /content/mini_forgery_dataset/Columbia Uncompressed Image Splicing Detection/4cam_auth/edgemask/canong3_08_sub_02_edgemask_3.jpg  \n",
            "  inflating: /content/mini_forgery_dataset/Columbia Uncompressed Image Splicing Detection/4cam_auth/edgemask/canong3_08_sub_03_edgemask.jpg  \n",
            "  inflating: /content/mini_forgery_dataset/Columbia Uncompressed Image Splicing Detection/4cam_auth/edgemask/canong3_08_sub_03_edgemask_3.jpg  \n",
            "  inflating: /content/mini_forgery_dataset/Columbia Uncompressed Image Splicing Detection/4cam_auth/edgemask/canong3_08_sub_04_edgemask.jpg  \n",
            "  inflating: /content/mini_forgery_dataset/Columbia Uncompressed Image Splicing Detection/4cam_auth/edgemask/canong3_08_sub_04_edgemask_3.jpg  \n",
            "  inflating: /content/mini_forgery_dataset/Columbia Uncompressed Image Splicing Detection/4cam_auth/edgemask/canong3_08_sub_05_edgemask.jpg  \n",
            "  inflating: /content/mini_forgery_dataset/Columbia Uncompressed Image Splicing Detection/4cam_auth/edgemask/canong3_08_sub_05_edgemask_3.jpg  \n",
            "  inflating: /content/mini_forgery_dataset/Columbia Uncompressed Image Splicing Detection/4cam_auth/edgemask/canong3_08_sub_06_edgemask.jpg  \n",
            "  inflating: /content/mini_forgery_dataset/Columbia Uncompressed Image Splicing Detection/4cam_auth/edgemask/canong3_08_sub_06_edgemask_3.jpg  \n",
            "  inflating: /content/mini_forgery_dataset/Columbia Uncompressed Image Splicing Detection/4cam_auth/edgemask/canong3_08_sub_07_edgemask.jpg  \n",
            "  inflating: /content/mini_forgery_dataset/Columbia Uncompressed Image Splicing Detection/4cam_auth/edgemask/canong3_08_sub_07_edgemask_3.jpg  \n",
            "  inflating: /content/mini_forgery_dataset/Columbia Uncompressed Image Splicing Detection/4cam_auth/edgemask/canong3_08_sub_08_edgemask.jpg  \n",
            "  inflating: /content/mini_forgery_dataset/Columbia Uncompressed Image Splicing Detection/4cam_auth/edgemask/canong3_08_sub_08_edgemask_3.jpg  \n",
            "  inflating: /content/mini_forgery_dataset/Columbia Uncompressed Image Splicing Detection/4cam_auth/edgemask/canong3_08_sub_09_edgemask.jpg  \n",
            "  inflating: /content/mini_forgery_dataset/Columbia Uncompressed Image Splicing Detection/4cam_auth/edgemask/canong3_08_sub_09_edgemask_3.jpg  \n",
            "  inflating: /content/mini_forgery_dataset/Columbia Uncompressed Image Splicing Detection/4cam_auth/edgemask/canonxt_02_sub_01_edgemask.jpg  \n",
            "  inflating: /content/mini_forgery_dataset/Columbia Uncompressed Image Splicing Detection/4cam_auth/edgemask/canonxt_02_sub_01_edgemask_3.jpg  \n",
            "  inflating: /content/mini_forgery_dataset/Columbia Uncompressed Image Splicing Detection/4cam_auth/edgemask/canonxt_02_sub_02_edgemask.jpg  \n",
            "  inflating: /content/mini_forgery_dataset/Columbia Uncompressed Image Splicing Detection/4cam_auth/edgemask/canonxt_02_sub_02_edgemask_3.jpg  \n",
            "  inflating: /content/mini_forgery_dataset/Columbia Uncompressed Image Splicing Detection/4cam_auth/edgemask/canonxt_02_sub_03_edgemask.jpg  \n",
            "  inflating: /content/mini_forgery_dataset/Columbia Uncompressed Image Splicing Detection/4cam_auth/edgemask/canonxt_02_sub_03_edgemask_3.jpg  \n",
            "  inflating: /content/mini_forgery_dataset/Columbia Uncompressed Image Splicing Detection/4cam_auth/edgemask/canonxt_02_sub_04_edgemask.jpg  \n",
            "  inflating: /content/mini_forgery_dataset/Columbia Uncompressed Image Splicing Detection/4cam_auth/edgemask/canonxt_02_sub_04_edgemask_3.jpg  \n",
            "  inflating: /content/mini_forgery_dataset/Columbia Uncompressed Image Splicing Detection/4cam_auth/edgemask/canonxt_02_sub_05_edgemask.jpg  \n",
            "  inflating: /content/mini_forgery_dataset/Columbia Uncompressed Image Splicing Detection/4cam_auth/edgemask/canonxt_02_sub_05_edgemask_3.jpg  \n",
            "  inflating: /content/mini_forgery_dataset/Columbia Uncompressed Image Splicing Detection/4cam_auth/edgemask/canonxt_02_sub_06_edgemask.jpg  \n",
            "  inflating: /content/mini_forgery_dataset/Columbia Uncompressed Image Splicing Detection/4cam_auth/edgemask/canonxt_02_sub_06_edgemask_3.jpg  \n",
            "  inflating: /content/mini_forgery_dataset/Columbia Uncompressed Image Splicing Detection/4cam_auth/edgemask/canonxt_02_sub_07_edgemask.jpg  \n",
            "  inflating: /content/mini_forgery_dataset/Columbia Uncompressed Image Splicing Detection/4cam_auth/edgemask/canonxt_02_sub_07_edgemask_3.jpg  \n",
            "  inflating: /content/mini_forgery_dataset/Columbia Uncompressed Image Splicing Detection/4cam_auth/edgemask/canonxt_02_sub_08_edgemask.jpg  \n",
            "  inflating: /content/mini_forgery_dataset/Columbia Uncompressed Image Splicing Detection/4cam_auth/edgemask/canonxt_02_sub_08_edgemask_3.jpg  \n",
            "  inflating: /content/mini_forgery_dataset/Columbia Uncompressed Image Splicing Detection/4cam_auth/edgemask/canonxt_02_sub_09_edgemask.jpg  \n",
            "  inflating: /content/mini_forgery_dataset/Columbia Uncompressed Image Splicing Detection/4cam_auth/edgemask/canonxt_02_sub_09_edgemask_3.jpg  \n",
            "  inflating: /content/mini_forgery_dataset/Columbia Uncompressed Image Splicing Detection/4cam_auth/edgemask/canonxt_05_sub_01_edgemask.jpg  \n",
            "  inflating: /content/mini_forgery_dataset/Columbia Uncompressed Image Splicing Detection/4cam_auth/edgemask/canonxt_05_sub_01_edgemask_3.jpg  \n",
            "  inflating: /content/mini_forgery_dataset/Columbia Uncompressed Image Splicing Detection/4cam_auth/edgemask/canonxt_05_sub_02_edgemask.jpg  \n",
            "  inflating: /content/mini_forgery_dataset/Columbia Uncompressed Image Splicing Detection/4cam_auth/edgemask/canonxt_05_sub_02_edgemask_3.jpg  \n",
            "  inflating: /content/mini_forgery_dataset/Columbia Uncompressed Image Splicing Detection/4cam_auth/edgemask/canonxt_05_sub_03_edgemask.jpg  \n",
            "  inflating: /content/mini_forgery_dataset/Columbia Uncompressed Image Splicing Detection/4cam_auth/edgemask/canonxt_05_sub_03_edgemask_3.jpg  \n",
            "  inflating: /content/mini_forgery_dataset/Columbia Uncompressed Image Splicing Detection/4cam_auth/edgemask/canonxt_05_sub_04_edgemask.jpg  \n",
            "  inflating: /content/mini_forgery_dataset/Columbia Uncompressed Image Splicing Detection/4cam_auth/edgemask/canonxt_05_sub_04_edgemask_3.jpg  \n",
            "  inflating: /content/mini_forgery_dataset/Columbia Uncompressed Image Splicing Detection/4cam_auth/edgemask/canonxt_05_sub_05_edgemask.jpg  \n",
            "  inflating: /content/mini_forgery_dataset/Columbia Uncompressed Image Splicing Detection/4cam_auth/edgemask/canonxt_05_sub_05_edgemask_3.jpg  \n",
            "  inflating: /content/mini_forgery_dataset/Columbia Uncompressed Image Splicing Detection/4cam_auth/edgemask/canonxt_05_sub_06_edgemask.jpg  \n",
            "  inflating: /content/mini_forgery_dataset/Columbia Uncompressed Image Splicing Detection/4cam_auth/edgemask/canonxt_05_sub_06_edgemask_3.jpg  \n",
            "  inflating: /content/mini_forgery_dataset/Columbia Uncompressed Image Splicing Detection/4cam_auth/edgemask/canonxt_05_sub_07_edgemask.jpg  \n",
            "  inflating: /content/mini_forgery_dataset/Columbia Uncompressed Image Splicing Detection/4cam_auth/edgemask/canonxt_05_sub_07_edgemask_3.jpg  \n",
            "  inflating: /content/mini_forgery_dataset/Columbia Uncompressed Image Splicing Detection/4cam_auth/edgemask/canonxt_05_sub_08_edgemask.jpg  \n",
            "  inflating: /content/mini_forgery_dataset/Columbia Uncompressed Image Splicing Detection/4cam_auth/edgemask/canonxt_05_sub_08_edgemask_3.jpg  \n",
            "  inflating: /content/mini_forgery_dataset/Columbia Uncompressed Image Splicing Detection/4cam_auth/edgemask/canonxt_05_sub_09_edgemask.jpg  \n",
            "  inflating: /content/mini_forgery_dataset/Columbia Uncompressed Image Splicing Detection/4cam_auth/edgemask/canonxt_05_sub_09_edgemask_3.jpg  \n",
            "  inflating: /content/mini_forgery_dataset/Columbia Uncompressed Image Splicing Detection/4cam_auth/edgemask/canonxt_08_sub_01_edgemask.jpg  \n",
            "  inflating: /content/mini_forgery_dataset/Columbia Uncompressed Image Splicing Detection/4cam_auth/edgemask/canonxt_08_sub_01_edgemask_3.jpg  \n",
            "  inflating: /content/mini_forgery_dataset/Columbia Uncompressed Image Splicing Detection/4cam_auth/edgemask/canonxt_08_sub_02_edgemask.jpg  \n",
            "  inflating: /content/mini_forgery_dataset/Columbia Uncompressed Image Splicing Detection/4cam_auth/edgemask/canonxt_08_sub_02_edgemask_3.jpg  \n",
            "  inflating: /content/mini_forgery_dataset/Columbia Uncompressed Image Splicing Detection/4cam_auth/edgemask/canonxt_08_sub_03_edgemask.jpg  \n",
            "  inflating: /content/mini_forgery_dataset/Columbia Uncompressed Image Splicing Detection/4cam_auth/edgemask/canonxt_08_sub_03_edgemask_3.jpg  \n",
            "  inflating: /content/mini_forgery_dataset/Columbia Uncompressed Image Splicing Detection/4cam_auth/edgemask/canonxt_08_sub_04_edgemask.jpg  \n",
            "  inflating: /content/mini_forgery_dataset/Columbia Uncompressed Image Splicing Detection/4cam_auth/edgemask/canonxt_08_sub_04_edgemask_3.jpg  \n",
            "  inflating: /content/mini_forgery_dataset/Columbia Uncompressed Image Splicing Detection/4cam_auth/edgemask/canonxt_08_sub_05_edgemask.jpg  \n",
            "  inflating: /content/mini_forgery_dataset/Columbia Uncompressed Image Splicing Detection/4cam_auth/edgemask/canonxt_08_sub_05_edgemask_3.jpg  \n",
            "  inflating: /content/mini_forgery_dataset/Columbia Uncompressed Image Splicing Detection/4cam_auth/edgemask/canonxt_08_sub_06_edgemask.jpg  \n",
            "  inflating: /content/mini_forgery_dataset/Columbia Uncompressed Image Splicing Detection/4cam_auth/edgemask/canonxt_08_sub_06_edgemask_3.jpg  \n",
            "  inflating: /content/mini_forgery_dataset/Columbia Uncompressed Image Splicing Detection/4cam_auth/edgemask/canonxt_08_sub_07_edgemask.jpg  \n",
            "  inflating: /content/mini_forgery_dataset/Columbia Uncompressed Image Splicing Detection/4cam_auth/edgemask/canonxt_08_sub_07_edgemask_3.jpg  \n",
            "  inflating: /content/mini_forgery_dataset/Columbia Uncompressed Image Splicing Detection/4cam_auth/edgemask/canonxt_08_sub_08_edgemask.jpg  \n",
            "  inflating: /content/mini_forgery_dataset/Columbia Uncompressed Image Splicing Detection/4cam_auth/edgemask/canonxt_08_sub_08_edgemask_3.jpg  \n",
            "  inflating: /content/mini_forgery_dataset/Columbia Uncompressed Image Splicing Detection/4cam_auth/edgemask/canonxt_08_sub_09_edgemask.jpg  \n",
            "  inflating: /content/mini_forgery_dataset/Columbia Uncompressed Image Splicing Detection/4cam_auth/edgemask/canonxt_08_sub_09_edgemask_3.jpg  \n",
            "  inflating: /content/mini_forgery_dataset/Columbia Uncompressed Image Splicing Detection/4cam_auth/edgemask/canonxt_11_sub_01_edgemask.jpg  \n",
            "  inflating: /content/mini_forgery_dataset/Columbia Uncompressed Image Splicing Detection/4cam_auth/edgemask/canonxt_11_sub_01_edgemask_3.jpg  \n",
            "  inflating: /content/mini_forgery_dataset/Columbia Uncompressed Image Splicing Detection/4cam_auth/edgemask/canonxt_11_sub_02_edgemask.jpg  \n",
            "  inflating: /content/mini_forgery_dataset/Columbia Uncompressed Image Splicing Detection/4cam_auth/edgemask/canonxt_11_sub_02_edgemask_3.jpg  \n",
            "  inflating: /content/mini_forgery_dataset/Columbia Uncompressed Image Splicing Detection/4cam_auth/edgemask/canonxt_11_sub_03_edgemask.jpg  \n",
            "  inflating: /content/mini_forgery_dataset/Columbia Uncompressed Image Splicing Detection/4cam_auth/edgemask/canonxt_11_sub_03_edgemask_3.jpg  \n",
            "  inflating: /content/mini_forgery_dataset/Columbia Uncompressed Image Splicing Detection/4cam_auth/edgemask/canonxt_11_sub_04_edgemask.jpg  \n",
            "  inflating: /content/mini_forgery_dataset/Columbia Uncompressed Image Splicing Detection/4cam_auth/edgemask/canonxt_11_sub_04_edgemask_3.jpg  \n",
            "  inflating: /content/mini_forgery_dataset/Columbia Uncompressed Image Splicing Detection/4cam_auth/edgemask/canonxt_11_sub_05_edgemask.jpg  \n",
            "  inflating: /content/mini_forgery_dataset/Columbia Uncompressed Image Splicing Detection/4cam_auth/edgemask/canonxt_11_sub_05_edgemask_3.jpg  \n",
            "  inflating: /content/mini_forgery_dataset/Columbia Uncompressed Image Splicing Detection/4cam_auth/edgemask/canonxt_11_sub_06_edgemask.jpg  \n",
            "  inflating: /content/mini_forgery_dataset/Columbia Uncompressed Image Splicing Detection/4cam_auth/edgemask/canonxt_11_sub_06_edgemask_3.jpg  \n",
            "  inflating: /content/mini_forgery_dataset/Columbia Uncompressed Image Splicing Detection/4cam_auth/edgemask/canonxt_11_sub_07_edgemask.jpg  \n",
            "  inflating: /content/mini_forgery_dataset/Columbia Uncompressed Image Splicing Detection/4cam_auth/edgemask/canonxt_11_sub_07_edgemask_3.jpg  \n",
            "  inflating: /content/mini_forgery_dataset/Columbia Uncompressed Image Splicing Detection/4cam_auth/edgemask/canonxt_11_sub_08_edgemask.jpg  \n",
            "  inflating: /content/mini_forgery_dataset/Columbia Uncompressed Image Splicing Detection/4cam_auth/edgemask/canonxt_11_sub_08_edgemask_3.jpg  \n",
            "  inflating: /content/mini_forgery_dataset/Columbia Uncompressed Image Splicing Detection/4cam_auth/edgemask/canonxt_11_sub_09_edgemask.jpg  \n",
            "  inflating: /content/mini_forgery_dataset/Columbia Uncompressed Image Splicing Detection/4cam_auth/edgemask/canonxt_11_sub_09_edgemask_3.jpg  \n",
            "  inflating: /content/mini_forgery_dataset/Columbia Uncompressed Image Splicing Detection/4cam_auth/edgemask/canonxt_14_sub_01_edgemask.jpg  \n",
            "  inflating: /content/mini_forgery_dataset/Columbia Uncompressed Image Splicing Detection/4cam_auth/edgemask/canonxt_14_sub_01_edgemask_3.jpg  \n",
            "  inflating: /content/mini_forgery_dataset/Columbia Uncompressed Image Splicing Detection/4cam_auth/edgemask/canonxt_14_sub_02_edgemask.jpg  \n",
            "  inflating: /content/mini_forgery_dataset/Columbia Uncompressed Image Splicing Detection/4cam_auth/edgemask/canonxt_14_sub_02_edgemask_3.jpg  \n",
            "  inflating: /content/mini_forgery_dataset/Columbia Uncompressed Image Splicing Detection/4cam_auth/edgemask/canonxt_14_sub_03_edgemask.jpg  \n",
            "  inflating: /content/mini_forgery_dataset/Columbia Uncompressed Image Splicing Detection/4cam_auth/edgemask/canonxt_14_sub_03_edgemask_3.jpg  \n",
            "  inflating: /content/mini_forgery_dataset/Columbia Uncompressed Image Splicing Detection/4cam_auth/edgemask/canonxt_14_sub_04_edgemask.jpg  \n",
            "  inflating: /content/mini_forgery_dataset/Columbia Uncompressed Image Splicing Detection/4cam_auth/edgemask/canonxt_14_sub_04_edgemask_3.jpg  \n",
            "  inflating: /content/mini_forgery_dataset/Columbia Uncompressed Image Splicing Detection/4cam_auth/edgemask/canonxt_14_sub_05_edgemask.jpg  \n",
            "  inflating: /content/mini_forgery_dataset/Columbia Uncompressed Image Splicing Detection/4cam_auth/edgemask/canonxt_14_sub_05_edgemask_3.jpg  \n",
            "  inflating: /content/mini_forgery_dataset/Columbia Uncompressed Image Splicing Detection/4cam_auth/edgemask/canonxt_14_sub_06_edgemask.jpg  \n",
            "  inflating: /content/mini_forgery_dataset/Columbia Uncompressed Image Splicing Detection/4cam_auth/edgemask/canonxt_14_sub_06_edgemask_3.jpg  \n",
            "  inflating: /content/mini_forgery_dataset/Columbia Uncompressed Image Splicing Detection/4cam_auth/edgemask/canonxt_14_sub_07_edgemask.jpg  \n",
            "  inflating: /content/mini_forgery_dataset/Columbia Uncompressed Image Splicing Detection/4cam_auth/edgemask/canonxt_14_sub_07_edgemask_3.jpg  \n",
            "  inflating: /content/mini_forgery_dataset/Columbia Uncompressed Image Splicing Detection/4cam_auth/edgemask/canonxt_14_sub_08_edgemask.jpg  \n",
            "  inflating: /content/mini_forgery_dataset/Columbia Uncompressed Image Splicing Detection/4cam_auth/edgemask/canonxt_14_sub_08_edgemask_3.jpg  \n",
            "  inflating: /content/mini_forgery_dataset/Columbia Uncompressed Image Splicing Detection/4cam_auth/edgemask/canonxt_14_sub_09_edgemask.jpg  \n",
            "  inflating: /content/mini_forgery_dataset/Columbia Uncompressed Image Splicing Detection/4cam_auth/edgemask/canonxt_14_sub_09_edgemask_3.jpg  \n",
            "  inflating: /content/mini_forgery_dataset/Columbia Uncompressed Image Splicing Detection/4cam_auth/edgemask/canonxt_17_sub_01_edgemask.jpg  \n",
            "  inflating: /content/mini_forgery_dataset/Columbia Uncompressed Image Splicing Detection/4cam_auth/edgemask/canonxt_17_sub_01_edgemask_3.jpg  \n",
            "  inflating: /content/mini_forgery_dataset/Columbia Uncompressed Image Splicing Detection/4cam_auth/edgemask/canonxt_17_sub_02_edgemask.jpg  \n",
            "  inflating: /content/mini_forgery_dataset/Columbia Uncompressed Image Splicing Detection/4cam_auth/edgemask/canonxt_17_sub_02_edgemask_3.jpg  \n",
            "  inflating: /content/mini_forgery_dataset/Columbia Uncompressed Image Splicing Detection/4cam_auth/edgemask/canonxt_17_sub_03_edgemask.jpg  \n",
            "  inflating: /content/mini_forgery_dataset/Columbia Uncompressed Image Splicing Detection/4cam_auth/edgemask/canonxt_17_sub_03_edgemask_3.jpg  \n",
            "  inflating: /content/mini_forgery_dataset/Columbia Uncompressed Image Splicing Detection/4cam_auth/edgemask/canonxt_17_sub_04_edgemask.jpg  \n",
            "  inflating: /content/mini_forgery_dataset/Columbia Uncompressed Image Splicing Detection/4cam_auth/edgemask/canonxt_17_sub_04_edgemask_3.jpg  \n",
            "  inflating: /content/mini_forgery_dataset/Columbia Uncompressed Image Splicing Detection/4cam_auth/edgemask/canonxt_17_sub_05_edgemask.jpg  \n",
            "  inflating: /content/mini_forgery_dataset/Columbia Uncompressed Image Splicing Detection/4cam_auth/edgemask/canonxt_17_sub_05_edgemask_3.jpg  \n",
            "  inflating: /content/mini_forgery_dataset/Columbia Uncompressed Image Splicing Detection/4cam_auth/edgemask/canonxt_17_sub_06_edgemask.jpg  \n",
            "  inflating: /content/mini_forgery_dataset/Columbia Uncompressed Image Splicing Detection/4cam_auth/edgemask/canonxt_17_sub_06_edgemask_3.jpg  \n",
            "  inflating: /content/mini_forgery_dataset/Columbia Uncompressed Image Splicing Detection/4cam_auth/edgemask/canonxt_17_sub_07_edgemask.jpg  \n",
            "  inflating: /content/mini_forgery_dataset/Columbia Uncompressed Image Splicing Detection/4cam_auth/edgemask/canonxt_17_sub_07_edgemask_3.jpg  \n",
            "  inflating: /content/mini_forgery_dataset/Columbia Uncompressed Image Splicing Detection/4cam_auth/edgemask/canonxt_17_sub_08_edgemask.jpg  \n",
            "  inflating: /content/mini_forgery_dataset/Columbia Uncompressed Image Splicing Detection/4cam_auth/edgemask/canonxt_17_sub_08_edgemask_3.jpg  \n",
            "  inflating: /content/mini_forgery_dataset/Columbia Uncompressed Image Splicing Detection/4cam_auth/edgemask/canonxt_17_sub_09_edgemask.jpg  \n",
            "  inflating: /content/mini_forgery_dataset/Columbia Uncompressed Image Splicing Detection/4cam_auth/edgemask/canonxt_17_sub_09_edgemask_3.jpg  \n",
            "  inflating: /content/mini_forgery_dataset/Columbia Uncompressed Image Splicing Detection/4cam_auth/edgemask/canonxt_20_sub_01_edgemask.jpg  \n",
            "  inflating: /content/mini_forgery_dataset/Columbia Uncompressed Image Splicing Detection/4cam_auth/edgemask/canonxt_20_sub_01_edgemask_3.jpg  \n",
            "  inflating: /content/mini_forgery_dataset/Columbia Uncompressed Image Splicing Detection/4cam_auth/edgemask/canonxt_20_sub_02_edgemask.jpg  \n",
            "  inflating: /content/mini_forgery_dataset/Columbia Uncompressed Image Splicing Detection/4cam_auth/edgemask/canonxt_20_sub_02_edgemask_3.jpg  \n",
            "  inflating: /content/mini_forgery_dataset/Columbia Uncompressed Image Splicing Detection/4cam_auth/edgemask/canonxt_20_sub_03_edgemask.jpg  \n",
            "  inflating: /content/mini_forgery_dataset/Columbia Uncompressed Image Splicing Detection/4cam_auth/edgemask/canonxt_20_sub_03_edgemask_3.jpg  \n",
            "  inflating: /content/mini_forgery_dataset/Columbia Uncompressed Image Splicing Detection/4cam_auth/edgemask/canonxt_20_sub_04_edgemask.jpg  \n",
            "  inflating: /content/mini_forgery_dataset/Columbia Uncompressed Image Splicing Detection/4cam_auth/edgemask/canonxt_20_sub_04_edgemask_3.jpg  \n",
            "  inflating: /content/mini_forgery_dataset/Columbia Uncompressed Image Splicing Detection/4cam_auth/edgemask/canonxt_20_sub_05_edgemask.jpg  \n",
            "  inflating: /content/mini_forgery_dataset/Columbia Uncompressed Image Splicing Detection/4cam_auth/edgemask/canonxt_20_sub_05_edgemask_3.jpg  \n",
            "  inflating: /content/mini_forgery_dataset/Columbia Uncompressed Image Splicing Detection/4cam_auth/edgemask/canonxt_20_sub_06_edgemask.jpg  \n",
            "  inflating: /content/mini_forgery_dataset/Columbia Uncompressed Image Splicing Detection/4cam_auth/edgemask/canonxt_20_sub_06_edgemask_3.jpg  \n",
            "  inflating: /content/mini_forgery_dataset/Columbia Uncompressed Image Splicing Detection/4cam_auth/edgemask/canonxt_20_sub_07_edgemask.jpg  \n",
            "  inflating: /content/mini_forgery_dataset/Columbia Uncompressed Image Splicing Detection/4cam_auth/edgemask/canonxt_20_sub_07_edgemask_3.jpg  \n",
            "  inflating: /content/mini_forgery_dataset/Columbia Uncompressed Image Splicing Detection/4cam_auth/edgemask/canonxt_20_sub_08_edgemask.jpg  \n",
            "  inflating: /content/mini_forgery_dataset/Columbia Uncompressed Image Splicing Detection/4cam_auth/edgemask/canonxt_20_sub_08_edgemask_3.jpg  \n",
            "  inflating: /content/mini_forgery_dataset/Columbia Uncompressed Image Splicing Detection/4cam_auth/edgemask/canonxt_20_sub_09_edgemask.jpg  \n",
            "  inflating: /content/mini_forgery_dataset/Columbia Uncompressed Image Splicing Detection/4cam_auth/edgemask/canonxt_20_sub_09_edgemask_3.jpg  \n",
            "  inflating: /content/mini_forgery_dataset/Columbia Uncompressed Image Splicing Detection/4cam_auth/edgemask/canonxt_23_sub_01_edgemask.jpg  \n",
            "  inflating: /content/mini_forgery_dataset/Columbia Uncompressed Image Splicing Detection/4cam_auth/edgemask/canonxt_23_sub_01_edgemask_3.jpg  \n",
            "  inflating: /content/mini_forgery_dataset/Columbia Uncompressed Image Splicing Detection/4cam_auth/edgemask/canonxt_23_sub_02_edgemask.jpg  \n",
            "  inflating: /content/mini_forgery_dataset/Columbia Uncompressed Image Splicing Detection/4cam_auth/edgemask/canonxt_23_sub_02_edgemask_3.jpg  \n",
            "  inflating: /content/mini_forgery_dataset/Columbia Uncompressed Image Splicing Detection/4cam_auth/edgemask/canonxt_23_sub_03_edgemask.jpg  \n",
            "  inflating: /content/mini_forgery_dataset/Columbia Uncompressed Image Splicing Detection/4cam_auth/edgemask/canonxt_23_sub_03_edgemask_3.jpg  \n",
            "  inflating: /content/mini_forgery_dataset/Columbia Uncompressed Image Splicing Detection/4cam_auth/edgemask/canonxt_23_sub_04_edgemask.jpg  \n",
            "  inflating: /content/mini_forgery_dataset/Columbia Uncompressed Image Splicing Detection/4cam_auth/edgemask/canonxt_23_sub_04_edgemask_3.jpg  \n",
            "  inflating: /content/mini_forgery_dataset/Columbia Uncompressed Image Splicing Detection/4cam_auth/edgemask/canonxt_23_sub_05_edgemask.jpg  \n",
            "  inflating: /content/mini_forgery_dataset/Columbia Uncompressed Image Splicing Detection/4cam_auth/edgemask/canonxt_23_sub_05_edgemask_3.jpg  \n",
            "  inflating: /content/mini_forgery_dataset/Columbia Uncompressed Image Splicing Detection/4cam_auth/edgemask/canonxt_23_sub_06_edgemask.jpg  \n",
            "  inflating: /content/mini_forgery_dataset/Columbia Uncompressed Image Splicing Detection/4cam_auth/edgemask/canonxt_23_sub_06_edgemask_3.jpg  \n",
            "  inflating: /content/mini_forgery_dataset/Columbia Uncompressed Image Splicing Detection/4cam_auth/edgemask/canonxt_23_sub_07_edgemask.jpg  \n",
            "  inflating: /content/mini_forgery_dataset/Columbia Uncompressed Image Splicing Detection/4cam_auth/edgemask/canonxt_23_sub_07_edgemask_3.jpg  \n",
            "  inflating: /content/mini_forgery_dataset/Columbia Uncompressed Image Splicing Detection/4cam_auth/edgemask/canonxt_23_sub_08_edgemask.jpg  \n",
            "  inflating: /content/mini_forgery_dataset/Columbia Uncompressed Image Splicing Detection/4cam_auth/edgemask/canonxt_23_sub_08_edgemask_3.jpg  \n",
            "  inflating: /content/mini_forgery_dataset/Columbia Uncompressed Image Splicing Detection/4cam_auth/edgemask/canonxt_23_sub_09_edgemask.jpg  \n",
            "  inflating: /content/mini_forgery_dataset/Columbia Uncompressed Image Splicing Detection/4cam_auth/edgemask/canonxt_23_sub_09_edgemask_3.jpg  \n",
            "  inflating: /content/mini_forgery_dataset/Columbia Uncompressed Image Splicing Detection/4cam_auth/edgemask/canonxt_26_sub_01_edgemask.jpg  \n",
            "  inflating: /content/mini_forgery_dataset/Columbia Uncompressed Image Splicing Detection/4cam_auth/edgemask/canonxt_26_sub_01_edgemask_3.jpg  \n",
            "  inflating: /content/mini_forgery_dataset/Columbia Uncompressed Image Splicing Detection/4cam_auth/edgemask/canonxt_26_sub_02_edgemask.jpg  \n",
            "  inflating: /content/mini_forgery_dataset/Columbia Uncompressed Image Splicing Detection/4cam_auth/edgemask/canonxt_26_sub_02_edgemask_3.jpg  \n",
            "  inflating: /content/mini_forgery_dataset/Columbia Uncompressed Image Splicing Detection/4cam_auth/edgemask/canonxt_26_sub_03_edgemask.jpg  \n",
            "  inflating: /content/mini_forgery_dataset/Columbia Uncompressed Image Splicing Detection/4cam_auth/edgemask/canonxt_26_sub_03_edgemask_3.jpg  \n",
            "  inflating: /content/mini_forgery_dataset/Columbia Uncompressed Image Splicing Detection/4cam_auth/edgemask/canonxt_26_sub_04_edgemask.jpg  \n",
            "  inflating: /content/mini_forgery_dataset/Columbia Uncompressed Image Splicing Detection/4cam_auth/edgemask/canonxt_26_sub_04_edgemask_3.jpg  \n",
            "  inflating: /content/mini_forgery_dataset/Columbia Uncompressed Image Splicing Detection/4cam_auth/edgemask/canonxt_26_sub_05_edgemask.jpg  \n",
            "  inflating: /content/mini_forgery_dataset/Columbia Uncompressed Image Splicing Detection/4cam_auth/edgemask/canonxt_26_sub_05_edgemask_3.jpg  \n",
            "  inflating: /content/mini_forgery_dataset/Columbia Uncompressed Image Splicing Detection/4cam_auth/edgemask/canonxt_26_sub_06_edgemask.jpg  \n",
            "  inflating: /content/mini_forgery_dataset/Columbia Uncompressed Image Splicing Detection/4cam_auth/edgemask/canonxt_26_sub_06_edgemask_3.jpg  \n",
            "  inflating: /content/mini_forgery_dataset/Columbia Uncompressed Image Splicing Detection/4cam_auth/edgemask/canonxt_26_sub_07_edgemask.jpg  \n",
            "  inflating: /content/mini_forgery_dataset/Columbia Uncompressed Image Splicing Detection/4cam_auth/edgemask/canonxt_26_sub_07_edgemask_3.jpg  \n",
            "  inflating: /content/mini_forgery_dataset/Columbia Uncompressed Image Splicing Detection/4cam_auth/edgemask/canonxt_26_sub_08_edgemask.jpg  \n",
            "  inflating: /content/mini_forgery_dataset/Columbia Uncompressed Image Splicing Detection/4cam_auth/edgemask/canonxt_26_sub_08_edgemask_3.jpg  \n",
            "  inflating: /content/mini_forgery_dataset/Columbia Uncompressed Image Splicing Detection/4cam_auth/edgemask/canonxt_26_sub_09_edgemask.jpg  \n",
            "  inflating: /content/mini_forgery_dataset/Columbia Uncompressed Image Splicing Detection/4cam_auth/edgemask/canonxt_26_sub_09_edgemask_3.jpg  \n",
            "  inflating: /content/mini_forgery_dataset/Columbia Uncompressed Image Splicing Detection/4cam_auth/edgemask/canonxt_29_sub_01_edgemask.jpg  \n",
            "  inflating: /content/mini_forgery_dataset/Columbia Uncompressed Image Splicing Detection/4cam_auth/edgemask/canonxt_29_sub_01_edgemask_3.jpg  \n",
            "  inflating: /content/mini_forgery_dataset/Columbia Uncompressed Image Splicing Detection/4cam_auth/edgemask/canonxt_29_sub_02_edgemask.jpg  \n",
            "  inflating: /content/mini_forgery_dataset/Columbia Uncompressed Image Splicing Detection/4cam_auth/edgemask/canonxt_29_sub_02_edgemask_3.jpg  \n",
            "  inflating: /content/mini_forgery_dataset/Columbia Uncompressed Image Splicing Detection/4cam_auth/edgemask/canonxt_29_sub_03_edgemask.jpg  \n",
            "  inflating: /content/mini_forgery_dataset/Columbia Uncompressed Image Splicing Detection/4cam_auth/edgemask/canonxt_29_sub_03_edgemask_3.jpg  \n",
            "  inflating: /content/mini_forgery_dataset/Columbia Uncompressed Image Splicing Detection/4cam_auth/edgemask/canonxt_29_sub_04_edgemask.jpg  \n",
            "  inflating: /content/mini_forgery_dataset/Columbia Uncompressed Image Splicing Detection/4cam_auth/edgemask/canonxt_29_sub_04_edgemask_3.jpg  \n",
            "  inflating: /content/mini_forgery_dataset/Columbia Uncompressed Image Splicing Detection/4cam_auth/edgemask/canonxt_29_sub_05_edgemask.jpg  \n",
            "  inflating: /content/mini_forgery_dataset/Columbia Uncompressed Image Splicing Detection/4cam_auth/edgemask/canonxt_29_sub_05_edgemask_3.jpg  \n",
            "  inflating: /content/mini_forgery_dataset/Columbia Uncompressed Image Splicing Detection/4cam_auth/edgemask/canonxt_29_sub_06_edgemask.jpg  \n",
            "  inflating: /content/mini_forgery_dataset/Columbia Uncompressed Image Splicing Detection/4cam_auth/edgemask/canonxt_29_sub_06_edgemask_3.jpg  \n",
            "  inflating: /content/mini_forgery_dataset/Columbia Uncompressed Image Splicing Detection/4cam_auth/edgemask/canonxt_29_sub_07_edgemask.jpg  \n",
            "  inflating: /content/mini_forgery_dataset/Columbia Uncompressed Image Splicing Detection/4cam_auth/edgemask/canonxt_29_sub_07_edgemask_3.jpg  \n",
            "  inflating: /content/mini_forgery_dataset/Columbia Uncompressed Image Splicing Detection/4cam_auth/edgemask/canonxt_29_sub_08_edgemask.jpg  \n",
            "  inflating: /content/mini_forgery_dataset/Columbia Uncompressed Image Splicing Detection/4cam_auth/edgemask/canonxt_29_sub_08_edgemask_3.jpg  \n",
            "  inflating: /content/mini_forgery_dataset/Columbia Uncompressed Image Splicing Detection/4cam_auth/edgemask/canonxt_29_sub_09_edgemask.jpg  \n",
            "  inflating: /content/mini_forgery_dataset/Columbia Uncompressed Image Splicing Detection/4cam_auth/edgemask/canonxt_29_sub_09_edgemask_3.jpg  \n",
            "  inflating: /content/mini_forgery_dataset/Columbia Uncompressed Image Splicing Detection/4cam_auth/edgemask/canonxt_32_sub_01_edgemask.jpg  \n",
            "  inflating: /content/mini_forgery_dataset/Columbia Uncompressed Image Splicing Detection/4cam_auth/edgemask/canonxt_32_sub_01_edgemask_3.jpg  \n",
            "  inflating: /content/mini_forgery_dataset/Columbia Uncompressed Image Splicing Detection/4cam_auth/edgemask/canonxt_32_sub_02_edgemask.jpg  \n",
            "  inflating: /content/mini_forgery_dataset/Columbia Uncompressed Image Splicing Detection/4cam_auth/edgemask/canonxt_32_sub_02_edgemask_3.jpg  \n",
            "  inflating: /content/mini_forgery_dataset/Columbia Uncompressed Image Splicing Detection/4cam_auth/edgemask/canonxt_32_sub_03_edgemask.jpg  \n",
            "  inflating: /content/mini_forgery_dataset/Columbia Uncompressed Image Splicing Detection/4cam_auth/edgemask/canonxt_32_sub_03_edgemask_3.jpg  \n",
            "  inflating: /content/mini_forgery_dataset/Columbia Uncompressed Image Splicing Detection/4cam_auth/edgemask/canonxt_32_sub_04_edgemask.jpg  \n",
            "  inflating: /content/mini_forgery_dataset/Columbia Uncompressed Image Splicing Detection/4cam_auth/edgemask/canonxt_32_sub_04_edgemask_3.jpg  \n",
            "  inflating: /content/mini_forgery_dataset/Columbia Uncompressed Image Splicing Detection/4cam_auth/edgemask/canonxt_32_sub_05_edgemask.jpg  \n",
            "  inflating: /content/mini_forgery_dataset/Columbia Uncompressed Image Splicing Detection/4cam_auth/edgemask/canonxt_32_sub_05_edgemask_3.jpg  \n",
            "  inflating: /content/mini_forgery_dataset/Columbia Uncompressed Image Splicing Detection/4cam_auth/edgemask/canonxt_32_sub_06_edgemask.jpg  \n",
            "  inflating: /content/mini_forgery_dataset/Columbia Uncompressed Image Splicing Detection/4cam_auth/edgemask/canonxt_32_sub_06_edgemask_3.jpg  \n",
            "  inflating: /content/mini_forgery_dataset/Columbia Uncompressed Image Splicing Detection/4cam_auth/edgemask/canonxt_32_sub_07_edgemask.jpg  \n",
            "  inflating: /content/mini_forgery_dataset/Columbia Uncompressed Image Splicing Detection/4cam_auth/edgemask/canonxt_32_sub_07_edgemask_3.jpg  \n",
            "  inflating: /content/mini_forgery_dataset/Columbia Uncompressed Image Splicing Detection/4cam_auth/edgemask/canonxt_32_sub_08_edgemask.jpg  \n",
            "  inflating: /content/mini_forgery_dataset/Columbia Uncompressed Image Splicing Detection/4cam_auth/edgemask/canonxt_32_sub_08_edgemask_3.jpg  \n",
            "  inflating: /content/mini_forgery_dataset/Columbia Uncompressed Image Splicing Detection/4cam_auth/edgemask/canonxt_32_sub_09_edgemask.jpg  \n",
            "  inflating: /content/mini_forgery_dataset/Columbia Uncompressed Image Splicing Detection/4cam_auth/edgemask/canonxt_32_sub_09_edgemask_3.jpg  \n",
            "  inflating: /content/mini_forgery_dataset/Columbia Uncompressed Image Splicing Detection/4cam_auth/edgemask/canonxt_35_sub_01_edgemask.jpg  \n",
            "  inflating: /content/mini_forgery_dataset/Columbia Uncompressed Image Splicing Detection/4cam_auth/edgemask/canonxt_35_sub_01_edgemask_3.jpg  \n",
            "  inflating: /content/mini_forgery_dataset/Columbia Uncompressed Image Splicing Detection/4cam_auth/edgemask/canonxt_35_sub_02_edgemask.jpg  \n",
            "  inflating: /content/mini_forgery_dataset/Columbia Uncompressed Image Splicing Detection/4cam_auth/edgemask/canonxt_35_sub_02_edgemask_3.jpg  \n",
            "  inflating: /content/mini_forgery_dataset/Columbia Uncompressed Image Splicing Detection/4cam_auth/edgemask/canonxt_35_sub_03_edgemask.jpg  \n",
            "  inflating: /content/mini_forgery_dataset/Columbia Uncompressed Image Splicing Detection/4cam_auth/edgemask/canonxt_35_sub_03_edgemask_3.jpg  \n",
            "  inflating: /content/mini_forgery_dataset/Columbia Uncompressed Image Splicing Detection/4cam_auth/edgemask/canonxt_35_sub_04_edgemask.jpg  \n",
            "  inflating: /content/mini_forgery_dataset/Columbia Uncompressed Image Splicing Detection/4cam_auth/edgemask/canonxt_35_sub_04_edgemask_3.jpg  \n",
            "  inflating: /content/mini_forgery_dataset/Columbia Uncompressed Image Splicing Detection/4cam_auth/edgemask/canonxt_35_sub_05_edgemask.jpg  \n",
            "  inflating: /content/mini_forgery_dataset/Columbia Uncompressed Image Splicing Detection/4cam_auth/edgemask/canonxt_35_sub_05_edgemask_3.jpg  \n",
            "  inflating: /content/mini_forgery_dataset/Columbia Uncompressed Image Splicing Detection/4cam_auth/edgemask/canonxt_35_sub_06_edgemask.jpg  \n",
            "  inflating: /content/mini_forgery_dataset/Columbia Uncompressed Image Splicing Detection/4cam_auth/edgemask/canonxt_35_sub_06_edgemask_3.jpg  \n",
            "  inflating: /content/mini_forgery_dataset/Columbia Uncompressed Image Splicing Detection/4cam_auth/edgemask/canonxt_35_sub_07_edgemask.jpg  \n",
            "  inflating: /content/mini_forgery_dataset/Columbia Uncompressed Image Splicing Detection/4cam_auth/edgemask/canonxt_35_sub_07_edgemask_3.jpg  \n",
            "  inflating: /content/mini_forgery_dataset/Columbia Uncompressed Image Splicing Detection/4cam_auth/edgemask/canonxt_35_sub_08_edgemask.jpg  \n",
            "  inflating: /content/mini_forgery_dataset/Columbia Uncompressed Image Splicing Detection/4cam_auth/edgemask/canonxt_35_sub_08_edgemask_3.jpg  \n",
            "  inflating: /content/mini_forgery_dataset/Columbia Uncompressed Image Splicing Detection/4cam_auth/edgemask/canonxt_35_sub_09_edgemask.jpg  \n",
            "  inflating: /content/mini_forgery_dataset/Columbia Uncompressed Image Splicing Detection/4cam_auth/edgemask/canonxt_35_sub_09_edgemask_3.jpg  \n",
            "  inflating: /content/mini_forgery_dataset/Columbia Uncompressed Image Splicing Detection/4cam_auth/edgemask/canonxt_38_sub_01_edgemask.jpg  \n",
            "  inflating: /content/mini_forgery_dataset/Columbia Uncompressed Image Splicing Detection/4cam_auth/edgemask/canonxt_38_sub_01_edgemask_3.jpg  \n",
            "  inflating: /content/mini_forgery_dataset/Columbia Uncompressed Image Splicing Detection/4cam_auth/edgemask/canonxt_38_sub_02_edgemask.jpg  \n",
            "  inflating: /content/mini_forgery_dataset/Columbia Uncompressed Image Splicing Detection/4cam_auth/edgemask/canonxt_38_sub_02_edgemask_3.jpg  \n",
            "  inflating: /content/mini_forgery_dataset/Columbia Uncompressed Image Splicing Detection/4cam_auth/edgemask/canonxt_38_sub_03_edgemask.jpg  \n",
            "  inflating: /content/mini_forgery_dataset/Columbia Uncompressed Image Splicing Detection/4cam_auth/edgemask/canonxt_38_sub_03_edgemask_3.jpg  \n",
            "  inflating: /content/mini_forgery_dataset/Columbia Uncompressed Image Splicing Detection/4cam_auth/edgemask/canonxt_38_sub_04_edgemask.jpg  \n",
            "  inflating: /content/mini_forgery_dataset/Columbia Uncompressed Image Splicing Detection/4cam_auth/edgemask/canonxt_38_sub_04_edgemask_3.jpg  \n",
            "  inflating: /content/mini_forgery_dataset/Columbia Uncompressed Image Splicing Detection/4cam_auth/edgemask/canonxt_38_sub_05_edgemask.jpg  \n",
            "  inflating: /content/mini_forgery_dataset/Columbia Uncompressed Image Splicing Detection/4cam_auth/edgemask/canonxt_38_sub_05_edgemask_3.jpg  \n",
            "  inflating: /content/mini_forgery_dataset/Columbia Uncompressed Image Splicing Detection/4cam_auth/edgemask/canonxt_38_sub_06_edgemask.jpg  \n",
            "  inflating: /content/mini_forgery_dataset/Columbia Uncompressed Image Splicing Detection/4cam_auth/edgemask/canonxt_38_sub_06_edgemask_3.jpg  \n",
            "  inflating: /content/mini_forgery_dataset/Columbia Uncompressed Image Splicing Detection/4cam_auth/edgemask/canonxt_38_sub_07_edgemask.jpg  \n",
            "  inflating: /content/mini_forgery_dataset/Columbia Uncompressed Image Splicing Detection/4cam_auth/edgemask/canonxt_38_sub_07_edgemask_3.jpg  \n",
            "  inflating: /content/mini_forgery_dataset/Columbia Uncompressed Image Splicing Detection/4cam_auth/edgemask/canonxt_38_sub_08_edgemask.jpg  \n",
            "  inflating: /content/mini_forgery_dataset/Columbia Uncompressed Image Splicing Detection/4cam_auth/edgemask/canonxt_38_sub_08_edgemask_3.jpg  \n",
            "  inflating: /content/mini_forgery_dataset/Columbia Uncompressed Image Splicing Detection/4cam_auth/edgemask/canonxt_38_sub_09_edgemask.jpg  \n",
            "  inflating: /content/mini_forgery_dataset/Columbia Uncompressed Image Splicing Detection/4cam_auth/edgemask/canonxt_38_sub_09_edgemask_3.jpg  \n",
            "  inflating: /content/mini_forgery_dataset/Columbia Uncompressed Image Splicing Detection/4cam_auth/edgemask/kodakdcs330_01_sub_01_edgemask.jpg  \n",
            "  inflating: /content/mini_forgery_dataset/Columbia Uncompressed Image Splicing Detection/4cam_auth/edgemask/kodakdcs330_01_sub_01_edgemask_3.jpg  \n",
            "  inflating: /content/mini_forgery_dataset/Columbia Uncompressed Image Splicing Detection/4cam_auth/edgemask/kodakdcs330_02_sub_01_edgemask.jpg  \n",
            "  inflating: /content/mini_forgery_dataset/Columbia Uncompressed Image Splicing Detection/4cam_auth/edgemask/kodakdcs330_02_sub_01_edgemask_3.jpg  \n",
            "  inflating: /content/mini_forgery_dataset/Columbia Uncompressed Image Splicing Detection/4cam_auth/edgemask/kodakdcs330_03_sub_01_edgemask.jpg  \n",
            "  inflating: /content/mini_forgery_dataset/Columbia Uncompressed Image Splicing Detection/4cam_auth/edgemask/kodakdcs330_03_sub_01_edgemask_3.jpg  \n",
            "  inflating: /content/mini_forgery_dataset/Columbia Uncompressed Image Splicing Detection/4cam_auth/edgemask/nikond70_02_sub_01_edgemask.jpg  \n",
            "  inflating: /content/mini_forgery_dataset/Columbia Uncompressed Image Splicing Detection/4cam_auth/edgemask/nikond70_02_sub_01_edgemask_3.jpg  \n",
            "  inflating: /content/mini_forgery_dataset/Columbia Uncompressed Image Splicing Detection/4cam_auth/edgemask/nikond70_02_sub_02_edgemask.jpg  \n",
            "  inflating: /content/mini_forgery_dataset/Columbia Uncompressed Image Splicing Detection/4cam_auth/edgemask/nikond70_02_sub_02_edgemask_3.jpg  \n",
            "  inflating: /content/mini_forgery_dataset/Columbia Uncompressed Image Splicing Detection/4cam_auth/edgemask/nikond70_02_sub_03_edgemask.jpg  \n",
            "  inflating: /content/mini_forgery_dataset/Columbia Uncompressed Image Splicing Detection/4cam_auth/edgemask/nikond70_02_sub_03_edgemask_3.jpg  \n",
            "  inflating: /content/mini_forgery_dataset/Columbia Uncompressed Image Splicing Detection/4cam_auth/edgemask/nikond70_02_sub_04_edgemask.jpg  \n",
            "  inflating: /content/mini_forgery_dataset/Columbia Uncompressed Image Splicing Detection/4cam_auth/edgemask/nikond70_02_sub_04_edgemask_3.jpg  \n",
            "  inflating: /content/mini_forgery_dataset/Columbia Uncompressed Image Splicing Detection/4cam_auth/edgemask/nikond70_02_sub_05_edgemask.jpg  \n",
            "  inflating: /content/mini_forgery_dataset/Columbia Uncompressed Image Splicing Detection/4cam_auth/edgemask/nikond70_02_sub_05_edgemask_3.jpg  \n",
            "  inflating: /content/mini_forgery_dataset/Columbia Uncompressed Image Splicing Detection/4cam_auth/edgemask/nikond70_02_sub_06_edgemask.jpg  \n",
            "  inflating: /content/mini_forgery_dataset/Columbia Uncompressed Image Splicing Detection/4cam_auth/edgemask/nikond70_02_sub_06_edgemask_3.jpg  \n",
            "  inflating: /content/mini_forgery_dataset/Columbia Uncompressed Image Splicing Detection/4cam_auth/edgemask/nikond70_02_sub_07_edgemask.jpg  \n",
            "  inflating: /content/mini_forgery_dataset/Columbia Uncompressed Image Splicing Detection/4cam_auth/edgemask/nikond70_02_sub_07_edgemask_3.jpg  \n",
            "  inflating: /content/mini_forgery_dataset/Columbia Uncompressed Image Splicing Detection/4cam_auth/edgemask/nikond70_02_sub_08_edgemask.jpg  \n",
            "  inflating: /content/mini_forgery_dataset/Columbia Uncompressed Image Splicing Detection/4cam_auth/edgemask/nikond70_02_sub_08_edgemask_3.jpg  \n",
            "  inflating: /content/mini_forgery_dataset/Columbia Uncompressed Image Splicing Detection/4cam_auth/edgemask/nikond70_02_sub_09_edgemask.jpg  \n",
            "  inflating: /content/mini_forgery_dataset/Columbia Uncompressed Image Splicing Detection/4cam_auth/edgemask/nikond70_02_sub_09_edgemask_3.jpg  \n",
            "  inflating: /content/mini_forgery_dataset/Columbia Uncompressed Image Splicing Detection/4cam_auth/edgemask/nikond70_05_sub_01_edgemask.jpg  \n",
            "  inflating: /content/mini_forgery_dataset/Columbia Uncompressed Image Splicing Detection/4cam_auth/edgemask/nikond70_05_sub_01_edgemask_3.jpg  \n",
            "  inflating: /content/mini_forgery_dataset/Columbia Uncompressed Image Splicing Detection/4cam_auth/edgemask/nikond70_05_sub_02_edgemask.jpg  \n",
            "  inflating: /content/mini_forgery_dataset/Columbia Uncompressed Image Splicing Detection/4cam_auth/edgemask/nikond70_05_sub_02_edgemask_3.jpg  \n",
            "  inflating: /content/mini_forgery_dataset/Columbia Uncompressed Image Splicing Detection/4cam_auth/edgemask/nikond70_05_sub_03_edgemask.jpg  \n",
            "  inflating: /content/mini_forgery_dataset/Columbia Uncompressed Image Splicing Detection/4cam_auth/edgemask/nikond70_05_sub_03_edgemask_3.jpg  \n",
            "  inflating: /content/mini_forgery_dataset/Columbia Uncompressed Image Splicing Detection/4cam_auth/edgemask/nikond70_05_sub_04_edgemask.jpg  \n",
            "  inflating: /content/mini_forgery_dataset/Columbia Uncompressed Image Splicing Detection/4cam_auth/edgemask/nikond70_05_sub_04_edgemask_3.jpg  \n",
            "  inflating: /content/mini_forgery_dataset/Columbia Uncompressed Image Splicing Detection/4cam_auth/edgemask/nikond70_05_sub_05_edgemask.jpg  \n",
            "  inflating: /content/mini_forgery_dataset/Columbia Uncompressed Image Splicing Detection/4cam_auth/edgemask/nikond70_05_sub_05_edgemask_3.jpg  \n",
            "  inflating: /content/mini_forgery_dataset/Columbia Uncompressed Image Splicing Detection/4cam_auth/edgemask/nikond70_05_sub_06_edgemask.jpg  \n",
            "  inflating: /content/mini_forgery_dataset/Columbia Uncompressed Image Splicing Detection/4cam_auth/edgemask/nikond70_05_sub_06_edgemask_3.jpg  \n",
            "  inflating: /content/mini_forgery_dataset/Columbia Uncompressed Image Splicing Detection/4cam_auth/edgemask/nikond70_05_sub_07_edgemask.jpg  \n",
            "  inflating: /content/mini_forgery_dataset/Columbia Uncompressed Image Splicing Detection/4cam_auth/edgemask/nikond70_05_sub_07_edgemask_3.jpg  \n",
            "  inflating: /content/mini_forgery_dataset/Columbia Uncompressed Image Splicing Detection/4cam_auth/edgemask/nikond70_05_sub_08_edgemask.jpg  \n",
            "  inflating: /content/mini_forgery_dataset/Columbia Uncompressed Image Splicing Detection/4cam_auth/edgemask/nikond70_05_sub_08_edgemask_3.jpg  \n",
            "  inflating: /content/mini_forgery_dataset/Columbia Uncompressed Image Splicing Detection/4cam_auth/edgemask/nikond70_05_sub_09_edgemask.jpg  \n",
            "  inflating: /content/mini_forgery_dataset/Columbia Uncompressed Image Splicing Detection/4cam_auth/edgemask/nikond70_05_sub_09_edgemask_3.jpg  \n",
            "  inflating: /content/mini_forgery_dataset/Columbia Uncompressed Image Splicing Detection/4cam_auth/edgemask/nikond70_08_sub_01_edgemask.jpg  \n",
            "  inflating: /content/mini_forgery_dataset/Columbia Uncompressed Image Splicing Detection/4cam_auth/edgemask/nikond70_08_sub_01_edgemask_3.jpg  \n",
            "  inflating: /content/mini_forgery_dataset/Columbia Uncompressed Image Splicing Detection/4cam_auth/edgemask/nikond70_08_sub_02_edgemask.jpg  \n",
            "  inflating: /content/mini_forgery_dataset/Columbia Uncompressed Image Splicing Detection/4cam_auth/edgemask/nikond70_08_sub_02_edgemask_3.jpg  \n",
            "  inflating: /content/mini_forgery_dataset/Columbia Uncompressed Image Splicing Detection/4cam_auth/edgemask/nikond70_08_sub_03_edgemask.jpg  \n",
            "  inflating: /content/mini_forgery_dataset/Columbia Uncompressed Image Splicing Detection/4cam_auth/edgemask/nikond70_08_sub_03_edgemask_3.jpg  \n",
            "  inflating: /content/mini_forgery_dataset/Columbia Uncompressed Image Splicing Detection/4cam_auth/edgemask/nikond70_08_sub_04_edgemask.jpg  \n",
            "  inflating: /content/mini_forgery_dataset/Columbia Uncompressed Image Splicing Detection/4cam_auth/edgemask/nikond70_08_sub_04_edgemask_3.jpg  \n",
            "  inflating: /content/mini_forgery_dataset/Columbia Uncompressed Image Splicing Detection/4cam_auth/edgemask/nikond70_08_sub_05_edgemask.jpg  \n",
            "  inflating: /content/mini_forgery_dataset/Columbia Uncompressed Image Splicing Detection/4cam_auth/edgemask/nikond70_08_sub_05_edgemask_3.jpg  \n",
            "  inflating: /content/mini_forgery_dataset/Columbia Uncompressed Image Splicing Detection/4cam_auth/edgemask/nikond70_08_sub_06_edgemask.jpg  \n",
            "  inflating: /content/mini_forgery_dataset/Columbia Uncompressed Image Splicing Detection/4cam_auth/edgemask/nikond70_08_sub_06_edgemask_3.jpg  \n",
            "  inflating: /content/mini_forgery_dataset/Columbia Uncompressed Image Splicing Detection/4cam_auth/edgemask/nikond70_08_sub_07_edgemask.jpg  \n",
            "  inflating: /content/mini_forgery_dataset/Columbia Uncompressed Image Splicing Detection/4cam_auth/edgemask/nikond70_08_sub_07_edgemask_3.jpg  \n",
            "  inflating: /content/mini_forgery_dataset/Columbia Uncompressed Image Splicing Detection/4cam_auth/edgemask/nikond70_08_sub_08_edgemask.jpg  \n",
            "  inflating: /content/mini_forgery_dataset/Columbia Uncompressed Image Splicing Detection/4cam_auth/edgemask/nikond70_08_sub_08_edgemask_3.jpg  \n",
            "  inflating: /content/mini_forgery_dataset/Columbia Uncompressed Image Splicing Detection/4cam_auth/edgemask/nikond70_08_sub_09_edgemask.jpg  \n",
            "  inflating: /content/mini_forgery_dataset/Columbia Uncompressed Image Splicing Detection/4cam_auth/edgemask/nikond70_08_sub_09_edgemask_3.jpg  \n",
            "  inflating: /content/mini_forgery_dataset/Columbia Uncompressed Image Splicing Detection/4cam_auth/edgemask/nikond70_11_sub_01_edgemask.jpg  \n",
            "  inflating: /content/mini_forgery_dataset/Columbia Uncompressed Image Splicing Detection/4cam_auth/edgemask/nikond70_11_sub_01_edgemask_3.jpg  \n",
            "  inflating: /content/mini_forgery_dataset/Columbia Uncompressed Image Splicing Detection/4cam_auth/edgemask/nikond70_11_sub_02_edgemask.jpg  \n",
            "  inflating: /content/mini_forgery_dataset/Columbia Uncompressed Image Splicing Detection/4cam_auth/edgemask/nikond70_11_sub_02_edgemask_3.jpg  \n",
            "  inflating: /content/mini_forgery_dataset/Columbia Uncompressed Image Splicing Detection/4cam_auth/edgemask/nikond70_11_sub_03_edgemask.jpg  \n",
            "  inflating: /content/mini_forgery_dataset/Columbia Uncompressed Image Splicing Detection/4cam_auth/edgemask/nikond70_11_sub_03_edgemask_3.jpg  \n",
            "  inflating: /content/mini_forgery_dataset/Columbia Uncompressed Image Splicing Detection/4cam_auth/edgemask/nikond70_11_sub_04_edgemask.jpg  \n",
            "  inflating: /content/mini_forgery_dataset/Columbia Uncompressed Image Splicing Detection/4cam_auth/edgemask/nikond70_11_sub_04_edgemask_3.jpg  \n",
            "  inflating: /content/mini_forgery_dataset/Columbia Uncompressed Image Splicing Detection/4cam_auth/edgemask/nikond70_11_sub_05_edgemask.jpg  \n",
            "  inflating: /content/mini_forgery_dataset/Columbia Uncompressed Image Splicing Detection/4cam_auth/edgemask/nikond70_11_sub_05_edgemask_3.jpg  \n",
            "  inflating: /content/mini_forgery_dataset/Columbia Uncompressed Image Splicing Detection/4cam_auth/edgemask/nikond70_11_sub_06_edgemask.jpg  \n",
            "  inflating: /content/mini_forgery_dataset/Columbia Uncompressed Image Splicing Detection/4cam_auth/edgemask/nikond70_11_sub_06_edgemask_3.jpg  \n",
            "  inflating: /content/mini_forgery_dataset/Columbia Uncompressed Image Splicing Detection/4cam_auth/edgemask/nikond70_11_sub_07_edgemask.jpg  \n",
            "  inflating: /content/mini_forgery_dataset/Columbia Uncompressed Image Splicing Detection/4cam_auth/edgemask/nikond70_11_sub_07_edgemask_3.jpg  \n",
            "  inflating: /content/mini_forgery_dataset/Columbia Uncompressed Image Splicing Detection/4cam_auth/edgemask/nikond70_11_sub_08_edgemask.jpg  \n",
            "  inflating: /content/mini_forgery_dataset/Columbia Uncompressed Image Splicing Detection/4cam_auth/edgemask/nikond70_11_sub_08_edgemask_3.jpg  \n",
            "  inflating: /content/mini_forgery_dataset/Columbia Uncompressed Image Splicing Detection/4cam_auth/edgemask/nikond70_11_sub_09_edgemask.jpg  \n",
            "  inflating: /content/mini_forgery_dataset/Columbia Uncompressed Image Splicing Detection/4cam_auth/edgemask/nikond70_11_sub_09_edgemask_3.jpg  \n",
            "  inflating: /content/mini_forgery_dataset/Columbia Uncompressed Image Splicing Detection/4cam_splc/4cam_splc/canong3_canonxt_sub_01.tif  \n",
            "  inflating: /content/mini_forgery_dataset/Columbia Uncompressed Image Splicing Detection/4cam_splc/4cam_splc/canong3_canonxt_sub_02.tif  \n",
            "  inflating: /content/mini_forgery_dataset/Columbia Uncompressed Image Splicing Detection/4cam_splc/4cam_splc/canong3_canonxt_sub_03.tif  \n",
            "  inflating: /content/mini_forgery_dataset/Columbia Uncompressed Image Splicing Detection/4cam_splc/4cam_splc/canong3_canonxt_sub_04.tif  \n",
            "  inflating: /content/mini_forgery_dataset/Columbia Uncompressed Image Splicing Detection/4cam_splc/4cam_splc/canong3_canonxt_sub_05.tif  \n",
            "  inflating: /content/mini_forgery_dataset/Columbia Uncompressed Image Splicing Detection/4cam_splc/4cam_splc/canong3_canonxt_sub_06.tif  \n",
            "  inflating: /content/mini_forgery_dataset/Columbia Uncompressed Image Splicing Detection/4cam_splc/4cam_splc/canong3_canonxt_sub_07.tif  \n",
            "  inflating: /content/mini_forgery_dataset/Columbia Uncompressed Image Splicing Detection/4cam_splc/4cam_splc/canong3_canonxt_sub_08.tif  \n",
            "  inflating: /content/mini_forgery_dataset/Columbia Uncompressed Image Splicing Detection/4cam_splc/4cam_splc/canong3_canonxt_sub_09.tif  \n",
            "  inflating: /content/mini_forgery_dataset/Columbia Uncompressed Image Splicing Detection/4cam_splc/4cam_splc/canong3_canonxt_sub_10.tif  \n",
            "  inflating: /content/mini_forgery_dataset/Columbia Uncompressed Image Splicing Detection/4cam_splc/4cam_splc/canong3_canonxt_sub_11.tif  \n",
            "  inflating: /content/mini_forgery_dataset/Columbia Uncompressed Image Splicing Detection/4cam_splc/4cam_splc/canong3_canonxt_sub_12.tif  \n",
            "  inflating: /content/mini_forgery_dataset/Columbia Uncompressed Image Splicing Detection/4cam_splc/4cam_splc/canong3_canonxt_sub_13.tif  \n",
            "  inflating: /content/mini_forgery_dataset/Columbia Uncompressed Image Splicing Detection/4cam_splc/4cam_splc/canong3_canonxt_sub_14.tif  \n",
            "  inflating: /content/mini_forgery_dataset/Columbia Uncompressed Image Splicing Detection/4cam_splc/4cam_splc/canong3_canonxt_sub_15.tif  \n",
            "  inflating: /content/mini_forgery_dataset/Columbia Uncompressed Image Splicing Detection/4cam_splc/4cam_splc/canong3_canonxt_sub_16.tif  \n",
            "  inflating: /content/mini_forgery_dataset/Columbia Uncompressed Image Splicing Detection/4cam_splc/4cam_splc/canong3_canonxt_sub_17.tif  \n",
            "  inflating: /content/mini_forgery_dataset/Columbia Uncompressed Image Splicing Detection/4cam_splc/4cam_splc/canong3_canonxt_sub_18.tif  \n",
            "  inflating: /content/mini_forgery_dataset/Columbia Uncompressed Image Splicing Detection/4cam_splc/4cam_splc/canong3_canonxt_sub_19.tif  \n",
            "  inflating: /content/mini_forgery_dataset/Columbia Uncompressed Image Splicing Detection/4cam_splc/4cam_splc/canong3_canonxt_sub_20.tif  \n",
            "  inflating: /content/mini_forgery_dataset/Columbia Uncompressed Image Splicing Detection/4cam_splc/4cam_splc/canong3_canonxt_sub_21.tif  \n",
            "  inflating: /content/mini_forgery_dataset/Columbia Uncompressed Image Splicing Detection/4cam_splc/4cam_splc/canong3_canonxt_sub_22.tif  \n",
            "  inflating: /content/mini_forgery_dataset/Columbia Uncompressed Image Splicing Detection/4cam_splc/4cam_splc/canong3_canonxt_sub_23.tif  \n",
            "  inflating: /content/mini_forgery_dataset/Columbia Uncompressed Image Splicing Detection/4cam_splc/4cam_splc/canong3_canonxt_sub_24.tif  \n",
            "  inflating: /content/mini_forgery_dataset/Columbia Uncompressed Image Splicing Detection/4cam_splc/4cam_splc/canong3_canonxt_sub_25.tif  \n",
            "  inflating: /content/mini_forgery_dataset/Columbia Uncompressed Image Splicing Detection/4cam_splc/4cam_splc/canong3_canonxt_sub_26.tif  \n",
            "  inflating: /content/mini_forgery_dataset/Columbia Uncompressed Image Splicing Detection/4cam_splc/4cam_splc/canong3_canonxt_sub_27.tif  \n",
            "  inflating: /content/mini_forgery_dataset/Columbia Uncompressed Image Splicing Detection/4cam_splc/4cam_splc/canong3_canonxt_sub_28.tif  \n",
            "  inflating: /content/mini_forgery_dataset/Columbia Uncompressed Image Splicing Detection/4cam_splc/4cam_splc/canong3_canonxt_sub_29.tif  \n",
            "  inflating: /content/mini_forgery_dataset/Columbia Uncompressed Image Splicing Detection/4cam_splc/4cam_splc/canong3_canonxt_sub_30.tif  \n",
            "  inflating: /content/mini_forgery_dataset/Columbia Uncompressed Image Splicing Detection/4cam_splc/4cam_splc/canong3_kodakdcs330_sub_01.tif  \n",
            "  inflating: /content/mini_forgery_dataset/Columbia Uncompressed Image Splicing Detection/4cam_splc/4cam_splc/canong3_kodakdcs330_sub_02.tif  \n",
            "  inflating: /content/mini_forgery_dataset/Columbia Uncompressed Image Splicing Detection/4cam_splc/4cam_splc/canong3_kodakdcs330_sub_03.tif  \n",
            "  inflating: /content/mini_forgery_dataset/Columbia Uncompressed Image Splicing Detection/4cam_splc/4cam_splc/canong3_kodakdcs330_sub_04.tif  \n",
            "  inflating: /content/mini_forgery_dataset/Columbia Uncompressed Image Splicing Detection/4cam_splc/4cam_splc/canong3_kodakdcs330_sub_05.tif  \n",
            "  inflating: /content/mini_forgery_dataset/Columbia Uncompressed Image Splicing Detection/4cam_splc/4cam_splc/canong3_kodakdcs330_sub_06.tif  \n",
            "  inflating: /content/mini_forgery_dataset/Columbia Uncompressed Image Splicing Detection/4cam_splc/4cam_splc/canong3_kodakdcs330_sub_07.tif  \n",
            "  inflating: /content/mini_forgery_dataset/Columbia Uncompressed Image Splicing Detection/4cam_splc/4cam_splc/canong3_kodakdcs330_sub_08.tif  \n",
            "  inflating: /content/mini_forgery_dataset/Columbia Uncompressed Image Splicing Detection/4cam_splc/4cam_splc/canong3_kodakdcs330_sub_09.tif  \n",
            "  inflating: /content/mini_forgery_dataset/Columbia Uncompressed Image Splicing Detection/4cam_splc/4cam_splc/canong3_kodakdcs330_sub_10.tif  \n",
            "  inflating: /content/mini_forgery_dataset/Columbia Uncompressed Image Splicing Detection/4cam_splc/4cam_splc/canong3_kodakdcs330_sub_11.tif  \n",
            "  inflating: /content/mini_forgery_dataset/Columbia Uncompressed Image Splicing Detection/4cam_splc/4cam_splc/canong3_kodakdcs330_sub_12.tif  \n",
            "  inflating: /content/mini_forgery_dataset/Columbia Uncompressed Image Splicing Detection/4cam_splc/4cam_splc/canong3_kodakdcs330_sub_13.tif  \n",
            "  inflating: /content/mini_forgery_dataset/Columbia Uncompressed Image Splicing Detection/4cam_splc/4cam_splc/canong3_kodakdcs330_sub_14.tif  \n",
            "  inflating: /content/mini_forgery_dataset/Columbia Uncompressed Image Splicing Detection/4cam_splc/4cam_splc/canong3_kodakdcs330_sub_15.tif  \n",
            "  inflating: /content/mini_forgery_dataset/Columbia Uncompressed Image Splicing Detection/4cam_splc/4cam_splc/canong3_kodakdcs330_sub_16.tif  \n",
            "  inflating: /content/mini_forgery_dataset/Columbia Uncompressed Image Splicing Detection/4cam_splc/4cam_splc/canong3_kodakdcs330_sub_17.tif  \n",
            "  inflating: /content/mini_forgery_dataset/Columbia Uncompressed Image Splicing Detection/4cam_splc/4cam_splc/canong3_kodakdcs330_sub_18.tif  \n",
            "  inflating: /content/mini_forgery_dataset/Columbia Uncompressed Image Splicing Detection/4cam_splc/4cam_splc/canong3_kodakdcs330_sub_19.tif  \n",
            "  inflating: /content/mini_forgery_dataset/Columbia Uncompressed Image Splicing Detection/4cam_splc/4cam_splc/canong3_kodakdcs330_sub_20.tif  \n",
            "  inflating: /content/mini_forgery_dataset/Columbia Uncompressed Image Splicing Detection/4cam_splc/4cam_splc/canong3_kodakdcs330_sub_21.tif  \n",
            "  inflating: /content/mini_forgery_dataset/Columbia Uncompressed Image Splicing Detection/4cam_splc/4cam_splc/canong3_kodakdcs330_sub_22.tif  \n",
            "  inflating: /content/mini_forgery_dataset/Columbia Uncompressed Image Splicing Detection/4cam_splc/4cam_splc/canong3_kodakdcs330_sub_23.tif  \n",
            "  inflating: /content/mini_forgery_dataset/Columbia Uncompressed Image Splicing Detection/4cam_splc/4cam_splc/canong3_kodakdcs330_sub_24.tif  \n",
            "  inflating: /content/mini_forgery_dataset/Columbia Uncompressed Image Splicing Detection/4cam_splc/4cam_splc/canong3_kodakdcs330_sub_25.tif  \n",
            "  inflating: /content/mini_forgery_dataset/Columbia Uncompressed Image Splicing Detection/4cam_splc/4cam_splc/canong3_kodakdcs330_sub_26.tif  \n",
            "  inflating: /content/mini_forgery_dataset/Columbia Uncompressed Image Splicing Detection/4cam_splc/4cam_splc/canong3_kodakdcs330_sub_27.tif  \n",
            "  inflating: /content/mini_forgery_dataset/Columbia Uncompressed Image Splicing Detection/4cam_splc/4cam_splc/canong3_kodakdcs330_sub_28.tif  \n",
            "  inflating: /content/mini_forgery_dataset/Columbia Uncompressed Image Splicing Detection/4cam_splc/4cam_splc/canong3_kodakdcs330_sub_29.tif  \n",
            "  inflating: /content/mini_forgery_dataset/Columbia Uncompressed Image Splicing Detection/4cam_splc/4cam_splc/canong3_kodakdcs330_sub_30.tif  \n",
            "  inflating: /content/mini_forgery_dataset/Columbia Uncompressed Image Splicing Detection/4cam_splc/4cam_splc/canong3_nikond70_sub_01.tif  \n",
            "  inflating: /content/mini_forgery_dataset/Columbia Uncompressed Image Splicing Detection/4cam_splc/4cam_splc/canong3_nikond70_sub_02.tif  \n",
            "  inflating: /content/mini_forgery_dataset/Columbia Uncompressed Image Splicing Detection/4cam_splc/4cam_splc/canong3_nikond70_sub_03.tif  \n",
            "  inflating: /content/mini_forgery_dataset/Columbia Uncompressed Image Splicing Detection/4cam_splc/4cam_splc/canong3_nikond70_sub_04.tif  \n",
            "  inflating: /content/mini_forgery_dataset/Columbia Uncompressed Image Splicing Detection/4cam_splc/4cam_splc/canong3_nikond70_sub_05.tif  \n",
            "  inflating: /content/mini_forgery_dataset/Columbia Uncompressed Image Splicing Detection/4cam_splc/4cam_splc/canong3_nikond70_sub_06.tif  \n",
            "  inflating: /content/mini_forgery_dataset/Columbia Uncompressed Image Splicing Detection/4cam_splc/4cam_splc/canong3_nikond70_sub_07.tif  \n",
            "  inflating: /content/mini_forgery_dataset/Columbia Uncompressed Image Splicing Detection/4cam_splc/4cam_splc/canong3_nikond70_sub_08.tif  \n",
            "  inflating: /content/mini_forgery_dataset/Columbia Uncompressed Image Splicing Detection/4cam_splc/4cam_splc/canong3_nikond70_sub_09.tif  \n",
            "  inflating: /content/mini_forgery_dataset/Columbia Uncompressed Image Splicing Detection/4cam_splc/4cam_splc/canong3_nikond70_sub_10.tif  \n",
            "  inflating: /content/mini_forgery_dataset/Columbia Uncompressed Image Splicing Detection/4cam_splc/4cam_splc/canong3_nikond70_sub_11.tif  \n",
            "  inflating: /content/mini_forgery_dataset/Columbia Uncompressed Image Splicing Detection/4cam_splc/4cam_splc/canong3_nikond70_sub_12.tif  \n",
            "  inflating: /content/mini_forgery_dataset/Columbia Uncompressed Image Splicing Detection/4cam_splc/4cam_splc/canong3_nikond70_sub_13.tif  \n",
            "  inflating: /content/mini_forgery_dataset/Columbia Uncompressed Image Splicing Detection/4cam_splc/4cam_splc/canong3_nikond70_sub_14.tif  \n",
            "  inflating: /content/mini_forgery_dataset/Columbia Uncompressed Image Splicing Detection/4cam_splc/4cam_splc/canong3_nikond70_sub_15.tif  \n",
            "  inflating: /content/mini_forgery_dataset/Columbia Uncompressed Image Splicing Detection/4cam_splc/4cam_splc/canong3_nikond70_sub_16.tif  \n",
            "  inflating: /content/mini_forgery_dataset/Columbia Uncompressed Image Splicing Detection/4cam_splc/4cam_splc/canong3_nikond70_sub_17.tif  \n",
            "  inflating: /content/mini_forgery_dataset/Columbia Uncompressed Image Splicing Detection/4cam_splc/4cam_splc/canong3_nikond70_sub_18.tif  \n",
            "  inflating: /content/mini_forgery_dataset/Columbia Uncompressed Image Splicing Detection/4cam_splc/4cam_splc/canong3_nikond70_sub_19.tif  \n",
            "  inflating: /content/mini_forgery_dataset/Columbia Uncompressed Image Splicing Detection/4cam_splc/4cam_splc/canong3_nikond70_sub_20.tif  \n",
            "  inflating: /content/mini_forgery_dataset/Columbia Uncompressed Image Splicing Detection/4cam_splc/4cam_splc/canong3_nikond70_sub_21.tif  \n",
            "  inflating: /content/mini_forgery_dataset/Columbia Uncompressed Image Splicing Detection/4cam_splc/4cam_splc/canong3_nikond70_sub_22.tif  \n",
            "  inflating: /content/mini_forgery_dataset/Columbia Uncompressed Image Splicing Detection/4cam_splc/4cam_splc/canong3_nikond70_sub_23.tif  \n",
            "  inflating: /content/mini_forgery_dataset/Columbia Uncompressed Image Splicing Detection/4cam_splc/4cam_splc/canong3_nikond70_sub_24.tif  \n",
            "  inflating: /content/mini_forgery_dataset/Columbia Uncompressed Image Splicing Detection/4cam_splc/4cam_splc/canong3_nikond70_sub_25.tif  \n",
            "  inflating: /content/mini_forgery_dataset/Columbia Uncompressed Image Splicing Detection/4cam_splc/4cam_splc/canong3_nikond70_sub_26.tif  \n",
            "  inflating: /content/mini_forgery_dataset/Columbia Uncompressed Image Splicing Detection/4cam_splc/4cam_splc/canong3_nikond70_sub_27.tif  \n",
            "  inflating: /content/mini_forgery_dataset/Columbia Uncompressed Image Splicing Detection/4cam_splc/4cam_splc/canong3_nikond70_sub_28.tif  \n",
            "  inflating: /content/mini_forgery_dataset/Columbia Uncompressed Image Splicing Detection/4cam_splc/4cam_splc/canong3_nikond70_sub_29.tif  \n",
            "  inflating: /content/mini_forgery_dataset/Columbia Uncompressed Image Splicing Detection/4cam_splc/4cam_splc/canong3_nikond70_sub_30.tif  \n",
            "  inflating: /content/mini_forgery_dataset/Columbia Uncompressed Image Splicing Detection/4cam_splc/4cam_splc/canonxt_kodakdcs330_sub_01.tif  \n",
            "  inflating: /content/mini_forgery_dataset/Columbia Uncompressed Image Splicing Detection/4cam_splc/4cam_splc/canonxt_kodakdcs330_sub_02.tif  \n",
            "  inflating: /content/mini_forgery_dataset/Columbia Uncompressed Image Splicing Detection/4cam_splc/4cam_splc/canonxt_kodakdcs330_sub_03.tif  \n",
            "  inflating: /content/mini_forgery_dataset/Columbia Uncompressed Image Splicing Detection/4cam_splc/4cam_splc/canonxt_kodakdcs330_sub_04.tif  \n",
            "  inflating: /content/mini_forgery_dataset/Columbia Uncompressed Image Splicing Detection/4cam_splc/4cam_splc/canonxt_kodakdcs330_sub_05.tif  \n",
            "  inflating: /content/mini_forgery_dataset/Columbia Uncompressed Image Splicing Detection/4cam_splc/4cam_splc/canonxt_kodakdcs330_sub_06.tif  \n",
            "  inflating: /content/mini_forgery_dataset/Columbia Uncompressed Image Splicing Detection/4cam_splc/4cam_splc/canonxt_kodakdcs330_sub_07.tif  \n",
            "  inflating: /content/mini_forgery_dataset/Columbia Uncompressed Image Splicing Detection/4cam_splc/4cam_splc/canonxt_kodakdcs330_sub_08.tif  \n",
            "  inflating: /content/mini_forgery_dataset/Columbia Uncompressed Image Splicing Detection/4cam_splc/4cam_splc/canonxt_kodakdcs330_sub_09.tif  \n",
            "  inflating: /content/mini_forgery_dataset/Columbia Uncompressed Image Splicing Detection/4cam_splc/4cam_splc/canonxt_kodakdcs330_sub_10.tif  \n",
            "  inflating: /content/mini_forgery_dataset/Columbia Uncompressed Image Splicing Detection/4cam_splc/4cam_splc/canonxt_kodakdcs330_sub_11.tif  \n",
            "  inflating: /content/mini_forgery_dataset/Columbia Uncompressed Image Splicing Detection/4cam_splc/4cam_splc/canonxt_kodakdcs330_sub_12.tif  \n",
            "  inflating: /content/mini_forgery_dataset/Columbia Uncompressed Image Splicing Detection/4cam_splc/4cam_splc/canonxt_kodakdcs330_sub_13.tif  \n",
            "  inflating: /content/mini_forgery_dataset/Columbia Uncompressed Image Splicing Detection/4cam_splc/4cam_splc/canonxt_kodakdcs330_sub_14.tif  \n",
            "  inflating: /content/mini_forgery_dataset/Columbia Uncompressed Image Splicing Detection/4cam_splc/4cam_splc/canonxt_kodakdcs330_sub_15.tif  \n",
            "  inflating: /content/mini_forgery_dataset/Columbia Uncompressed Image Splicing Detection/4cam_splc/4cam_splc/canonxt_kodakdcs330_sub_16.tif  \n",
            "  inflating: /content/mini_forgery_dataset/Columbia Uncompressed Image Splicing Detection/4cam_splc/4cam_splc/canonxt_kodakdcs330_sub_17.tif  \n",
            "  inflating: /content/mini_forgery_dataset/Columbia Uncompressed Image Splicing Detection/4cam_splc/4cam_splc/canonxt_kodakdcs330_sub_18.tif  \n",
            "  inflating: /content/mini_forgery_dataset/Columbia Uncompressed Image Splicing Detection/4cam_splc/4cam_splc/canonxt_kodakdcs330_sub_19.tif  \n",
            "  inflating: /content/mini_forgery_dataset/Columbia Uncompressed Image Splicing Detection/4cam_splc/4cam_splc/canonxt_kodakdcs330_sub_20.tif  \n",
            "  inflating: /content/mini_forgery_dataset/Columbia Uncompressed Image Splicing Detection/4cam_splc/4cam_splc/canonxt_kodakdcs330_sub_21.tif  \n",
            "  inflating: /content/mini_forgery_dataset/Columbia Uncompressed Image Splicing Detection/4cam_splc/4cam_splc/canonxt_kodakdcs330_sub_22.tif  \n",
            "  inflating: /content/mini_forgery_dataset/Columbia Uncompressed Image Splicing Detection/4cam_splc/4cam_splc/canonxt_kodakdcs330_sub_23.tif  \n",
            "  inflating: /content/mini_forgery_dataset/Columbia Uncompressed Image Splicing Detection/4cam_splc/4cam_splc/canonxt_kodakdcs330_sub_24.tif  \n",
            "  inflating: /content/mini_forgery_dataset/Columbia Uncompressed Image Splicing Detection/4cam_splc/4cam_splc/canonxt_kodakdcs330_sub_25.tif  \n",
            "  inflating: /content/mini_forgery_dataset/Columbia Uncompressed Image Splicing Detection/4cam_splc/4cam_splc/canonxt_kodakdcs330_sub_26.tif  \n",
            "  inflating: /content/mini_forgery_dataset/Columbia Uncompressed Image Splicing Detection/4cam_splc/4cam_splc/canonxt_kodakdcs330_sub_27.tif  \n",
            "  inflating: /content/mini_forgery_dataset/Columbia Uncompressed Image Splicing Detection/4cam_splc/4cam_splc/canonxt_kodakdcs330_sub_28.tif  \n",
            "  inflating: /content/mini_forgery_dataset/Columbia Uncompressed Image Splicing Detection/4cam_splc/4cam_splc/canonxt_kodakdcs330_sub_29.tif  \n",
            "  inflating: /content/mini_forgery_dataset/Columbia Uncompressed Image Splicing Detection/4cam_splc/4cam_splc/canonxt_kodakdcs330_sub_30.tif  \n",
            "  inflating: /content/mini_forgery_dataset/Columbia Uncompressed Image Splicing Detection/4cam_splc/4cam_splc/nikond70_canonxt_sub_01.tif  \n",
            "  inflating: /content/mini_forgery_dataset/Columbia Uncompressed Image Splicing Detection/4cam_splc/4cam_splc/nikond70_canonxt_sub_02.tif  \n",
            "  inflating: /content/mini_forgery_dataset/Columbia Uncompressed Image Splicing Detection/4cam_splc/4cam_splc/nikond70_canonxt_sub_03.tif  \n",
            "  inflating: /content/mini_forgery_dataset/Columbia Uncompressed Image Splicing Detection/4cam_splc/4cam_splc/nikond70_canonxt_sub_04.tif  \n",
            "  inflating: /content/mini_forgery_dataset/Columbia Uncompressed Image Splicing Detection/4cam_splc/4cam_splc/nikond70_canonxt_sub_05.tif  \n",
            "  inflating: /content/mini_forgery_dataset/Columbia Uncompressed Image Splicing Detection/4cam_splc/4cam_splc/nikond70_canonxt_sub_06.tif  \n",
            "  inflating: /content/mini_forgery_dataset/Columbia Uncompressed Image Splicing Detection/4cam_splc/4cam_splc/nikond70_canonxt_sub_07.tif  \n",
            "  inflating: /content/mini_forgery_dataset/Columbia Uncompressed Image Splicing Detection/4cam_splc/4cam_splc/nikond70_canonxt_sub_08.tif  \n",
            "  inflating: /content/mini_forgery_dataset/Columbia Uncompressed Image Splicing Detection/4cam_splc/4cam_splc/nikond70_canonxt_sub_09.tif  \n",
            "  inflating: /content/mini_forgery_dataset/Columbia Uncompressed Image Splicing Detection/4cam_splc/4cam_splc/nikond70_canonxt_sub_10.tif  \n",
            "  inflating: /content/mini_forgery_dataset/Columbia Uncompressed Image Splicing Detection/4cam_splc/4cam_splc/nikond70_canonxt_sub_11.tif  \n",
            "  inflating: /content/mini_forgery_dataset/Columbia Uncompressed Image Splicing Detection/4cam_splc/4cam_splc/nikond70_canonxt_sub_12.tif  \n",
            "  inflating: /content/mini_forgery_dataset/Columbia Uncompressed Image Splicing Detection/4cam_splc/4cam_splc/nikond70_canonxt_sub_13.tif  \n",
            "  inflating: /content/mini_forgery_dataset/Columbia Uncompressed Image Splicing Detection/4cam_splc/4cam_splc/nikond70_canonxt_sub_14.tif  \n",
            "  inflating: /content/mini_forgery_dataset/Columbia Uncompressed Image Splicing Detection/4cam_splc/4cam_splc/nikond70_canonxt_sub_15.tif  \n",
            "  inflating: /content/mini_forgery_dataset/Columbia Uncompressed Image Splicing Detection/4cam_splc/4cam_splc/nikond70_canonxt_sub_16.tif  \n",
            "  inflating: /content/mini_forgery_dataset/Columbia Uncompressed Image Splicing Detection/4cam_splc/4cam_splc/nikond70_canonxt_sub_17.tif  \n",
            "  inflating: /content/mini_forgery_dataset/Columbia Uncompressed Image Splicing Detection/4cam_splc/4cam_splc/nikond70_canonxt_sub_18.tif  \n",
            "  inflating: /content/mini_forgery_dataset/Columbia Uncompressed Image Splicing Detection/4cam_splc/4cam_splc/nikond70_canonxt_sub_19.tif  \n",
            "  inflating: /content/mini_forgery_dataset/Columbia Uncompressed Image Splicing Detection/4cam_splc/4cam_splc/nikond70_canonxt_sub_20.tif  \n",
            "  inflating: /content/mini_forgery_dataset/Columbia Uncompressed Image Splicing Detection/4cam_splc/4cam_splc/nikond70_canonxt_sub_21.tif  \n",
            "  inflating: /content/mini_forgery_dataset/Columbia Uncompressed Image Splicing Detection/4cam_splc/4cam_splc/nikond70_canonxt_sub_22.tif  \n",
            "  inflating: /content/mini_forgery_dataset/Columbia Uncompressed Image Splicing Detection/4cam_splc/4cam_splc/nikond70_canonxt_sub_23.tif  \n",
            "  inflating: /content/mini_forgery_dataset/Columbia Uncompressed Image Splicing Detection/4cam_splc/4cam_splc/nikond70_canonxt_sub_24.tif  \n",
            "  inflating: /content/mini_forgery_dataset/Columbia Uncompressed Image Splicing Detection/4cam_splc/4cam_splc/nikond70_canonxt_sub_25.tif  \n",
            "  inflating: /content/mini_forgery_dataset/Columbia Uncompressed Image Splicing Detection/4cam_splc/4cam_splc/nikond70_canonxt_sub_26.tif  \n",
            "  inflating: /content/mini_forgery_dataset/Columbia Uncompressed Image Splicing Detection/4cam_splc/4cam_splc/nikond70_canonxt_sub_27.tif  \n",
            "  inflating: /content/mini_forgery_dataset/Columbia Uncompressed Image Splicing Detection/4cam_splc/4cam_splc/nikond70_canonxt_sub_28.tif  \n",
            "  inflating: /content/mini_forgery_dataset/Columbia Uncompressed Image Splicing Detection/4cam_splc/4cam_splc/nikond70_canonxt_sub_29.tif  \n",
            "  inflating: /content/mini_forgery_dataset/Columbia Uncompressed Image Splicing Detection/4cam_splc/4cam_splc/nikond70_canonxt_sub_30.tif  \n",
            "  inflating: /content/mini_forgery_dataset/Columbia Uncompressed Image Splicing Detection/4cam_splc/4cam_splc/nikond70_kodakdcs330_sub_01.tif  \n",
            "  inflating: /content/mini_forgery_dataset/Columbia Uncompressed Image Splicing Detection/4cam_splc/4cam_splc/nikond70_kodakdcs330_sub_02.tif  \n",
            "  inflating: /content/mini_forgery_dataset/Columbia Uncompressed Image Splicing Detection/4cam_splc/4cam_splc/nikond70_kodakdcs330_sub_03.tif  \n",
            "  inflating: /content/mini_forgery_dataset/Columbia Uncompressed Image Splicing Detection/4cam_splc/4cam_splc/nikond70_kodakdcs330_sub_04.tif  \n",
            "  inflating: /content/mini_forgery_dataset/Columbia Uncompressed Image Splicing Detection/4cam_splc/4cam_splc/nikond70_kodakdcs330_sub_05.tif  \n",
            "  inflating: /content/mini_forgery_dataset/Columbia Uncompressed Image Splicing Detection/4cam_splc/4cam_splc/nikond70_kodakdcs330_sub_06.tif  \n",
            "  inflating: /content/mini_forgery_dataset/Columbia Uncompressed Image Splicing Detection/4cam_splc/4cam_splc/nikond70_kodakdcs330_sub_07.tif  \n",
            "  inflating: /content/mini_forgery_dataset/Columbia Uncompressed Image Splicing Detection/4cam_splc/4cam_splc/nikond70_kodakdcs330_sub_08.tif  \n",
            "  inflating: /content/mini_forgery_dataset/Columbia Uncompressed Image Splicing Detection/4cam_splc/4cam_splc/nikond70_kodakdcs330_sub_09.tif  \n",
            "  inflating: /content/mini_forgery_dataset/Columbia Uncompressed Image Splicing Detection/4cam_splc/4cam_splc/nikond70_kodakdcs330_sub_10.tif  \n",
            "  inflating: /content/mini_forgery_dataset/Columbia Uncompressed Image Splicing Detection/4cam_splc/4cam_splc/nikond70_kodakdcs330_sub_11.tif  \n",
            "  inflating: /content/mini_forgery_dataset/Columbia Uncompressed Image Splicing Detection/4cam_splc/4cam_splc/nikond70_kodakdcs330_sub_12.tif  \n",
            "  inflating: /content/mini_forgery_dataset/Columbia Uncompressed Image Splicing Detection/4cam_splc/4cam_splc/nikond70_kodakdcs330_sub_13.tif  \n",
            "  inflating: /content/mini_forgery_dataset/Columbia Uncompressed Image Splicing Detection/4cam_splc/4cam_splc/nikond70_kodakdcs330_sub_14.tif  \n",
            "  inflating: /content/mini_forgery_dataset/Columbia Uncompressed Image Splicing Detection/4cam_splc/4cam_splc/nikond70_kodakdcs330_sub_15.tif  \n",
            "  inflating: /content/mini_forgery_dataset/Columbia Uncompressed Image Splicing Detection/4cam_splc/4cam_splc/nikond70_kodakdcs330_sub_16.tif  \n",
            "  inflating: /content/mini_forgery_dataset/Columbia Uncompressed Image Splicing Detection/4cam_splc/4cam_splc/nikond70_kodakdcs330_sub_17.tif  \n",
            "  inflating: /content/mini_forgery_dataset/Columbia Uncompressed Image Splicing Detection/4cam_splc/4cam_splc/nikond70_kodakdcs330_sub_18.tif  \n",
            "  inflating: /content/mini_forgery_dataset/Columbia Uncompressed Image Splicing Detection/4cam_splc/4cam_splc/nikond70_kodakdcs330_sub_19.tif  \n",
            "  inflating: /content/mini_forgery_dataset/Columbia Uncompressed Image Splicing Detection/4cam_splc/4cam_splc/nikond70_kodakdcs330_sub_20.tif  \n",
            "  inflating: /content/mini_forgery_dataset/Columbia Uncompressed Image Splicing Detection/4cam_splc/4cam_splc/nikond70_kodakdcs330_sub_21.tif  \n",
            "  inflating: /content/mini_forgery_dataset/Columbia Uncompressed Image Splicing Detection/4cam_splc/4cam_splc/nikond70_kodakdcs330_sub_22.tif  \n",
            "  inflating: /content/mini_forgery_dataset/Columbia Uncompressed Image Splicing Detection/4cam_splc/4cam_splc/nikond70_kodakdcs330_sub_23.tif  \n",
            "  inflating: /content/mini_forgery_dataset/Columbia Uncompressed Image Splicing Detection/4cam_splc/4cam_splc/nikond70_kodakdcs330_sub_24.tif  \n",
            "  inflating: /content/mini_forgery_dataset/Columbia Uncompressed Image Splicing Detection/4cam_splc/4cam_splc/nikond70_kodakdcs330_sub_25.tif  \n",
            "  inflating: /content/mini_forgery_dataset/Columbia Uncompressed Image Splicing Detection/4cam_splc/4cam_splc/nikond70_kodakdcs330_sub_26.tif  \n",
            "  inflating: /content/mini_forgery_dataset/Columbia Uncompressed Image Splicing Detection/4cam_splc/4cam_splc/nikond70_kodakdcs330_sub_27.tif  \n",
            "  inflating: /content/mini_forgery_dataset/Columbia Uncompressed Image Splicing Detection/4cam_splc/4cam_splc/nikond70_kodakdcs330_sub_28.tif  \n",
            "  inflating: /content/mini_forgery_dataset/Columbia Uncompressed Image Splicing Detection/4cam_splc/4cam_splc/nikond70_kodakdcs330_sub_29.tif  \n",
            "  inflating: /content/mini_forgery_dataset/Columbia Uncompressed Image Splicing Detection/4cam_splc/4cam_splc/nikond70_kodakdcs330_sub_30.tif  \n",
            "  inflating: /content/mini_forgery_dataset/Columbia Uncompressed Image Splicing Detection/4cam_splc/Thumbs.db  \n",
            "  inflating: /content/mini_forgery_dataset/Columbia Uncompressed Image Splicing Detection/4cam_splc/edgemask/Thumbs.db  \n",
            "  inflating: /content/mini_forgery_dataset/Columbia Uncompressed Image Splicing Detection/4cam_splc/edgemask/canong3_canonxt_sub_01_edgemask.jpg  \n",
            "  inflating: /content/mini_forgery_dataset/Columbia Uncompressed Image Splicing Detection/4cam_splc/edgemask/canong3_canonxt_sub_01_edgemask_3.jpg  \n",
            "  inflating: /content/mini_forgery_dataset/Columbia Uncompressed Image Splicing Detection/4cam_splc/edgemask/canong3_canonxt_sub_02_edgemask.jpg  \n",
            "  inflating: /content/mini_forgery_dataset/Columbia Uncompressed Image Splicing Detection/4cam_splc/edgemask/canong3_canonxt_sub_02_edgemask_3.jpg  \n",
            "  inflating: /content/mini_forgery_dataset/Columbia Uncompressed Image Splicing Detection/4cam_splc/edgemask/canong3_canonxt_sub_03_edgemask.jpg  \n",
            "  inflating: /content/mini_forgery_dataset/Columbia Uncompressed Image Splicing Detection/4cam_splc/edgemask/canong3_canonxt_sub_03_edgemask_3.jpg  \n",
            "  inflating: /content/mini_forgery_dataset/Columbia Uncompressed Image Splicing Detection/4cam_splc/edgemask/canong3_canonxt_sub_04_edgemask.jpg  \n",
            "  inflating: /content/mini_forgery_dataset/Columbia Uncompressed Image Splicing Detection/4cam_splc/edgemask/canong3_canonxt_sub_04_edgemask_3.jpg  \n",
            "  inflating: /content/mini_forgery_dataset/Columbia Uncompressed Image Splicing Detection/4cam_splc/edgemask/canong3_canonxt_sub_05_edgemask.jpg  \n",
            "  inflating: /content/mini_forgery_dataset/Columbia Uncompressed Image Splicing Detection/4cam_splc/edgemask/canong3_canonxt_sub_05_edgemask_3.jpg  \n",
            "  inflating: /content/mini_forgery_dataset/Columbia Uncompressed Image Splicing Detection/4cam_splc/edgemask/canong3_canonxt_sub_06_edgemask.jpg  \n",
            "  inflating: /content/mini_forgery_dataset/Columbia Uncompressed Image Splicing Detection/4cam_splc/edgemask/canong3_canonxt_sub_06_edgemask_3.jpg  \n",
            "  inflating: /content/mini_forgery_dataset/Columbia Uncompressed Image Splicing Detection/4cam_splc/edgemask/canong3_canonxt_sub_07_edgemask.jpg  \n",
            "  inflating: /content/mini_forgery_dataset/Columbia Uncompressed Image Splicing Detection/4cam_splc/edgemask/canong3_canonxt_sub_07_edgemask_3.jpg  \n",
            "  inflating: /content/mini_forgery_dataset/Columbia Uncompressed Image Splicing Detection/4cam_splc/edgemask/canong3_canonxt_sub_08_edgemask.jpg  \n",
            "  inflating: /content/mini_forgery_dataset/Columbia Uncompressed Image Splicing Detection/4cam_splc/edgemask/canong3_canonxt_sub_08_edgemask_3.jpg  \n",
            "  inflating: /content/mini_forgery_dataset/Columbia Uncompressed Image Splicing Detection/4cam_splc/edgemask/canong3_canonxt_sub_09_edgemask.jpg  \n",
            "  inflating: /content/mini_forgery_dataset/Columbia Uncompressed Image Splicing Detection/4cam_splc/edgemask/canong3_canonxt_sub_09_edgemask_3.jpg  \n",
            "  inflating: /content/mini_forgery_dataset/Columbia Uncompressed Image Splicing Detection/4cam_splc/edgemask/canong3_canonxt_sub_10_edgemask.jpg  \n",
            "  inflating: /content/mini_forgery_dataset/Columbia Uncompressed Image Splicing Detection/4cam_splc/edgemask/canong3_canonxt_sub_10_edgemask_3.jpg  \n",
            "  inflating: /content/mini_forgery_dataset/Columbia Uncompressed Image Splicing Detection/4cam_splc/edgemask/canong3_canonxt_sub_11_edgemask.jpg  \n",
            "  inflating: /content/mini_forgery_dataset/Columbia Uncompressed Image Splicing Detection/4cam_splc/edgemask/canong3_canonxt_sub_11_edgemask_3.jpg  \n",
            "  inflating: /content/mini_forgery_dataset/Columbia Uncompressed Image Splicing Detection/4cam_splc/edgemask/canong3_canonxt_sub_12_edgemask.jpg  \n",
            "  inflating: /content/mini_forgery_dataset/Columbia Uncompressed Image Splicing Detection/4cam_splc/edgemask/canong3_canonxt_sub_12_edgemask_3.jpg  \n",
            "  inflating: /content/mini_forgery_dataset/Columbia Uncompressed Image Splicing Detection/4cam_splc/edgemask/canong3_canonxt_sub_13_edgemask.jpg  \n",
            "  inflating: /content/mini_forgery_dataset/Columbia Uncompressed Image Splicing Detection/4cam_splc/edgemask/canong3_canonxt_sub_13_edgemask_3.jpg  \n",
            "  inflating: /content/mini_forgery_dataset/Columbia Uncompressed Image Splicing Detection/4cam_splc/edgemask/canong3_canonxt_sub_14_edgemask.jpg  \n",
            "  inflating: /content/mini_forgery_dataset/Columbia Uncompressed Image Splicing Detection/4cam_splc/edgemask/canong3_canonxt_sub_14_edgemask_3.jpg  \n",
            "  inflating: /content/mini_forgery_dataset/Columbia Uncompressed Image Splicing Detection/4cam_splc/edgemask/canong3_canonxt_sub_15_edgemask.jpg  \n",
            "  inflating: /content/mini_forgery_dataset/Columbia Uncompressed Image Splicing Detection/4cam_splc/edgemask/canong3_canonxt_sub_15_edgemask_3.jpg  \n",
            "  inflating: /content/mini_forgery_dataset/Columbia Uncompressed Image Splicing Detection/4cam_splc/edgemask/canong3_canonxt_sub_16_edgemask.jpg  \n",
            "  inflating: /content/mini_forgery_dataset/Columbia Uncompressed Image Splicing Detection/4cam_splc/edgemask/canong3_canonxt_sub_16_edgemask_3.jpg  \n",
            "  inflating: /content/mini_forgery_dataset/Columbia Uncompressed Image Splicing Detection/4cam_splc/edgemask/canong3_canonxt_sub_17_edgemask.jpg  \n",
            "  inflating: /content/mini_forgery_dataset/Columbia Uncompressed Image Splicing Detection/4cam_splc/edgemask/canong3_canonxt_sub_17_edgemask_3.jpg  \n",
            "  inflating: /content/mini_forgery_dataset/Columbia Uncompressed Image Splicing Detection/4cam_splc/edgemask/canong3_canonxt_sub_18_edgemask.jpg  \n",
            "  inflating: /content/mini_forgery_dataset/Columbia Uncompressed Image Splicing Detection/4cam_splc/edgemask/canong3_canonxt_sub_18_edgemask_3.jpg  \n",
            "  inflating: /content/mini_forgery_dataset/Columbia Uncompressed Image Splicing Detection/4cam_splc/edgemask/canong3_canonxt_sub_19_edgemask.jpg  \n",
            "  inflating: /content/mini_forgery_dataset/Columbia Uncompressed Image Splicing Detection/4cam_splc/edgemask/canong3_canonxt_sub_19_edgemask_3.jpg  \n",
            "  inflating: /content/mini_forgery_dataset/Columbia Uncompressed Image Splicing Detection/4cam_splc/edgemask/canong3_canonxt_sub_20_edgemask.jpg  \n",
            "  inflating: /content/mini_forgery_dataset/Columbia Uncompressed Image Splicing Detection/4cam_splc/edgemask/canong3_canonxt_sub_20_edgemask_3.jpg  \n",
            "  inflating: /content/mini_forgery_dataset/Columbia Uncompressed Image Splicing Detection/4cam_splc/edgemask/canong3_canonxt_sub_21_edgemask.jpg  \n",
            "  inflating: /content/mini_forgery_dataset/Columbia Uncompressed Image Splicing Detection/4cam_splc/edgemask/canong3_canonxt_sub_21_edgemask_3.jpg  \n",
            "  inflating: /content/mini_forgery_dataset/Columbia Uncompressed Image Splicing Detection/4cam_splc/edgemask/canong3_canonxt_sub_22_edgemask.jpg  \n",
            "  inflating: /content/mini_forgery_dataset/Columbia Uncompressed Image Splicing Detection/4cam_splc/edgemask/canong3_canonxt_sub_22_edgemask_3.jpg  \n",
            "  inflating: /content/mini_forgery_dataset/Columbia Uncompressed Image Splicing Detection/4cam_splc/edgemask/canong3_canonxt_sub_23_edgemask.jpg  \n",
            "  inflating: /content/mini_forgery_dataset/Columbia Uncompressed Image Splicing Detection/4cam_splc/edgemask/canong3_canonxt_sub_23_edgemask_3.jpg  \n",
            "  inflating: /content/mini_forgery_dataset/Columbia Uncompressed Image Splicing Detection/4cam_splc/edgemask/canong3_canonxt_sub_24_edgemask.jpg  \n",
            "  inflating: /content/mini_forgery_dataset/Columbia Uncompressed Image Splicing Detection/4cam_splc/edgemask/canong3_canonxt_sub_24_edgemask_3.jpg  \n",
            "  inflating: /content/mini_forgery_dataset/Columbia Uncompressed Image Splicing Detection/4cam_splc/edgemask/canong3_canonxt_sub_25_edgemask.jpg  \n",
            "  inflating: /content/mini_forgery_dataset/Columbia Uncompressed Image Splicing Detection/4cam_splc/edgemask/canong3_canonxt_sub_25_edgemask_3.jpg  \n",
            "  inflating: /content/mini_forgery_dataset/Columbia Uncompressed Image Splicing Detection/4cam_splc/edgemask/canong3_canonxt_sub_26_edgemask.jpg  \n",
            "  inflating: /content/mini_forgery_dataset/Columbia Uncompressed Image Splicing Detection/4cam_splc/edgemask/canong3_canonxt_sub_26_edgemask_3.jpg  \n",
            "  inflating: /content/mini_forgery_dataset/Columbia Uncompressed Image Splicing Detection/4cam_splc/edgemask/canong3_canonxt_sub_27_edgemask.jpg  \n",
            "  inflating: /content/mini_forgery_dataset/Columbia Uncompressed Image Splicing Detection/4cam_splc/edgemask/canong3_canonxt_sub_27_edgemask_3.jpg  \n",
            "  inflating: /content/mini_forgery_dataset/Columbia Uncompressed Image Splicing Detection/4cam_splc/edgemask/canong3_canonxt_sub_28_edgemask.jpg  \n",
            "  inflating: /content/mini_forgery_dataset/Columbia Uncompressed Image Splicing Detection/4cam_splc/edgemask/canong3_canonxt_sub_28_edgemask_3.jpg  \n",
            "  inflating: /content/mini_forgery_dataset/Columbia Uncompressed Image Splicing Detection/4cam_splc/edgemask/canong3_canonxt_sub_29_edgemask.jpg  \n",
            "  inflating: /content/mini_forgery_dataset/Columbia Uncompressed Image Splicing Detection/4cam_splc/edgemask/canong3_canonxt_sub_29_edgemask_3.jpg  \n",
            "  inflating: /content/mini_forgery_dataset/Columbia Uncompressed Image Splicing Detection/4cam_splc/edgemask/canong3_canonxt_sub_30_edgemask.jpg  \n",
            "  inflating: /content/mini_forgery_dataset/Columbia Uncompressed Image Splicing Detection/4cam_splc/edgemask/canong3_canonxt_sub_30_edgemask_3.jpg  \n",
            "  inflating: /content/mini_forgery_dataset/Columbia Uncompressed Image Splicing Detection/4cam_splc/edgemask/canong3_kodakdcs330_sub_01_edgemask.jpg  \n",
            "  inflating: /content/mini_forgery_dataset/Columbia Uncompressed Image Splicing Detection/4cam_splc/edgemask/canong3_kodakdcs330_sub_01_edgemask_3.jpg  \n",
            "  inflating: /content/mini_forgery_dataset/Columbia Uncompressed Image Splicing Detection/4cam_splc/edgemask/canong3_kodakdcs330_sub_02_edgemask.jpg  \n",
            "  inflating: /content/mini_forgery_dataset/Columbia Uncompressed Image Splicing Detection/4cam_splc/edgemask/canong3_kodakdcs330_sub_02_edgemask_3.jpg  \n",
            "  inflating: /content/mini_forgery_dataset/Columbia Uncompressed Image Splicing Detection/4cam_splc/edgemask/canong3_kodakdcs330_sub_03_edgemask.jpg  \n",
            "  inflating: /content/mini_forgery_dataset/Columbia Uncompressed Image Splicing Detection/4cam_splc/edgemask/canong3_kodakdcs330_sub_03_edgemask_3.jpg  \n",
            "  inflating: /content/mini_forgery_dataset/Columbia Uncompressed Image Splicing Detection/4cam_splc/edgemask/canong3_kodakdcs330_sub_04_edgemask.jpg  \n",
            "  inflating: /content/mini_forgery_dataset/Columbia Uncompressed Image Splicing Detection/4cam_splc/edgemask/canong3_kodakdcs330_sub_04_edgemask_3.jpg  \n",
            "  inflating: /content/mini_forgery_dataset/Columbia Uncompressed Image Splicing Detection/4cam_splc/edgemask/canong3_kodakdcs330_sub_05_edgemask.jpg  \n",
            "  inflating: /content/mini_forgery_dataset/Columbia Uncompressed Image Splicing Detection/4cam_splc/edgemask/canong3_kodakdcs330_sub_05_edgemask_3.jpg  \n",
            "  inflating: /content/mini_forgery_dataset/Columbia Uncompressed Image Splicing Detection/4cam_splc/edgemask/canong3_kodakdcs330_sub_06_edgemask.jpg  \n",
            "  inflating: /content/mini_forgery_dataset/Columbia Uncompressed Image Splicing Detection/4cam_splc/edgemask/canong3_kodakdcs330_sub_06_edgemask_3.jpg  \n",
            "  inflating: /content/mini_forgery_dataset/Columbia Uncompressed Image Splicing Detection/4cam_splc/edgemask/canong3_kodakdcs330_sub_07_edgemask.jpg  \n",
            "  inflating: /content/mini_forgery_dataset/Columbia Uncompressed Image Splicing Detection/4cam_splc/edgemask/canong3_kodakdcs330_sub_07_edgemask_3.jpg  \n",
            "  inflating: /content/mini_forgery_dataset/Columbia Uncompressed Image Splicing Detection/4cam_splc/edgemask/canong3_kodakdcs330_sub_08_edgemask.jpg  \n",
            "  inflating: /content/mini_forgery_dataset/Columbia Uncompressed Image Splicing Detection/4cam_splc/edgemask/canong3_kodakdcs330_sub_08_edgemask_3.jpg  \n",
            "  inflating: /content/mini_forgery_dataset/Columbia Uncompressed Image Splicing Detection/4cam_splc/edgemask/canong3_kodakdcs330_sub_09_edgemask.jpg  \n",
            "  inflating: /content/mini_forgery_dataset/Columbia Uncompressed Image Splicing Detection/4cam_splc/edgemask/canong3_kodakdcs330_sub_09_edgemask_3.jpg  \n",
            "  inflating: /content/mini_forgery_dataset/Columbia Uncompressed Image Splicing Detection/4cam_splc/edgemask/canong3_kodakdcs330_sub_10_edgemask.jpg  \n",
            "  inflating: /content/mini_forgery_dataset/Columbia Uncompressed Image Splicing Detection/4cam_splc/edgemask/canong3_kodakdcs330_sub_10_edgemask_3.jpg  \n",
            "  inflating: /content/mini_forgery_dataset/Columbia Uncompressed Image Splicing Detection/4cam_splc/edgemask/canong3_kodakdcs330_sub_11_edgemask.jpg  \n",
            "  inflating: /content/mini_forgery_dataset/Columbia Uncompressed Image Splicing Detection/4cam_splc/edgemask/canong3_kodakdcs330_sub_11_edgemask_3.jpg  \n",
            "  inflating: /content/mini_forgery_dataset/Columbia Uncompressed Image Splicing Detection/4cam_splc/edgemask/canong3_kodakdcs330_sub_12_edgemask.jpg  \n",
            "  inflating: /content/mini_forgery_dataset/Columbia Uncompressed Image Splicing Detection/4cam_splc/edgemask/canong3_kodakdcs330_sub_12_edgemask_3.jpg  \n",
            "  inflating: /content/mini_forgery_dataset/Columbia Uncompressed Image Splicing Detection/4cam_splc/edgemask/canong3_kodakdcs330_sub_13_edgemask.jpg  \n",
            "  inflating: /content/mini_forgery_dataset/Columbia Uncompressed Image Splicing Detection/4cam_splc/edgemask/canong3_kodakdcs330_sub_13_edgemask_3.jpg  \n",
            "  inflating: /content/mini_forgery_dataset/Columbia Uncompressed Image Splicing Detection/4cam_splc/edgemask/canong3_kodakdcs330_sub_14_edgemask.jpg  \n",
            "  inflating: /content/mini_forgery_dataset/Columbia Uncompressed Image Splicing Detection/4cam_splc/edgemask/canong3_kodakdcs330_sub_14_edgemask_3.jpg  \n",
            "  inflating: /content/mini_forgery_dataset/Columbia Uncompressed Image Splicing Detection/4cam_splc/edgemask/canong3_kodakdcs330_sub_15_edgemask.jpg  \n",
            "  inflating: /content/mini_forgery_dataset/Columbia Uncompressed Image Splicing Detection/4cam_splc/edgemask/canong3_kodakdcs330_sub_15_edgemask_3.jpg  \n",
            "  inflating: /content/mini_forgery_dataset/Columbia Uncompressed Image Splicing Detection/4cam_splc/edgemask/canong3_kodakdcs330_sub_15_edgemask_old.jpg  \n",
            "  inflating: /content/mini_forgery_dataset/Columbia Uncompressed Image Splicing Detection/4cam_splc/edgemask/canong3_kodakdcs330_sub_15_edgemask_old_3.jpg  \n",
            "  inflating: /content/mini_forgery_dataset/Columbia Uncompressed Image Splicing Detection/4cam_splc/edgemask/canong3_kodakdcs330_sub_16_edgemask.jpg  \n",
            "  inflating: /content/mini_forgery_dataset/Columbia Uncompressed Image Splicing Detection/4cam_splc/edgemask/canong3_kodakdcs330_sub_16_edgemask_3.jpg  \n",
            "  inflating: /content/mini_forgery_dataset/Columbia Uncompressed Image Splicing Detection/4cam_splc/edgemask/canong3_kodakdcs330_sub_17_edgemask.jpg  \n",
            "  inflating: /content/mini_forgery_dataset/Columbia Uncompressed Image Splicing Detection/4cam_splc/edgemask/canong3_kodakdcs330_sub_17_edgemask_3.jpg  \n",
            "  inflating: /content/mini_forgery_dataset/Columbia Uncompressed Image Splicing Detection/4cam_splc/edgemask/canong3_kodakdcs330_sub_18_edgemask.jpg  \n",
            "  inflating: /content/mini_forgery_dataset/Columbia Uncompressed Image Splicing Detection/4cam_splc/edgemask/canong3_kodakdcs330_sub_18_edgemask_3.jpg  \n",
            "  inflating: /content/mini_forgery_dataset/Columbia Uncompressed Image Splicing Detection/4cam_splc/edgemask/canong3_kodakdcs330_sub_19_edgemask.jpg  \n",
            "  inflating: /content/mini_forgery_dataset/Columbia Uncompressed Image Splicing Detection/4cam_splc/edgemask/canong3_kodakdcs330_sub_19_edgemask_3.jpg  \n",
            "  inflating: /content/mini_forgery_dataset/Columbia Uncompressed Image Splicing Detection/4cam_splc/edgemask/canong3_kodakdcs330_sub_20_edgemask.jpg  \n",
            "  inflating: /content/mini_forgery_dataset/Columbia Uncompressed Image Splicing Detection/4cam_splc/edgemask/canong3_kodakdcs330_sub_20_edgemask_3.jpg  \n",
            "  inflating: /content/mini_forgery_dataset/Columbia Uncompressed Image Splicing Detection/4cam_splc/edgemask/canong3_kodakdcs330_sub_21_edgemask.jpg  \n",
            "  inflating: /content/mini_forgery_dataset/Columbia Uncompressed Image Splicing Detection/4cam_splc/edgemask/canong3_kodakdcs330_sub_21_edgemask_3.jpg  \n",
            "  inflating: /content/mini_forgery_dataset/Columbia Uncompressed Image Splicing Detection/4cam_splc/edgemask/canong3_kodakdcs330_sub_22_edgemask.jpg  \n",
            "  inflating: /content/mini_forgery_dataset/Columbia Uncompressed Image Splicing Detection/4cam_splc/edgemask/canong3_kodakdcs330_sub_22_edgemask_3.jpg  \n",
            "  inflating: /content/mini_forgery_dataset/Columbia Uncompressed Image Splicing Detection/4cam_splc/edgemask/canong3_kodakdcs330_sub_23_edgemask.jpg  \n",
            "  inflating: /content/mini_forgery_dataset/Columbia Uncompressed Image Splicing Detection/4cam_splc/edgemask/canong3_kodakdcs330_sub_23_edgemask_3.jpg  \n",
            "  inflating: /content/mini_forgery_dataset/Columbia Uncompressed Image Splicing Detection/4cam_splc/edgemask/canong3_kodakdcs330_sub_24_edgemask.jpg  \n",
            "  inflating: /content/mini_forgery_dataset/Columbia Uncompressed Image Splicing Detection/4cam_splc/edgemask/canong3_kodakdcs330_sub_24_edgemask_3.jpg  \n",
            "  inflating: /content/mini_forgery_dataset/Columbia Uncompressed Image Splicing Detection/4cam_splc/edgemask/canong3_kodakdcs330_sub_25_edgemask.jpg  \n",
            "  inflating: /content/mini_forgery_dataset/Columbia Uncompressed Image Splicing Detection/4cam_splc/edgemask/canong3_kodakdcs330_sub_25_edgemask_3.jpg  \n",
            "  inflating: /content/mini_forgery_dataset/Columbia Uncompressed Image Splicing Detection/4cam_splc/edgemask/canong3_kodakdcs330_sub_26_edgemask.jpg  \n",
            "  inflating: /content/mini_forgery_dataset/Columbia Uncompressed Image Splicing Detection/4cam_splc/edgemask/canong3_kodakdcs330_sub_26_edgemask_3.jpg  \n",
            "  inflating: /content/mini_forgery_dataset/Columbia Uncompressed Image Splicing Detection/4cam_splc/edgemask/canong3_kodakdcs330_sub_27_edgemask.jpg  \n",
            "  inflating: /content/mini_forgery_dataset/Columbia Uncompressed Image Splicing Detection/4cam_splc/edgemask/canong3_kodakdcs330_sub_27_edgemask_3.jpg  \n",
            "  inflating: /content/mini_forgery_dataset/Columbia Uncompressed Image Splicing Detection/4cam_splc/edgemask/canong3_kodakdcs330_sub_28_edgemask.jpg  \n",
            "  inflating: /content/mini_forgery_dataset/Columbia Uncompressed Image Splicing Detection/4cam_splc/edgemask/canong3_kodakdcs330_sub_28_edgemask_3.jpg  \n",
            "  inflating: /content/mini_forgery_dataset/Columbia Uncompressed Image Splicing Detection/4cam_splc/edgemask/canong3_kodakdcs330_sub_29_edgemask.jpg  \n",
            "  inflating: /content/mini_forgery_dataset/Columbia Uncompressed Image Splicing Detection/4cam_splc/edgemask/canong3_kodakdcs330_sub_29_edgemask_3.jpg  \n",
            "  inflating: /content/mini_forgery_dataset/Columbia Uncompressed Image Splicing Detection/4cam_splc/edgemask/canong3_kodakdcs330_sub_30_edgemask.jpg  \n",
            "  inflating: /content/mini_forgery_dataset/Columbia Uncompressed Image Splicing Detection/4cam_splc/edgemask/canong3_kodakdcs330_sub_30_edgemask_3.jpg  \n",
            "  inflating: /content/mini_forgery_dataset/Columbia Uncompressed Image Splicing Detection/4cam_splc/edgemask/canong3_nikond70_sub_01_edgemask.jpg  \n",
            "  inflating: /content/mini_forgery_dataset/Columbia Uncompressed Image Splicing Detection/4cam_splc/edgemask/canong3_nikond70_sub_01_edgemask_3.jpg  \n",
            "  inflating: /content/mini_forgery_dataset/Columbia Uncompressed Image Splicing Detection/4cam_splc/edgemask/canong3_nikond70_sub_02_edgemask.jpg  \n",
            "  inflating: /content/mini_forgery_dataset/Columbia Uncompressed Image Splicing Detection/4cam_splc/edgemask/canong3_nikond70_sub_02_edgemask_3.jpg  \n",
            "  inflating: /content/mini_forgery_dataset/Columbia Uncompressed Image Splicing Detection/4cam_splc/edgemask/canong3_nikond70_sub_03_edgemask.jpg  \n",
            "  inflating: /content/mini_forgery_dataset/Columbia Uncompressed Image Splicing Detection/4cam_splc/edgemask/canong3_nikond70_sub_03_edgemask_3.jpg  \n",
            "  inflating: /content/mini_forgery_dataset/Columbia Uncompressed Image Splicing Detection/4cam_splc/edgemask/canong3_nikond70_sub_04_edgemask.jpg  \n",
            "  inflating: /content/mini_forgery_dataset/Columbia Uncompressed Image Splicing Detection/4cam_splc/edgemask/canong3_nikond70_sub_04_edgemask_3.jpg  \n",
            "  inflating: /content/mini_forgery_dataset/Columbia Uncompressed Image Splicing Detection/4cam_splc/edgemask/canong3_nikond70_sub_05_edgemask.jpg  \n",
            "  inflating: /content/mini_forgery_dataset/Columbia Uncompressed Image Splicing Detection/4cam_splc/edgemask/canong3_nikond70_sub_05_edgemask_3.jpg  \n",
            "  inflating: /content/mini_forgery_dataset/Columbia Uncompressed Image Splicing Detection/4cam_splc/edgemask/canong3_nikond70_sub_06_edgemask.jpg  \n",
            "  inflating: /content/mini_forgery_dataset/Columbia Uncompressed Image Splicing Detection/4cam_splc/edgemask/canong3_nikond70_sub_06_edgemask_3.jpg  \n",
            "  inflating: /content/mini_forgery_dataset/Columbia Uncompressed Image Splicing Detection/4cam_splc/edgemask/canong3_nikond70_sub_07_edgemask.jpg  \n",
            "  inflating: /content/mini_forgery_dataset/Columbia Uncompressed Image Splicing Detection/4cam_splc/edgemask/canong3_nikond70_sub_07_edgemask_3.jpg  \n",
            "  inflating: /content/mini_forgery_dataset/Columbia Uncompressed Image Splicing Detection/4cam_splc/edgemask/canong3_nikond70_sub_08_edgemask.jpg  \n",
            "  inflating: /content/mini_forgery_dataset/Columbia Uncompressed Image Splicing Detection/4cam_splc/edgemask/canong3_nikond70_sub_08_edgemask_3.jpg  \n",
            "  inflating: /content/mini_forgery_dataset/Columbia Uncompressed Image Splicing Detection/4cam_splc/edgemask/canong3_nikond70_sub_09_edgemask.jpg  \n",
            "  inflating: /content/mini_forgery_dataset/Columbia Uncompressed Image Splicing Detection/4cam_splc/edgemask/canong3_nikond70_sub_09_edgemask_3.jpg  \n",
            "  inflating: /content/mini_forgery_dataset/Columbia Uncompressed Image Splicing Detection/4cam_splc/edgemask/canong3_nikond70_sub_10_edgemask.jpg  \n",
            "  inflating: /content/mini_forgery_dataset/Columbia Uncompressed Image Splicing Detection/4cam_splc/edgemask/canong3_nikond70_sub_10_edgemask_3.jpg  \n",
            "  inflating: /content/mini_forgery_dataset/Columbia Uncompressed Image Splicing Detection/4cam_splc/edgemask/canong3_nikond70_sub_11_edgemask.jpg  \n",
            "  inflating: /content/mini_forgery_dataset/Columbia Uncompressed Image Splicing Detection/4cam_splc/edgemask/canong3_nikond70_sub_11_edgemask_3.jpg  \n",
            "  inflating: /content/mini_forgery_dataset/Columbia Uncompressed Image Splicing Detection/4cam_splc/edgemask/canong3_nikond70_sub_12_edgemask.jpg  \n",
            "  inflating: /content/mini_forgery_dataset/Columbia Uncompressed Image Splicing Detection/4cam_splc/edgemask/canong3_nikond70_sub_12_edgemask_3.jpg  \n",
            "  inflating: /content/mini_forgery_dataset/Columbia Uncompressed Image Splicing Detection/4cam_splc/edgemask/canong3_nikond70_sub_13_edgemask.jpg  \n",
            "  inflating: /content/mini_forgery_dataset/Columbia Uncompressed Image Splicing Detection/4cam_splc/edgemask/canong3_nikond70_sub_13_edgemask_3.jpg  \n",
            "  inflating: /content/mini_forgery_dataset/Columbia Uncompressed Image Splicing Detection/4cam_splc/edgemask/canong3_nikond70_sub_14_edgemask.jpg  \n",
            "  inflating: /content/mini_forgery_dataset/Columbia Uncompressed Image Splicing Detection/4cam_splc/edgemask/canong3_nikond70_sub_14_edgemask_3.jpg  \n",
            "  inflating: /content/mini_forgery_dataset/Columbia Uncompressed Image Splicing Detection/4cam_splc/edgemask/canong3_nikond70_sub_15_edgemask.jpg  \n",
            "  inflating: /content/mini_forgery_dataset/Columbia Uncompressed Image Splicing Detection/4cam_splc/edgemask/canong3_nikond70_sub_15_edgemask_3.jpg  \n",
            "  inflating: /content/mini_forgery_dataset/Columbia Uncompressed Image Splicing Detection/4cam_splc/edgemask/canong3_nikond70_sub_16_edgemask.jpg  \n",
            "  inflating: /content/mini_forgery_dataset/Columbia Uncompressed Image Splicing Detection/4cam_splc/edgemask/canong3_nikond70_sub_16_edgemask_3.jpg  \n",
            "  inflating: /content/mini_forgery_dataset/Columbia Uncompressed Image Splicing Detection/4cam_splc/edgemask/canong3_nikond70_sub_17_edgemask.jpg  \n",
            "  inflating: /content/mini_forgery_dataset/Columbia Uncompressed Image Splicing Detection/4cam_splc/edgemask/canong3_nikond70_sub_17_edgemask_3.jpg  \n",
            "  inflating: /content/mini_forgery_dataset/Columbia Uncompressed Image Splicing Detection/4cam_splc/edgemask/canong3_nikond70_sub_18_edgemask.jpg  \n",
            "  inflating: /content/mini_forgery_dataset/Columbia Uncompressed Image Splicing Detection/4cam_splc/edgemask/canong3_nikond70_sub_18_edgemask_3.jpg  \n",
            "  inflating: /content/mini_forgery_dataset/Columbia Uncompressed Image Splicing Detection/4cam_splc/edgemask/canong3_nikond70_sub_19_edgemask.jpg  \n",
            "  inflating: /content/mini_forgery_dataset/Columbia Uncompressed Image Splicing Detection/4cam_splc/edgemask/canong3_nikond70_sub_19_edgemask_3.jpg  \n",
            "  inflating: /content/mini_forgery_dataset/Columbia Uncompressed Image Splicing Detection/4cam_splc/edgemask/canong3_nikond70_sub_20_edgemask.jpg  \n",
            "  inflating: /content/mini_forgery_dataset/Columbia Uncompressed Image Splicing Detection/4cam_splc/edgemask/canong3_nikond70_sub_20_edgemask_3.jpg  \n",
            "  inflating: /content/mini_forgery_dataset/Columbia Uncompressed Image Splicing Detection/4cam_splc/edgemask/canong3_nikond70_sub_21_edgemask.jpg  \n",
            "  inflating: /content/mini_forgery_dataset/Columbia Uncompressed Image Splicing Detection/4cam_splc/edgemask/canong3_nikond70_sub_21_edgemask_3.jpg  \n",
            "  inflating: /content/mini_forgery_dataset/Columbia Uncompressed Image Splicing Detection/4cam_splc/edgemask/canong3_nikond70_sub_22_edgemask.jpg  \n",
            "  inflating: /content/mini_forgery_dataset/Columbia Uncompressed Image Splicing Detection/4cam_splc/edgemask/canong3_nikond70_sub_22_edgemask_3.jpg  \n",
            "  inflating: /content/mini_forgery_dataset/Columbia Uncompressed Image Splicing Detection/4cam_splc/edgemask/canong3_nikond70_sub_23_edgemask.jpg  \n",
            "  inflating: /content/mini_forgery_dataset/Columbia Uncompressed Image Splicing Detection/4cam_splc/edgemask/canong3_nikond70_sub_23_edgemask_3.jpg  \n",
            "  inflating: /content/mini_forgery_dataset/Columbia Uncompressed Image Splicing Detection/4cam_splc/edgemask/canong3_nikond70_sub_24_edgemask.jpg  \n",
            "  inflating: /content/mini_forgery_dataset/Columbia Uncompressed Image Splicing Detection/4cam_splc/edgemask/canong3_nikond70_sub_24_edgemask_3.jpg  \n",
            "  inflating: /content/mini_forgery_dataset/Columbia Uncompressed Image Splicing Detection/4cam_splc/edgemask/canong3_nikond70_sub_25_edgemask.jpg  \n",
            "  inflating: /content/mini_forgery_dataset/Columbia Uncompressed Image Splicing Detection/4cam_splc/edgemask/canong3_nikond70_sub_25_edgemask_3.jpg  \n",
            "  inflating: /content/mini_forgery_dataset/Columbia Uncompressed Image Splicing Detection/4cam_splc/edgemask/canong3_nikond70_sub_26_edgemask.jpg  \n",
            "  inflating: /content/mini_forgery_dataset/Columbia Uncompressed Image Splicing Detection/4cam_splc/edgemask/canong3_nikond70_sub_26_edgemask_3.jpg  \n",
            "  inflating: /content/mini_forgery_dataset/Columbia Uncompressed Image Splicing Detection/4cam_splc/edgemask/canong3_nikond70_sub_27_edgemask.jpg  \n",
            "  inflating: /content/mini_forgery_dataset/Columbia Uncompressed Image Splicing Detection/4cam_splc/edgemask/canong3_nikond70_sub_27_edgemask_3.jpg  \n",
            "  inflating: /content/mini_forgery_dataset/Columbia Uncompressed Image Splicing Detection/4cam_splc/edgemask/canong3_nikond70_sub_28_edgemask.jpg  \n",
            "  inflating: /content/mini_forgery_dataset/Columbia Uncompressed Image Splicing Detection/4cam_splc/edgemask/canong3_nikond70_sub_28_edgemask_3.jpg  \n",
            "  inflating: /content/mini_forgery_dataset/Columbia Uncompressed Image Splicing Detection/4cam_splc/edgemask/canong3_nikond70_sub_29_edgemask.jpg  \n",
            "  inflating: /content/mini_forgery_dataset/Columbia Uncompressed Image Splicing Detection/4cam_splc/edgemask/canong3_nikond70_sub_29_edgemask_3.jpg  \n",
            "  inflating: /content/mini_forgery_dataset/Columbia Uncompressed Image Splicing Detection/4cam_splc/edgemask/canong3_nikond70_sub_30_edgemask.jpg  \n",
            "  inflating: /content/mini_forgery_dataset/Columbia Uncompressed Image Splicing Detection/4cam_splc/edgemask/canong3_nikond70_sub_30_edgemask_3.jpg  \n",
            "  inflating: /content/mini_forgery_dataset/Columbia Uncompressed Image Splicing Detection/4cam_splc/edgemask/canonxt_kodakdcs330_sub_01_edgemask.jpg  \n",
            "  inflating: /content/mini_forgery_dataset/Columbia Uncompressed Image Splicing Detection/4cam_splc/edgemask/canonxt_kodakdcs330_sub_01_edgemask_3.jpg  \n",
            "  inflating: /content/mini_forgery_dataset/Columbia Uncompressed Image Splicing Detection/4cam_splc/edgemask/canonxt_kodakdcs330_sub_02_edgemask.jpg  \n",
            "  inflating: /content/mini_forgery_dataset/Columbia Uncompressed Image Splicing Detection/4cam_splc/edgemask/canonxt_kodakdcs330_sub_02_edgemask_3.jpg  \n",
            "  inflating: /content/mini_forgery_dataset/Columbia Uncompressed Image Splicing Detection/4cam_splc/edgemask/canonxt_kodakdcs330_sub_03_edgemask.jpg  \n",
            "  inflating: /content/mini_forgery_dataset/Columbia Uncompressed Image Splicing Detection/4cam_splc/edgemask/canonxt_kodakdcs330_sub_03_edgemask_3.jpg  \n",
            "  inflating: /content/mini_forgery_dataset/Columbia Uncompressed Image Splicing Detection/4cam_splc/edgemask/canonxt_kodakdcs330_sub_04_edgemask.jpg  \n",
            "  inflating: /content/mini_forgery_dataset/Columbia Uncompressed Image Splicing Detection/4cam_splc/edgemask/canonxt_kodakdcs330_sub_04_edgemask_3.jpg  \n",
            "  inflating: /content/mini_forgery_dataset/Columbia Uncompressed Image Splicing Detection/4cam_splc/edgemask/canonxt_kodakdcs330_sub_05_edgemask.jpg  \n",
            "  inflating: /content/mini_forgery_dataset/Columbia Uncompressed Image Splicing Detection/4cam_splc/edgemask/canonxt_kodakdcs330_sub_05_edgemask_3.jpg  \n",
            "  inflating: /content/mini_forgery_dataset/Columbia Uncompressed Image Splicing Detection/4cam_splc/edgemask/canonxt_kodakdcs330_sub_06_edgemask.jpg  \n",
            "  inflating: /content/mini_forgery_dataset/Columbia Uncompressed Image Splicing Detection/4cam_splc/edgemask/canonxt_kodakdcs330_sub_06_edgemask_3.jpg  \n",
            "  inflating: /content/mini_forgery_dataset/Columbia Uncompressed Image Splicing Detection/4cam_splc/edgemask/canonxt_kodakdcs330_sub_07_edgemask.jpg  \n",
            "  inflating: /content/mini_forgery_dataset/Columbia Uncompressed Image Splicing Detection/4cam_splc/edgemask/canonxt_kodakdcs330_sub_07_edgemask_3.jpg  \n",
            "  inflating: /content/mini_forgery_dataset/Columbia Uncompressed Image Splicing Detection/4cam_splc/edgemask/canonxt_kodakdcs330_sub_08_edgemask.jpg  \n",
            "  inflating: /content/mini_forgery_dataset/Columbia Uncompressed Image Splicing Detection/4cam_splc/edgemask/canonxt_kodakdcs330_sub_08_edgemask_3.jpg  \n",
            "  inflating: /content/mini_forgery_dataset/Columbia Uncompressed Image Splicing Detection/4cam_splc/edgemask/canonxt_kodakdcs330_sub_09_edgemask.jpg  \n",
            "  inflating: /content/mini_forgery_dataset/Columbia Uncompressed Image Splicing Detection/4cam_splc/edgemask/canonxt_kodakdcs330_sub_09_edgemask_3.jpg  \n",
            "  inflating: /content/mini_forgery_dataset/Columbia Uncompressed Image Splicing Detection/4cam_splc/edgemask/canonxt_kodakdcs330_sub_10_edgemask.jpg  \n",
            "  inflating: /content/mini_forgery_dataset/Columbia Uncompressed Image Splicing Detection/4cam_splc/edgemask/canonxt_kodakdcs330_sub_10_edgemask_3.jpg  \n",
            "  inflating: /content/mini_forgery_dataset/Columbia Uncompressed Image Splicing Detection/4cam_splc/edgemask/canonxt_kodakdcs330_sub_11_edgemask.jpg  \n",
            "  inflating: /content/mini_forgery_dataset/Columbia Uncompressed Image Splicing Detection/4cam_splc/edgemask/canonxt_kodakdcs330_sub_11_edgemask_3.jpg  \n",
            "  inflating: /content/mini_forgery_dataset/Columbia Uncompressed Image Splicing Detection/4cam_splc/edgemask/canonxt_kodakdcs330_sub_12_edgemask.jpg  \n",
            "  inflating: /content/mini_forgery_dataset/Columbia Uncompressed Image Splicing Detection/4cam_splc/edgemask/canonxt_kodakdcs330_sub_12_edgemask_3.jpg  \n",
            "  inflating: /content/mini_forgery_dataset/Columbia Uncompressed Image Splicing Detection/4cam_splc/edgemask/canonxt_kodakdcs330_sub_13_edgemask.jpg  \n",
            "  inflating: /content/mini_forgery_dataset/Columbia Uncompressed Image Splicing Detection/4cam_splc/edgemask/canonxt_kodakdcs330_sub_13_edgemask_3.jpg  \n",
            "  inflating: /content/mini_forgery_dataset/Columbia Uncompressed Image Splicing Detection/4cam_splc/edgemask/canonxt_kodakdcs330_sub_14_edgemask.jpg  \n",
            "  inflating: /content/mini_forgery_dataset/Columbia Uncompressed Image Splicing Detection/4cam_splc/edgemask/canonxt_kodakdcs330_sub_14_edgemask_3.jpg  \n",
            "  inflating: /content/mini_forgery_dataset/Columbia Uncompressed Image Splicing Detection/4cam_splc/edgemask/canonxt_kodakdcs330_sub_15_edgemask.jpg  \n",
            "  inflating: /content/mini_forgery_dataset/Columbia Uncompressed Image Splicing Detection/4cam_splc/edgemask/canonxt_kodakdcs330_sub_15_edgemask_3.jpg  \n",
            "  inflating: /content/mini_forgery_dataset/Columbia Uncompressed Image Splicing Detection/4cam_splc/edgemask/canonxt_kodakdcs330_sub_16_edgemask.jpg  \n",
            "  inflating: /content/mini_forgery_dataset/Columbia Uncompressed Image Splicing Detection/4cam_splc/edgemask/canonxt_kodakdcs330_sub_16_edgemask_3.jpg  \n",
            "  inflating: /content/mini_forgery_dataset/Columbia Uncompressed Image Splicing Detection/4cam_splc/edgemask/canonxt_kodakdcs330_sub_17_edgemask.jpg  \n",
            "  inflating: /content/mini_forgery_dataset/Columbia Uncompressed Image Splicing Detection/4cam_splc/edgemask/canonxt_kodakdcs330_sub_17_edgemask_3.jpg  \n",
            "  inflating: /content/mini_forgery_dataset/Columbia Uncompressed Image Splicing Detection/4cam_splc/edgemask/canonxt_kodakdcs330_sub_18_edgemask.jpg  \n",
            "  inflating: /content/mini_forgery_dataset/Columbia Uncompressed Image Splicing Detection/4cam_splc/edgemask/canonxt_kodakdcs330_sub_18_edgemask_3.jpg  \n",
            "  inflating: /content/mini_forgery_dataset/Columbia Uncompressed Image Splicing Detection/4cam_splc/edgemask/canonxt_kodakdcs330_sub_19_edgemask.jpg  \n",
            "  inflating: /content/mini_forgery_dataset/Columbia Uncompressed Image Splicing Detection/4cam_splc/edgemask/canonxt_kodakdcs330_sub_19_edgemask_3.jpg  \n",
            "  inflating: /content/mini_forgery_dataset/Columbia Uncompressed Image Splicing Detection/4cam_splc/edgemask/canonxt_kodakdcs330_sub_20_edgemask.jpg  \n",
            "  inflating: /content/mini_forgery_dataset/Columbia Uncompressed Image Splicing Detection/4cam_splc/edgemask/canonxt_kodakdcs330_sub_20_edgemask_3.jpg  \n",
            "  inflating: /content/mini_forgery_dataset/Columbia Uncompressed Image Splicing Detection/4cam_splc/edgemask/canonxt_kodakdcs330_sub_21_edgemask.jpg  \n",
            "  inflating: /content/mini_forgery_dataset/Columbia Uncompressed Image Splicing Detection/4cam_splc/edgemask/canonxt_kodakdcs330_sub_21_edgemask_3.jpg  \n",
            "  inflating: /content/mini_forgery_dataset/Columbia Uncompressed Image Splicing Detection/4cam_splc/edgemask/canonxt_kodakdcs330_sub_22_edgemask.jpg  \n",
            "  inflating: /content/mini_forgery_dataset/Columbia Uncompressed Image Splicing Detection/4cam_splc/edgemask/canonxt_kodakdcs330_sub_22_edgemask_3.jpg  \n",
            "  inflating: /content/mini_forgery_dataset/Columbia Uncompressed Image Splicing Detection/4cam_splc/edgemask/canonxt_kodakdcs330_sub_23_edgemask.jpg  \n",
            "  inflating: /content/mini_forgery_dataset/Columbia Uncompressed Image Splicing Detection/4cam_splc/edgemask/canonxt_kodakdcs330_sub_23_edgemask_3.jpg  \n",
            "  inflating: /content/mini_forgery_dataset/Columbia Uncompressed Image Splicing Detection/4cam_splc/edgemask/canonxt_kodakdcs330_sub_24_edgemask.jpg  \n",
            "  inflating: /content/mini_forgery_dataset/Columbia Uncompressed Image Splicing Detection/4cam_splc/edgemask/canonxt_kodakdcs330_sub_24_edgemask_3.jpg  \n",
            "  inflating: /content/mini_forgery_dataset/Columbia Uncompressed Image Splicing Detection/4cam_splc/edgemask/canonxt_kodakdcs330_sub_25_edgemask.jpg  \n",
            "  inflating: /content/mini_forgery_dataset/Columbia Uncompressed Image Splicing Detection/4cam_splc/edgemask/canonxt_kodakdcs330_sub_25_edgemask_3.jpg  \n",
            "  inflating: /content/mini_forgery_dataset/Columbia Uncompressed Image Splicing Detection/4cam_splc/edgemask/canonxt_kodakdcs330_sub_26_edgemask.jpg  \n",
            "  inflating: /content/mini_forgery_dataset/Columbia Uncompressed Image Splicing Detection/4cam_splc/edgemask/canonxt_kodakdcs330_sub_26_edgemask_3.jpg  \n",
            "  inflating: /content/mini_forgery_dataset/Columbia Uncompressed Image Splicing Detection/4cam_splc/edgemask/canonxt_kodakdcs330_sub_27_edgemask.jpg  \n",
            "  inflating: /content/mini_forgery_dataset/Columbia Uncompressed Image Splicing Detection/4cam_splc/edgemask/canonxt_kodakdcs330_sub_27_edgemask_3.jpg  \n",
            "  inflating: /content/mini_forgery_dataset/Columbia Uncompressed Image Splicing Detection/4cam_splc/edgemask/canonxt_kodakdcs330_sub_28_edgemask.jpg  \n",
            "  inflating: /content/mini_forgery_dataset/Columbia Uncompressed Image Splicing Detection/4cam_splc/edgemask/canonxt_kodakdcs330_sub_28_edgemask_3.jpg  \n",
            "  inflating: /content/mini_forgery_dataset/Columbia Uncompressed Image Splicing Detection/4cam_splc/edgemask/canonxt_kodakdcs330_sub_29_edgemask.jpg  \n",
            "  inflating: /content/mini_forgery_dataset/Columbia Uncompressed Image Splicing Detection/4cam_splc/edgemask/canonxt_kodakdcs330_sub_29_edgemask_3.jpg  \n",
            "  inflating: /content/mini_forgery_dataset/Columbia Uncompressed Image Splicing Detection/4cam_splc/edgemask/canonxt_kodakdcs330_sub_30_edgemask.jpg  \n",
            "  inflating: /content/mini_forgery_dataset/Columbia Uncompressed Image Splicing Detection/4cam_splc/edgemask/canonxt_kodakdcs330_sub_30_edgemask_3.jpg  \n",
            "  inflating: /content/mini_forgery_dataset/Columbia Uncompressed Image Splicing Detection/4cam_splc/edgemask/nikond70_canonxt_sub_01_edgemask.jpg  \n",
            "  inflating: /content/mini_forgery_dataset/Columbia Uncompressed Image Splicing Detection/4cam_splc/edgemask/nikond70_canonxt_sub_01_edgemask_3.jpg  \n",
            "  inflating: /content/mini_forgery_dataset/Columbia Uncompressed Image Splicing Detection/4cam_splc/edgemask/nikond70_canonxt_sub_02_edgemask.jpg  \n",
            "  inflating: /content/mini_forgery_dataset/Columbia Uncompressed Image Splicing Detection/4cam_splc/edgemask/nikond70_canonxt_sub_02_edgemask_3.jpg  \n",
            "  inflating: /content/mini_forgery_dataset/Columbia Uncompressed Image Splicing Detection/4cam_splc/edgemask/nikond70_canonxt_sub_03_edgemask.jpg  \n",
            "  inflating: /content/mini_forgery_dataset/Columbia Uncompressed Image Splicing Detection/4cam_splc/edgemask/nikond70_canonxt_sub_03_edgemask_3.jpg  \n",
            "  inflating: /content/mini_forgery_dataset/Columbia Uncompressed Image Splicing Detection/4cam_splc/edgemask/nikond70_canonxt_sub_04_edgemask.jpg  \n",
            "  inflating: /content/mini_forgery_dataset/Columbia Uncompressed Image Splicing Detection/4cam_splc/edgemask/nikond70_canonxt_sub_04_edgemask_3.jpg  \n",
            "  inflating: /content/mini_forgery_dataset/Columbia Uncompressed Image Splicing Detection/4cam_splc/edgemask/nikond70_canonxt_sub_05_edgemask.jpg  \n",
            "  inflating: /content/mini_forgery_dataset/Columbia Uncompressed Image Splicing Detection/4cam_splc/edgemask/nikond70_canonxt_sub_05_edgemask_3.jpg  \n",
            "  inflating: /content/mini_forgery_dataset/Columbia Uncompressed Image Splicing Detection/4cam_splc/edgemask/nikond70_canonxt_sub_06_edgemask.jpg  \n",
            "  inflating: /content/mini_forgery_dataset/Columbia Uncompressed Image Splicing Detection/4cam_splc/edgemask/nikond70_canonxt_sub_06_edgemask_3.jpg  \n",
            "  inflating: /content/mini_forgery_dataset/Columbia Uncompressed Image Splicing Detection/4cam_splc/edgemask/nikond70_canonxt_sub_07_edgemask.jpg  \n",
            "  inflating: /content/mini_forgery_dataset/Columbia Uncompressed Image Splicing Detection/4cam_splc/edgemask/nikond70_canonxt_sub_07_edgemask_3.jpg  \n",
            "  inflating: /content/mini_forgery_dataset/Columbia Uncompressed Image Splicing Detection/4cam_splc/edgemask/nikond70_canonxt_sub_08_edgemask.jpg  \n",
            "  inflating: /content/mini_forgery_dataset/Columbia Uncompressed Image Splicing Detection/4cam_splc/edgemask/nikond70_canonxt_sub_08_edgemask_3.jpg  \n",
            "  inflating: /content/mini_forgery_dataset/Columbia Uncompressed Image Splicing Detection/4cam_splc/edgemask/nikond70_canonxt_sub_09_edgemask.jpg  \n",
            "  inflating: /content/mini_forgery_dataset/Columbia Uncompressed Image Splicing Detection/4cam_splc/edgemask/nikond70_canonxt_sub_09_edgemask_3.jpg  \n",
            "  inflating: /content/mini_forgery_dataset/Columbia Uncompressed Image Splicing Detection/4cam_splc/edgemask/nikond70_canonxt_sub_10_edgemask.jpg  \n",
            "  inflating: /content/mini_forgery_dataset/Columbia Uncompressed Image Splicing Detection/4cam_splc/edgemask/nikond70_canonxt_sub_10_edgemask_3.jpg  \n",
            "  inflating: /content/mini_forgery_dataset/Columbia Uncompressed Image Splicing Detection/4cam_splc/edgemask/nikond70_canonxt_sub_11_edgemask.jpg  \n",
            "  inflating: /content/mini_forgery_dataset/Columbia Uncompressed Image Splicing Detection/4cam_splc/edgemask/nikond70_canonxt_sub_11_edgemask_3.jpg  \n",
            "  inflating: /content/mini_forgery_dataset/Columbia Uncompressed Image Splicing Detection/4cam_splc/edgemask/nikond70_canonxt_sub_12_edgemask.jpg  \n",
            "  inflating: /content/mini_forgery_dataset/Columbia Uncompressed Image Splicing Detection/4cam_splc/edgemask/nikond70_canonxt_sub_12_edgemask_3.jpg  \n",
            "  inflating: /content/mini_forgery_dataset/Columbia Uncompressed Image Splicing Detection/4cam_splc/edgemask/nikond70_canonxt_sub_13_edgemask.jpg  \n",
            "  inflating: /content/mini_forgery_dataset/Columbia Uncompressed Image Splicing Detection/4cam_splc/edgemask/nikond70_canonxt_sub_13_edgemask_3.jpg  \n",
            "  inflating: /content/mini_forgery_dataset/Columbia Uncompressed Image Splicing Detection/4cam_splc/edgemask/nikond70_canonxt_sub_14_edgemask.jpg  \n",
            "  inflating: /content/mini_forgery_dataset/Columbia Uncompressed Image Splicing Detection/4cam_splc/edgemask/nikond70_canonxt_sub_14_edgemask_3.jpg  \n",
            "  inflating: /content/mini_forgery_dataset/Columbia Uncompressed Image Splicing Detection/4cam_splc/edgemask/nikond70_canonxt_sub_15_edgemask.jpg  \n",
            "  inflating: /content/mini_forgery_dataset/Columbia Uncompressed Image Splicing Detection/4cam_splc/edgemask/nikond70_canonxt_sub_15_edgemask_3.jpg  \n",
            "  inflating: /content/mini_forgery_dataset/Columbia Uncompressed Image Splicing Detection/4cam_splc/edgemask/nikond70_canonxt_sub_16_edgemask.jpg  \n",
            "  inflating: /content/mini_forgery_dataset/Columbia Uncompressed Image Splicing Detection/4cam_splc/edgemask/nikond70_canonxt_sub_16_edgemask_3.jpg  \n",
            "  inflating: /content/mini_forgery_dataset/Columbia Uncompressed Image Splicing Detection/4cam_splc/edgemask/nikond70_canonxt_sub_17_edgemask.jpg  \n",
            "  inflating: /content/mini_forgery_dataset/Columbia Uncompressed Image Splicing Detection/4cam_splc/edgemask/nikond70_canonxt_sub_17_edgemask_3.jpg  \n",
            "  inflating: /content/mini_forgery_dataset/Columbia Uncompressed Image Splicing Detection/4cam_splc/edgemask/nikond70_canonxt_sub_18_edgemask.jpg  \n",
            "  inflating: /content/mini_forgery_dataset/Columbia Uncompressed Image Splicing Detection/4cam_splc/edgemask/nikond70_canonxt_sub_18_edgemask_3.jpg  \n",
            "  inflating: /content/mini_forgery_dataset/Columbia Uncompressed Image Splicing Detection/4cam_splc/edgemask/nikond70_canonxt_sub_19_edgemask.jpg  \n",
            "  inflating: /content/mini_forgery_dataset/Columbia Uncompressed Image Splicing Detection/4cam_splc/edgemask/nikond70_canonxt_sub_19_edgemask_3.jpg  \n",
            "  inflating: /content/mini_forgery_dataset/Columbia Uncompressed Image Splicing Detection/4cam_splc/edgemask/nikond70_canonxt_sub_20_edgemask.jpg  \n",
            "  inflating: /content/mini_forgery_dataset/Columbia Uncompressed Image Splicing Detection/4cam_splc/edgemask/nikond70_canonxt_sub_20_edgemask_3.jpg  \n",
            "  inflating: /content/mini_forgery_dataset/Columbia Uncompressed Image Splicing Detection/4cam_splc/edgemask/nikond70_canonxt_sub_21_edgemask.jpg  \n",
            "  inflating: /content/mini_forgery_dataset/Columbia Uncompressed Image Splicing Detection/4cam_splc/edgemask/nikond70_canonxt_sub_21_edgemask_3.jpg  \n",
            "  inflating: /content/mini_forgery_dataset/Columbia Uncompressed Image Splicing Detection/4cam_splc/edgemask/nikond70_canonxt_sub_22_edgemask.jpg  \n",
            "  inflating: /content/mini_forgery_dataset/Columbia Uncompressed Image Splicing Detection/4cam_splc/edgemask/nikond70_canonxt_sub_22_edgemask_3.jpg  \n",
            "  inflating: /content/mini_forgery_dataset/Columbia Uncompressed Image Splicing Detection/4cam_splc/edgemask/nikond70_canonxt_sub_23_edgemask.jpg  \n",
            "  inflating: /content/mini_forgery_dataset/Columbia Uncompressed Image Splicing Detection/4cam_splc/edgemask/nikond70_canonxt_sub_23_edgemask_3.jpg  \n",
            "  inflating: /content/mini_forgery_dataset/Columbia Uncompressed Image Splicing Detection/4cam_splc/edgemask/nikond70_canonxt_sub_24_edgemask.jpg  \n",
            "  inflating: /content/mini_forgery_dataset/Columbia Uncompressed Image Splicing Detection/4cam_splc/edgemask/nikond70_canonxt_sub_24_edgemask_3.jpg  \n",
            "  inflating: /content/mini_forgery_dataset/Columbia Uncompressed Image Splicing Detection/4cam_splc/edgemask/nikond70_canonxt_sub_25_edgemask.jpg  \n",
            "  inflating: /content/mini_forgery_dataset/Columbia Uncompressed Image Splicing Detection/4cam_splc/edgemask/nikond70_canonxt_sub_25_edgemask_3.jpg  \n",
            "  inflating: /content/mini_forgery_dataset/Columbia Uncompressed Image Splicing Detection/4cam_splc/edgemask/nikond70_canonxt_sub_26_edgemask.jpg  \n",
            "  inflating: /content/mini_forgery_dataset/Columbia Uncompressed Image Splicing Detection/4cam_splc/edgemask/nikond70_canonxt_sub_26_edgemask_3.jpg  \n",
            "  inflating: /content/mini_forgery_dataset/Columbia Uncompressed Image Splicing Detection/4cam_splc/edgemask/nikond70_canonxt_sub_27_edgemask.jpg  \n",
            "  inflating: /content/mini_forgery_dataset/Columbia Uncompressed Image Splicing Detection/4cam_splc/edgemask/nikond70_canonxt_sub_27_edgemask_3.jpg  \n",
            "  inflating: /content/mini_forgery_dataset/Columbia Uncompressed Image Splicing Detection/4cam_splc/edgemask/nikond70_canonxt_sub_28_edgemask.jpg  \n",
            "  inflating: /content/mini_forgery_dataset/Columbia Uncompressed Image Splicing Detection/4cam_splc/edgemask/nikond70_canonxt_sub_28_edgemask_3.jpg  \n",
            "  inflating: /content/mini_forgery_dataset/Columbia Uncompressed Image Splicing Detection/4cam_splc/edgemask/nikond70_canonxt_sub_29_edgemask.jpg  \n",
            "  inflating: /content/mini_forgery_dataset/Columbia Uncompressed Image Splicing Detection/4cam_splc/edgemask/nikond70_canonxt_sub_29_edgemask_3.jpg  \n",
            "  inflating: /content/mini_forgery_dataset/Columbia Uncompressed Image Splicing Detection/4cam_splc/edgemask/nikond70_canonxt_sub_30_edgemask.jpg  \n",
            "  inflating: /content/mini_forgery_dataset/Columbia Uncompressed Image Splicing Detection/4cam_splc/edgemask/nikond70_canonxt_sub_30_edgemask_3.jpg  \n",
            "  inflating: /content/mini_forgery_dataset/Columbia Uncompressed Image Splicing Detection/4cam_splc/edgemask/nikond70_kodakdcs330_sub_01_edgemask.jpg  \n",
            "  inflating: /content/mini_forgery_dataset/Columbia Uncompressed Image Splicing Detection/4cam_splc/edgemask/nikond70_kodakdcs330_sub_01_edgemask_3.jpg  \n",
            "  inflating: /content/mini_forgery_dataset/Columbia Uncompressed Image Splicing Detection/4cam_splc/edgemask/nikond70_kodakdcs330_sub_02_edgemask.jpg  \n",
            "  inflating: /content/mini_forgery_dataset/Columbia Uncompressed Image Splicing Detection/4cam_splc/edgemask/nikond70_kodakdcs330_sub_02_edgemask_3.jpg  \n",
            "  inflating: /content/mini_forgery_dataset/Columbia Uncompressed Image Splicing Detection/4cam_splc/edgemask/nikond70_kodakdcs330_sub_03_edgemask.jpg  \n",
            "  inflating: /content/mini_forgery_dataset/Columbia Uncompressed Image Splicing Detection/4cam_splc/edgemask/nikond70_kodakdcs330_sub_03_edgemask_3.jpg  \n",
            "  inflating: /content/mini_forgery_dataset/Columbia Uncompressed Image Splicing Detection/4cam_splc/edgemask/nikond70_kodakdcs330_sub_04_edgemask.jpg  \n",
            "  inflating: /content/mini_forgery_dataset/Columbia Uncompressed Image Splicing Detection/4cam_splc/edgemask/nikond70_kodakdcs330_sub_04_edgemask_3.jpg  \n",
            "  inflating: /content/mini_forgery_dataset/Columbia Uncompressed Image Splicing Detection/4cam_splc/edgemask/nikond70_kodakdcs330_sub_05_edgemask.jpg  \n",
            "  inflating: /content/mini_forgery_dataset/Columbia Uncompressed Image Splicing Detection/4cam_splc/edgemask/nikond70_kodakdcs330_sub_05_edgemask_3.jpg  \n",
            "  inflating: /content/mini_forgery_dataset/Columbia Uncompressed Image Splicing Detection/4cam_splc/edgemask/nikond70_kodakdcs330_sub_06_edgemask.jpg  \n",
            "  inflating: /content/mini_forgery_dataset/Columbia Uncompressed Image Splicing Detection/4cam_splc/edgemask/nikond70_kodakdcs330_sub_06_edgemask_3.jpg  \n",
            "  inflating: /content/mini_forgery_dataset/Columbia Uncompressed Image Splicing Detection/4cam_splc/edgemask/nikond70_kodakdcs330_sub_07_edgemask.jpg  \n",
            "  inflating: /content/mini_forgery_dataset/Columbia Uncompressed Image Splicing Detection/4cam_splc/edgemask/nikond70_kodakdcs330_sub_07_edgemask_3.jpg  \n",
            "  inflating: /content/mini_forgery_dataset/Columbia Uncompressed Image Splicing Detection/4cam_splc/edgemask/nikond70_kodakdcs330_sub_08_edgemask.jpg  \n",
            "  inflating: /content/mini_forgery_dataset/Columbia Uncompressed Image Splicing Detection/4cam_splc/edgemask/nikond70_kodakdcs330_sub_08_edgemask_3.jpg  \n",
            "  inflating: /content/mini_forgery_dataset/Columbia Uncompressed Image Splicing Detection/4cam_splc/edgemask/nikond70_kodakdcs330_sub_09_edgemask.jpg  \n",
            "  inflating: /content/mini_forgery_dataset/Columbia Uncompressed Image Splicing Detection/4cam_splc/edgemask/nikond70_kodakdcs330_sub_09_edgemask_3.jpg  \n",
            "  inflating: /content/mini_forgery_dataset/Columbia Uncompressed Image Splicing Detection/4cam_splc/edgemask/nikond70_kodakdcs330_sub_10_edgemask.jpg  \n",
            "  inflating: /content/mini_forgery_dataset/Columbia Uncompressed Image Splicing Detection/4cam_splc/edgemask/nikond70_kodakdcs330_sub_10_edgemask_3.jpg  \n",
            "  inflating: /content/mini_forgery_dataset/Columbia Uncompressed Image Splicing Detection/4cam_splc/edgemask/nikond70_kodakdcs330_sub_11_edgemask.jpg  \n",
            "  inflating: /content/mini_forgery_dataset/Columbia Uncompressed Image Splicing Detection/4cam_splc/edgemask/nikond70_kodakdcs330_sub_11_edgemask_3.jpg  \n",
            "  inflating: /content/mini_forgery_dataset/Columbia Uncompressed Image Splicing Detection/4cam_splc/edgemask/nikond70_kodakdcs330_sub_12_edgemask.jpg  \n",
            "  inflating: /content/mini_forgery_dataset/Columbia Uncompressed Image Splicing Detection/4cam_splc/edgemask/nikond70_kodakdcs330_sub_12_edgemask_3.jpg  \n",
            "  inflating: /content/mini_forgery_dataset/Columbia Uncompressed Image Splicing Detection/4cam_splc/edgemask/nikond70_kodakdcs330_sub_13_edgemask.jpg  \n",
            "  inflating: /content/mini_forgery_dataset/Columbia Uncompressed Image Splicing Detection/4cam_splc/edgemask/nikond70_kodakdcs330_sub_13_edgemask_3.jpg  \n",
            "  inflating: /content/mini_forgery_dataset/Columbia Uncompressed Image Splicing Detection/4cam_splc/edgemask/nikond70_kodakdcs330_sub_14_edgemask.jpg  \n",
            "  inflating: /content/mini_forgery_dataset/Columbia Uncompressed Image Splicing Detection/4cam_splc/edgemask/nikond70_kodakdcs330_sub_14_edgemask_3.jpg  \n",
            "  inflating: /content/mini_forgery_dataset/Columbia Uncompressed Image Splicing Detection/4cam_splc/edgemask/nikond70_kodakdcs330_sub_15_edgemask.jpg  \n",
            "  inflating: /content/mini_forgery_dataset/Columbia Uncompressed Image Splicing Detection/4cam_splc/edgemask/nikond70_kodakdcs330_sub_15_edgemask_3.jpg  \n",
            "  inflating: /content/mini_forgery_dataset/Columbia Uncompressed Image Splicing Detection/4cam_splc/edgemask/nikond70_kodakdcs330_sub_16_edgemask.jpg  \n",
            "  inflating: /content/mini_forgery_dataset/Columbia Uncompressed Image Splicing Detection/4cam_splc/edgemask/nikond70_kodakdcs330_sub_16_edgemask_3.jpg  \n",
            "  inflating: /content/mini_forgery_dataset/Columbia Uncompressed Image Splicing Detection/4cam_splc/edgemask/nikond70_kodakdcs330_sub_17_edgemask.jpg  \n",
            "  inflating: /content/mini_forgery_dataset/Columbia Uncompressed Image Splicing Detection/4cam_splc/edgemask/nikond70_kodakdcs330_sub_17_edgemask_3.jpg  \n",
            "  inflating: /content/mini_forgery_dataset/Columbia Uncompressed Image Splicing Detection/4cam_splc/edgemask/nikond70_kodakdcs330_sub_18_edgemask.jpg  \n",
            "  inflating: /content/mini_forgery_dataset/Columbia Uncompressed Image Splicing Detection/4cam_splc/edgemask/nikond70_kodakdcs330_sub_18_edgemask_3.jpg  \n",
            "  inflating: /content/mini_forgery_dataset/Columbia Uncompressed Image Splicing Detection/4cam_splc/edgemask/nikond70_kodakdcs330_sub_19_edgemask.jpg  \n",
            "  inflating: /content/mini_forgery_dataset/Columbia Uncompressed Image Splicing Detection/4cam_splc/edgemask/nikond70_kodakdcs330_sub_19_edgemask_3.jpg  \n",
            "  inflating: /content/mini_forgery_dataset/Columbia Uncompressed Image Splicing Detection/4cam_splc/edgemask/nikond70_kodakdcs330_sub_20_edgemask.jpg  \n",
            "  inflating: /content/mini_forgery_dataset/Columbia Uncompressed Image Splicing Detection/4cam_splc/edgemask/nikond70_kodakdcs330_sub_20_edgemask_3.jpg  \n",
            "  inflating: /content/mini_forgery_dataset/Columbia Uncompressed Image Splicing Detection/4cam_splc/edgemask/nikond70_kodakdcs330_sub_21_edgemask.jpg  \n",
            "  inflating: /content/mini_forgery_dataset/Columbia Uncompressed Image Splicing Detection/4cam_splc/edgemask/nikond70_kodakdcs330_sub_21_edgemask_3.jpg  \n",
            "  inflating: /content/mini_forgery_dataset/Columbia Uncompressed Image Splicing Detection/4cam_splc/edgemask/nikond70_kodakdcs330_sub_22_edgemask.jpg  \n",
            "  inflating: /content/mini_forgery_dataset/Columbia Uncompressed Image Splicing Detection/4cam_splc/edgemask/nikond70_kodakdcs330_sub_22_edgemask_3.jpg  \n",
            "  inflating: /content/mini_forgery_dataset/Columbia Uncompressed Image Splicing Detection/4cam_splc/edgemask/nikond70_kodakdcs330_sub_23_edgemask.jpg  \n",
            "  inflating: /content/mini_forgery_dataset/Columbia Uncompressed Image Splicing Detection/4cam_splc/edgemask/nikond70_kodakdcs330_sub_23_edgemask_3.jpg  \n",
            "  inflating: /content/mini_forgery_dataset/Columbia Uncompressed Image Splicing Detection/4cam_splc/edgemask/nikond70_kodakdcs330_sub_24_edgemask.jpg  \n",
            "  inflating: /content/mini_forgery_dataset/Columbia Uncompressed Image Splicing Detection/4cam_splc/edgemask/nikond70_kodakdcs330_sub_24_edgemask_3.jpg  \n",
            "  inflating: /content/mini_forgery_dataset/Columbia Uncompressed Image Splicing Detection/4cam_splc/edgemask/nikond70_kodakdcs330_sub_25_edgemask.jpg  \n",
            "  inflating: /content/mini_forgery_dataset/Columbia Uncompressed Image Splicing Detection/4cam_splc/edgemask/nikond70_kodakdcs330_sub_25_edgemask_3.jpg  \n",
            "  inflating: /content/mini_forgery_dataset/Columbia Uncompressed Image Splicing Detection/4cam_splc/edgemask/nikond70_kodakdcs330_sub_26_edgemask.jpg  \n",
            "  inflating: /content/mini_forgery_dataset/Columbia Uncompressed Image Splicing Detection/4cam_splc/edgemask/nikond70_kodakdcs330_sub_26_edgemask_3.jpg  \n",
            "  inflating: /content/mini_forgery_dataset/Columbia Uncompressed Image Splicing Detection/4cam_splc/edgemask/nikond70_kodakdcs330_sub_27_edgemask.jpg  \n",
            "  inflating: /content/mini_forgery_dataset/Columbia Uncompressed Image Splicing Detection/4cam_splc/edgemask/nikond70_kodakdcs330_sub_27_edgemask_3.jpg  \n",
            "  inflating: /content/mini_forgery_dataset/Columbia Uncompressed Image Splicing Detection/4cam_splc/edgemask/nikond70_kodakdcs330_sub_28_edgemask.jpg  \n",
            "  inflating: /content/mini_forgery_dataset/Columbia Uncompressed Image Splicing Detection/4cam_splc/edgemask/nikond70_kodakdcs330_sub_28_edgemask_3.jpg  \n",
            "  inflating: /content/mini_forgery_dataset/Columbia Uncompressed Image Splicing Detection/4cam_splc/edgemask/nikond70_kodakdcs330_sub_29_edgemask.jpg  \n",
            "  inflating: /content/mini_forgery_dataset/Columbia Uncompressed Image Splicing Detection/4cam_splc/edgemask/nikond70_kodakdcs330_sub_29_edgemask_3.jpg  \n",
            "  inflating: /content/mini_forgery_dataset/Columbia Uncompressed Image Splicing Detection/4cam_splc/edgemask/nikond70_kodakdcs330_sub_30_edgemask.jpg  \n",
            "  inflating: /content/mini_forgery_dataset/Columbia Uncompressed Image Splicing Detection/4cam_splc/edgemask/nikond70_kodakdcs330_sub_30_edgemask_3.jpg  \n",
            "  inflating: /content/mini_forgery_dataset/Columbia Uncompressed Image Splicing Detection/README.txt  \n",
            "  inflating: /content/mini_forgery_dataset/Columbia Uncompressed Image Splicing Detection/Thumbs.db  \n"
          ]
        }
      ]
    },
    {
      "cell_type": "code",
      "source": [
        "import os\n",
        "import cv2\n",
        "import numpy as np\n",
        "import pandas as pd\n",
        "from sklearn.model_selection import train_test_split\n",
        "from tqdm import tqdm"
      ],
      "metadata": {
        "id": "CmwyXS_ZHAbW"
      },
      "execution_count": 2,
      "outputs": []
    },
    {
      "cell_type": "code",
      "source": [
        "# Define base paths for the dataset, including images and corresponding masks\n",
        "base_path = \"/content/mini_forgery_dataset\"\n",
        "img_dir = os.path.join(base_path, \"images\")\n",
        "mask_dir = os.path.join(base_path, \"masks\")"
      ],
      "metadata": {
        "id": "VhLbwEi2H9WA"
      },
      "execution_count": 3,
      "outputs": []
    },
    {
      "cell_type": "code",
      "source": [
        "# Define valid image extensions and helper function to check if a file is an image\n",
        "\n",
        "valid_ext = ['.jpg', '.jpeg', '.png', '.bmp', '.tif', '.tiff']\n",
        "\n",
        "def is_image(filename):\n",
        "    return os.path.splitext(filename)[1].lower() in valid_ext\n",
        "# Initialize lists to store images (X) and corresponding masks (y)\n",
        "\n",
        "X = []\n",
        "y = []"
      ],
      "metadata": {
        "id": "UEv71qVGJNO7"
      },
      "execution_count": 4,
      "outputs": []
    },
    {
      "cell_type": "code",
      "source": [
        "# Define paths for authentic (unaltered) images and spliced (forged) images\n",
        "# from the Columbia Uncompressed Image Splicing Detection dataset\n",
        "auth_dir = \"/content/mini_forgery_dataset/Columbia Uncompressed Image Splicing Detection/4cam_auth/4cam_auth\"\n",
        "spliced_dir = \"/content/mini_forgery_dataset/Columbia Uncompressed Image Splicing Detection/4cam_splc/4cam_splc\"\n"
      ],
      "metadata": {
        "id": "ooHrXRuAIEJr"
      },
      "execution_count": 5,
      "outputs": []
    },
    {
      "cell_type": "code",
      "source": [
        "# Load and preprocess authentic (unaltered) images:\n",
        "# - Resize to 128x128\n",
        "# - Normalize pixel values to [0, 1]\n",
        "# - Label them as 0 (authentic)\n",
        "for filename in tqdm(os.listdir(auth_dir)):\n",
        "    path = os.path.join(auth_dir, filename)\n",
        "    img = cv2.imread(path)\n",
        "    if img is None:\n",
        "        continue\n",
        "    img = cv2.resize(img, (128, 128))\n",
        "    img = img / 255.0\n",
        "    X.append(img)\n",
        "    y.append(0)"
      ],
      "metadata": {
        "colab": {
          "base_uri": "https://localhost:8080/"
        },
        "id": "JAHd9eUuJFfj",
        "outputId": "1df31a4b-a743-4d99-f2df-2e486abb33c3"
      },
      "execution_count": 6,
      "outputs": [
        {
          "output_type": "stream",
          "name": "stderr",
          "text": [
            "100%|██████████| 183/183 [00:01<00:00, 128.68it/s]\n"
          ]
        }
      ]
    },
    {
      "cell_type": "code",
      "source": [
        "# Load and preprocess spliced (forged) images:\n",
        "# - Resize to 128x128\n",
        "# - Normalize pixel values to [0, 1]\n",
        "# - Label them as 1 (spliced)\n",
        "for filename in tqdm(os.listdir(spliced_dir)):\n",
        "    path = os.path.join(spliced_dir, filename)\n",
        "    img = cv2.imread(path)\n",
        "    if img is None:\n",
        "        continue\n",
        "    img = cv2.resize(img, (128, 128))\n",
        "    img = img / 255.0\n",
        "    X.append(img)\n",
        "    y.append(1)"
      ],
      "metadata": {
        "colab": {
          "base_uri": "https://localhost:8080/"
        },
        "id": "q_IuO2Q4JrH8",
        "outputId": "0799c6fd-247c-44f7-810b-4e5b24c4cd0c"
      },
      "execution_count": 7,
      "outputs": [
        {
          "output_type": "stream",
          "name": "stderr",
          "text": [
            "100%|██████████| 180/180 [00:00<00:00, 266.04it/s]\n"
          ]
        }
      ]
    },
    {
      "cell_type": "code",
      "source": [
        "# Convert image and label lists to NumPy arrays for model training\n",
        "\n",
        "X = np.array(X)\n",
        "y = np.array(y)\n"
      ],
      "metadata": {
        "id": "sAZlKxB2JuPc"
      },
      "execution_count": 8,
      "outputs": []
    },
    {
      "cell_type": "code",
      "source": [
        "print(\"عدد الصور:\", X.shape)\n",
        "print(\"عدد التصنيفات:\", y.shape)"
      ],
      "metadata": {
        "colab": {
          "base_uri": "https://localhost:8080/"
        },
        "id": "HfJEBrW-Jzdm",
        "outputId": "c8dbfaed-4b03-4552-cb75-739ba7bda091"
      },
      "execution_count": 9,
      "outputs": [
        {
          "output_type": "stream",
          "name": "stdout",
          "text": [
            "عدد الصور: (363, 128, 128, 3)\n",
            "عدد التصنيفات: (363,)\n"
          ]
        }
      ]
    },
    {
      "cell_type": "code",
      "source": [
        "\n",
        "np.save(\"/content/drive/MyDrive/X_data.npy\", X)\n",
        "np.save(\"/content/drive/MyDrive/y_data.npy\", y)\n"
      ],
      "metadata": {
        "id": "oGx71UvwKDN-"
      },
      "execution_count": 10,
      "outputs": []
    },
    {
      "cell_type": "code",
      "source": [
        "import numpy as np\n",
        "from sklearn.model_selection import train_test_split\n",
        "from tensorflow.keras.utils import to_categorical\n",
        "from tensorflow.keras.models import Sequential\n",
        "from tensorflow.keras.layers import Conv2D, MaxPooling2D, Flatten, Dense, Dropout\n",
        "from tensorflow.keras.optimizers import Adam"
      ],
      "metadata": {
        "id": "wVWI7qCfLR2U"
      },
      "execution_count": 11,
      "outputs": []
    },
    {
      "cell_type": "code",
      "source": [
        "# Split the dataset into training and testing sets (80% train, 20% test) with a fixed random seed for reproducibility\n",
        "X_train, X_test, y_train, y_test = train_test_split(X, y, test_size=0.2, random_state=42)\n"
      ],
      "metadata": {
        "id": "WQkTyN6tLgqe"
      },
      "execution_count": 12,
      "outputs": []
    },
    {
      "cell_type": "code",
      "source": [
        "# Convert labels to one-hot encoded format for categorical classification\n",
        "y_train_cat = to_categorical(y_train, 2)\n",
        "y_test_cat = to_categorical(y_test, 2)"
      ],
      "metadata": {
        "id": "_pSg3o3dLjCO"
      },
      "execution_count": 13,
      "outputs": []
    },
    {
      "cell_type": "code",
      "source": [
        "# Build a CNN model with 3 convolutional layers followed by dense layers\n",
        "# Designed for binary classification with softmax output\n",
        "model = Sequential([\n",
        "    Conv2D(32, (3,3), activation='relu', input_shape=(128,128,3)),\n",
        "    MaxPooling2D(),\n",
        "\n",
        "    Conv2D(64, (3,3), activation='relu'),\n",
        "    MaxPooling2D(),\n",
        "\n",
        "    Conv2D(128, (3,3), activation='relu'),\n",
        "    MaxPooling2D(),\n",
        "\n",
        "    Flatten(),\n",
        "    Dense(128, activation='relu'),\n",
        "    Dropout(0.5),\n",
        "    Dense(2, activation='softmax')  # 2 classes\n",
        "])"
      ],
      "metadata": {
        "id": "RM9hG4wiLmZk",
        "colab": {
          "base_uri": "https://localhost:8080/"
        },
        "outputId": "9f7e440f-3d7e-4796-d672-5d9f627fa67d"
      },
      "execution_count": 14,
      "outputs": [
        {
          "output_type": "stream",
          "name": "stderr",
          "text": [
            "/usr/local/lib/python3.11/dist-packages/keras/src/layers/convolutional/base_conv.py:107: UserWarning: Do not pass an `input_shape`/`input_dim` argument to a layer. When using Sequential models, prefer using an `Input(shape)` object as the first layer in the model instead.\n",
            "  super().__init__(activity_regularizer=activity_regularizer, **kwargs)\n"
          ]
        }
      ]
    },
    {
      "cell_type": "code",
      "source": [
        "# Compile the model with Adam optimizer and categorical crossentropy loss,\n",
        "# then train it for 15 epochs with batch size of 32, using validation data for monitoring\n",
        "model.compile(optimizer=Adam(),\n",
        "              loss='categorical_crossentropy',\n",
        "              metrics=['accuracy'])\n",
        "history = model.fit(X_train, y_train_cat, epochs=15, batch_size=32, validation_data=(X_test, y_test_cat))\n"
      ],
      "metadata": {
        "colab": {
          "base_uri": "https://localhost:8080/"
        },
        "id": "NtmcCKC5MtkM",
        "outputId": "22883829-8360-4825-a2df-e752d2f6c6c3"
      },
      "execution_count": 15,
      "outputs": [
        {
          "output_type": "stream",
          "name": "stdout",
          "text": [
            "Epoch 1/15\n",
            "\u001b[1m10/10\u001b[0m \u001b[32m━━━━━━━━━━━━━━━━━━━━\u001b[0m\u001b[37m\u001b[0m \u001b[1m13s\u001b[0m 1s/step - accuracy: 0.5241 - loss: 0.7536 - val_accuracy: 0.5479 - val_loss: 0.6893\n",
            "Epoch 2/15\n",
            "\u001b[1m10/10\u001b[0m \u001b[32m━━━━━━━━━━━━━━━━━━━━\u001b[0m\u001b[37m\u001b[0m \u001b[1m8s\u001b[0m 800ms/step - accuracy: 0.5414 - loss: 0.6940 - val_accuracy: 0.4384 - val_loss: 0.7157\n",
            "Epoch 3/15\n",
            "\u001b[1m10/10\u001b[0m \u001b[32m━━━━━━━━━━━━━━━━━━━━\u001b[0m\u001b[37m\u001b[0m \u001b[1m10s\u001b[0m 994ms/step - accuracy: 0.5418 - loss: 0.6975 - val_accuracy: 0.4384 - val_loss: 0.6965\n",
            "Epoch 4/15\n",
            "\u001b[1m10/10\u001b[0m \u001b[32m━━━━━━━━━━━━━━━━━━━━\u001b[0m\u001b[37m\u001b[0m \u001b[1m10s\u001b[0m 1s/step - accuracy: 0.5563 - loss: 0.6576 - val_accuracy: 0.6986 - val_loss: 0.6098\n",
            "Epoch 5/15\n",
            "\u001b[1m10/10\u001b[0m \u001b[32m━━━━━━━━━━━━━━━━━━━━\u001b[0m\u001b[37m\u001b[0m \u001b[1m8s\u001b[0m 787ms/step - accuracy: 0.7301 - loss: 0.5868 - val_accuracy: 0.7260 - val_loss: 0.6191\n",
            "Epoch 6/15\n",
            "\u001b[1m10/10\u001b[0m \u001b[32m━━━━━━━━━━━━━━━━━━━━\u001b[0m\u001b[37m\u001b[0m \u001b[1m11s\u001b[0m 869ms/step - accuracy: 0.7082 - loss: 0.6024 - val_accuracy: 0.7534 - val_loss: 0.5753\n",
            "Epoch 7/15\n",
            "\u001b[1m10/10\u001b[0m \u001b[32m━━━━━━━━━━━━━━━━━━━━\u001b[0m\u001b[37m\u001b[0m \u001b[1m11s\u001b[0m 991ms/step - accuracy: 0.7668 - loss: 0.5407 - val_accuracy: 0.7534 - val_loss: 0.5480\n",
            "Epoch 8/15\n",
            "\u001b[1m10/10\u001b[0m \u001b[32m━━━━━━━━━━━━━━━━━━━━\u001b[0m\u001b[37m\u001b[0m \u001b[1m9s\u001b[0m 894ms/step - accuracy: 0.7738 - loss: 0.4999 - val_accuracy: 0.6849 - val_loss: 0.5952\n",
            "Epoch 9/15\n",
            "\u001b[1m10/10\u001b[0m \u001b[32m━━━━━━━━━━━━━━━━━━━━\u001b[0m\u001b[37m\u001b[0m \u001b[1m9s\u001b[0m 835ms/step - accuracy: 0.7459 - loss: 0.5469 - val_accuracy: 0.7397 - val_loss: 0.5325\n",
            "Epoch 10/15\n",
            "\u001b[1m10/10\u001b[0m \u001b[32m━━━━━━━━━━━━━━━━━━━━\u001b[0m\u001b[37m\u001b[0m \u001b[1m11s\u001b[0m 989ms/step - accuracy: 0.8456 - loss: 0.4308 - val_accuracy: 0.7534 - val_loss: 0.5980\n",
            "Epoch 11/15\n",
            "\u001b[1m10/10\u001b[0m \u001b[32m━━━━━━━━━━━━━━━━━━━━\u001b[0m\u001b[37m\u001b[0m \u001b[1m9s\u001b[0m 893ms/step - accuracy: 0.8194 - loss: 0.3880 - val_accuracy: 0.7397 - val_loss: 0.5646\n",
            "Epoch 12/15\n",
            "\u001b[1m10/10\u001b[0m \u001b[32m━━━━━━━━━━━━━━━━━━━━\u001b[0m\u001b[37m\u001b[0m \u001b[1m9s\u001b[0m 798ms/step - accuracy: 0.8056 - loss: 0.4406 - val_accuracy: 0.6575 - val_loss: 0.8501\n",
            "Epoch 13/15\n",
            "\u001b[1m10/10\u001b[0m \u001b[32m━━━━━━━━━━━━━━━━━━━━\u001b[0m\u001b[37m\u001b[0m \u001b[1m12s\u001b[0m 912ms/step - accuracy: 0.6961 - loss: 0.5979 - val_accuracy: 0.6027 - val_loss: 0.7018\n",
            "Epoch 14/15\n",
            "\u001b[1m10/10\u001b[0m \u001b[32m━━━━━━━━━━━━━━━━━━━━\u001b[0m\u001b[37m\u001b[0m \u001b[1m10s\u001b[0m 983ms/step - accuracy: 0.6848 - loss: 0.5624 - val_accuracy: 0.7671 - val_loss: 0.5920\n",
            "Epoch 15/15\n",
            "\u001b[1m10/10\u001b[0m \u001b[32m━━━━━━━━━━━━━━━━━━━━\u001b[0m\u001b[37m\u001b[0m \u001b[1m8s\u001b[0m 780ms/step - accuracy: 0.8463 - loss: 0.3917 - val_accuracy: 0.7534 - val_loss: 0.7104\n"
          ]
        }
      ]
    },
    {
      "cell_type": "code",
      "source": [
        "import matplotlib.pyplot as plt\n",
        "plt.plot(history.history['accuracy'], label='Train Accuracy')\n",
        "plt.plot(history.history['val_accuracy'], label='Val Accuracy')\n",
        "plt.title('Accuracy')\n",
        "plt.legend()\n",
        "plt.show()"
      ],
      "metadata": {
        "colab": {
          "base_uri": "https://localhost:8080/",
          "height": 452
        },
        "id": "yVZVF8jqLuaQ",
        "outputId": "4e395a46-5402-429f-c259-b5df66c1336b"
      },
      "execution_count": 16,
      "outputs": [
        {
          "output_type": "display_data",
          "data": {
            "text/plain": [
              "<Figure size 640x480 with 1 Axes>"
            ],
            "image/png": "[encoded data removed]"
          },
          "metadata": {}
        }
      ]
    },
    {
      "cell_type": "code",
      "metadata": {
        "colab": {
          "base_uri": "https://localhost:8080/",
          "height": 452
        },
        "id": "2da9fa02",
        "outputId": "67329d36-c8c9-48c3-f69d-bf4807ed8ac1"
      },
      "source": [
        "plt.plot(history.history['loss'], label='Train Loss')\n",
        "plt.plot(history.history['val_loss'], label='Val Loss')\n",
        "plt.title('Loss')\n",
        "plt.legend()\n",
        "plt.show()\n"
      ],
      "execution_count": 17,
      "outputs": [
        {
          "output_type": "display_data",
          "data": {
            "text/plain": [
              "<Figure size 640x480 with 1 Axes>"
            ],
            "image/png": "[encoded data removed]"
          },
          "metadata": {}
        }
      ]
    },
    {
      "cell_type": "code",
      "source": [
        "model.save(\"/content/drive/MyDrive/image_forgery_model.h5\")"
      ],
      "metadata": {
        "colab": {
          "base_uri": "https://localhost:8080/"
        },
        "id": "TmVO4XR0PMGC",
        "outputId": "2d3df088-b73b-4d55-9fe9-02a3b5382064"
      },
      "execution_count": 18,
      "outputs": [
        {
          "output_type": "stream",
          "name": "stderr",
          "text": [
            "WARNING:absl:You are saving your model as an HDF5 file via `model.save()` or `keras.saving.save_model(model)`. This file format is considered legacy. We recommend using instead the native Keras format, e.g. `model.save('my_model.keras')` or `keras.saving.save_model(model, 'my_model.keras')`. \n"
          ]
        }
      ]
    },
    {
      "cell_type": "code",
      "source": [
        "import numpy as np\n",
        "from sklearn.metrics import confusion_matrix, classification_report\n",
        "import matplotlib.pyplot as plt\n",
        "import seaborn as sns"
      ],
      "metadata": {
        "id": "eqZ06kmrPZXr"
      },
      "execution_count": 19,
      "outputs": []
    },
    {
      "cell_type": "code",
      "source": [
        "y_pred_prob = model.predict(X_test)\n",
        "y_pred = np.argmax(y_pred_prob, axis=1)"
      ],
      "metadata": {
        "colab": {
          "base_uri": "https://localhost:8080/"
        },
        "id": "9W7Vl9FaRap0",
        "outputId": "a4ff084a-0353-4526-8849-bac3b1479f0a"
      },
      "execution_count": 20,
      "outputs": [
        {
          "output_type": "stream",
          "name": "stdout",
          "text": [
            "\u001b[1m3/3\u001b[0m \u001b[32m━━━━━━━━━━━━━━━━━━━━\u001b[0m\u001b[37m\u001b[0m \u001b[1m1s\u001b[0m 190ms/step\n"
          ]
        }
      ]
    },
    {
      "cell_type": "code",
      "source": [
        "cm = confusion_matrix(y_test, y_pred)\n"
      ],
      "metadata": {
        "id": "Hjx-x3I5RdTC"
      },
      "execution_count": 21,
      "outputs": []
    },
    {
      "cell_type": "code",
      "source": [
        "report = classification_report(y_test, y_pred, target_names=['Authentic', 'Spliced'])\n",
        "print(report)\n"
      ],
      "metadata": {
        "colab": {
          "base_uri": "https://localhost:8080/"
        },
        "id": "1Ddpq_prRgwI",
        "outputId": "57e17578-958e-42aa-aab0-bb8050882adc"
      },
      "execution_count": 22,
      "outputs": [
        {
          "output_type": "stream",
          "name": "stdout",
          "text": [
            "              precision    recall  f1-score   support\n",
            "\n",
            "   Authentic       0.79      0.76      0.78        41\n",
            "     Spliced       0.71      0.75      0.73        32\n",
            "\n",
            "    accuracy                           0.75        73\n",
            "   macro avg       0.75      0.75      0.75        73\n",
            "weighted avg       0.76      0.75      0.75        73\n",
            "\n"
          ]
        }
      ]
    },
    {
      "cell_type": "code",
      "source": [
        "plt.figure(figsize=(6,5))\n",
        "sns.heatmap(cm, annot=True, fmt='d', cmap='Blues', xticklabels=['Authentic', 'Spliced'], yticklabels=['Authentic', 'Spliced'])\n",
        "plt.xlabel('Predicted Label')\n",
        "plt.ylabel('True Label')\n",
        "plt.title('Confusion Matrix')\n",
        "plt.show()"
      ],
      "metadata": {
        "colab": {
          "base_uri": "https://localhost:8080/",
          "height": 487
        },
        "id": "i3ZwoCeVRi1z",
        "outputId": "e2afb2be-de98-45ee-87ca-cf7f8d43e829"
      },
      "execution_count": 23,
      "outputs": [
        {
          "output_type": "display_data",
          "data": {
            "text/plain": [
              "<Figure size 600x500 with 2 Axes>"
            ],
            "image/png": "[encoded data removed]"
          },
          "metadata": {}
        }
      ]
    },
    {
      "cell_type": "code",
      "source": [
        "from tensorflow.keras.applications import MobileNetV2\n",
        "from tensorflow.keras.models import Model\n",
        "from tensorflow.keras.layers import GlobalAveragePooling2D, Dense, Dropout\n",
        "from tensorflow.keras.optimizers import Adam\n",
        "from tensorflow.keras.preprocessing.image import ImageDataGenerator\n",
        "from tensorflow.keras.utils import to_categorical\n",
        "from sklearn.model_selection import train_test_split\n",
        "from sklearn.utils import class_weight\n",
        "import numpy as np"
      ],
      "metadata": {
        "id": "GflIx2R3m5j8"
      },
      "execution_count": 24,
      "outputs": []
    },
    {
      "cell_type": "code",
      "source": [
        "X_train, X_test, y_train, y_test = train_test_split(X, y, test_size=0.2, random_state=42)\n",
        "y_train_cat = to_categorical(y_train, 2)\n",
        "y_test_cat = to_categorical(y_test, 2)"
      ],
      "metadata": {
        "id": "h20SKbp92-jl"
      },
      "execution_count": 25,
      "outputs": []
    },
    {
      "cell_type": "code",
      "source": [
        "class_weights = class_weight.compute_class_weight('balanced', classes=np.unique(y_train), y=y_train)\n",
        "class_weights_dict = dict(enumerate(class_weights))"
      ],
      "metadata": {
        "id": "OITtLgmJ3B70"
      },
      "execution_count": 26,
      "outputs": []
    },
    {
      "cell_type": "code",
      "source": [
        "train_datagen = ImageDataGenerator(\n",
        "    rotation_range=15,\n",
        "    zoom_range=0.1,\n",
        "    width_shift_range=0.1,\n",
        "    height_shift_range=0.1,\n",
        "    horizontal_flip=True\n",
        ")\n",
        "\n",
        "test_datagen = ImageDataGenerator()\n",
        "\n",
        "train_generator = train_datagen.flow(X_train, y_train_cat, batch_size=32)\n",
        "val_generator = test_datagen.flow(X_test, y_test_cat, batch_size=32)\n"
      ],
      "metadata": {
        "id": "icOXKYHM3GID"
      },
      "execution_count": 27,
      "outputs": []
    },
    {
      "cell_type": "code",
      "source": [
        "base_model = MobileNetV2(input_shape=(128,128,3), include_top=False, weights='imagenet')\n",
        "base_model.trainable = False"
      ],
      "metadata": {
        "colab": {
          "base_uri": "https://localhost:8080/"
        },
        "id": "p72XRr9m3Kub",
        "outputId": "c5a98127-81e9-4bdf-f7c4-fd7eef18d539"
      },
      "execution_count": 28,
      "outputs": [
        {
          "output_type": "stream",
          "name": "stdout",
          "text": [
            "Downloading data from https://storage.googleapis.com/tensorflow/keras-applications/mobilenet_v2/mobilenet_v2_weights_tf_dim_ordering_tf_kernels_1.0_128_no_top.h5\n",
            "\u001b[1m9406464/9406464\u001b[0m \u001b[32m━━━━━━━━━━━━━━━━━━━━\u001b[0m\u001b[37m\u001b[0m \u001b[1m0s\u001b[0m 0us/step\n"
          ]
        }
      ]
    },
    {
      "cell_type": "code",
      "source": [
        "x = base_model.output\n",
        "x = GlobalAveragePooling2D()(x)\n",
        "x = Dropout(0.5)(x)\n",
        "x = Dense(64, activation='relu')(x)\n",
        "predictions = Dense(2, activation='softmax')(x)\n",
        "\n",
        "model = Model(inputs=base_model.input, outputs=predictions)"
      ],
      "metadata": {
        "id": "Bj_RTu1o3QOd"
      },
      "execution_count": 29,
      "outputs": []
    },
    {
      "cell_type": "code",
      "source": [
        "model.compile(optimizer=Adam(learning_rate=1e-4), loss='categorical_crossentropy', metrics=['accuracy'])\n"
      ],
      "metadata": {
        "id": "zmVRPK783U9n"
      },
      "execution_count": 30,
      "outputs": []
    },
    {
      "cell_type": "code",
      "source": [
        "history = model.fit(\n",
        "    train_generator,\n",
        "    validation_data=val_generator,\n",
        "    epochs=15,\n",
        "    class_weight=class_weights_dict\n",
        ")\n"
      ],
      "metadata": {
        "colab": {
          "base_uri": "https://localhost:8080/"
        },
        "id": "ZMfepqed3dGP",
        "outputId": "fdcb77b5-1b37-4e3e-ffce-f279dee8a926"
      },
      "execution_count": 31,
      "outputs": [
        {
          "output_type": "stream",
          "name": "stderr",
          "text": [
            "/usr/local/lib/python3.11/dist-packages/keras/src/trainers/data_adapters/py_dataset_adapter.py:121: UserWarning: Your `PyDataset` class should call `super().__init__(**kwargs)` in its constructor. `**kwargs` can include `workers`, `use_multiprocessing`, `max_queue_size`. Do not pass these arguments to `fit()`, as they will be ignored.\n",
            "  self._warn_if_super_not_called()\n"
          ]
        },
        {
          "output_type": "stream",
          "name": "stdout",
          "text": [
            "Epoch 1/15\n",
            "\u001b[1m10/10\u001b[0m \u001b[32m━━━━━━━━━━━━━━━━━━━━\u001b[0m\u001b[37m\u001b[0m \u001b[1m14s\u001b[0m 828ms/step - accuracy: 0.4127 - loss: 1.0241 - val_accuracy: 0.5479 - val_loss: 0.8365\n",
            "Epoch 2/15\n",
            "\u001b[1m10/10\u001b[0m \u001b[32m━━━━━━━━━━━━━━━━━━━━\u001b[0m\u001b[37m\u001b[0m \u001b[1m5s\u001b[0m 494ms/step - accuracy: 0.4953 - loss: 0.9754 - val_accuracy: 0.6027 - val_loss: 0.8175\n",
            "Epoch 3/15\n",
            "\u001b[1m10/10\u001b[0m \u001b[32m━━━━━━━━━━━━━━━━━━━━\u001b[0m\u001b[37m\u001b[0m \u001b[1m6s\u001b[0m 542ms/step - accuracy: 0.6121 - loss: 0.8619 - val_accuracy: 0.6438 - val_loss: 0.7757\n",
            "Epoch 4/15\n",
            "\u001b[1m10/10\u001b[0m \u001b[32m━━━━━━━━━━━━━━━━━━━━\u001b[0m\u001b[37m\u001b[0m \u001b[1m4s\u001b[0m 481ms/step - accuracy: 0.5250 - loss: 0.8847 - val_accuracy: 0.6438 - val_loss: 0.7532\n",
            "Epoch 5/15\n",
            "\u001b[1m10/10\u001b[0m \u001b[32m━━━━━━━━━━━━━━━━━━━━\u001b[0m\u001b[37m\u001b[0m \u001b[1m7s\u001b[0m 699ms/step - accuracy: 0.6119 - loss: 0.7447 - val_accuracy: 0.6849 - val_loss: 0.7001\n",
            "Epoch 6/15\n",
            "\u001b[1m10/10\u001b[0m \u001b[32m━━━━━━━━━━━━━━━━━━━━\u001b[0m\u001b[37m\u001b[0m \u001b[1m5s\u001b[0m 442ms/step - accuracy: 0.6048 - loss: 0.7500 - val_accuracy: 0.6575 - val_loss: 0.6672\n",
            "Epoch 7/15\n",
            "\u001b[1m10/10\u001b[0m \u001b[32m━━━━━━━━━━━━━━━━━━━━\u001b[0m\u001b[37m\u001b[0m \u001b[1m4s\u001b[0m 439ms/step - accuracy: 0.6383 - loss: 0.6741 - val_accuracy: 0.6712 - val_loss: 0.6700\n",
            "Epoch 8/15\n",
            "\u001b[1m10/10\u001b[0m \u001b[32m━━━━━━━━━━━━━━━━━━━━\u001b[0m\u001b[37m\u001b[0m \u001b[1m6s\u001b[0m 626ms/step - accuracy: 0.6146 - loss: 0.7174 - val_accuracy: 0.6986 - val_loss: 0.6698\n",
            "Epoch 9/15\n",
            "\u001b[1m10/10\u001b[0m \u001b[32m━━━━━━━━━━━━━━━━━━━━\u001b[0m\u001b[37m\u001b[0m \u001b[1m4s\u001b[0m 430ms/step - accuracy: 0.6976 - loss: 0.6535 - val_accuracy: 0.7260 - val_loss: 0.6748\n",
            "Epoch 10/15\n",
            "\u001b[1m10/10\u001b[0m \u001b[32m━━━━━━━━━━━━━━━━━━━━\u001b[0m\u001b[37m\u001b[0m \u001b[1m5s\u001b[0m 449ms/step - accuracy: 0.7005 - loss: 0.6393 - val_accuracy: 0.6849 - val_loss: 0.6263\n",
            "Epoch 11/15\n",
            "\u001b[1m10/10\u001b[0m \u001b[32m━━━━━━━━━━━━━━━━━━━━\u001b[0m\u001b[37m\u001b[0m \u001b[1m6s\u001b[0m 669ms/step - accuracy: 0.7055 - loss: 0.5704 - val_accuracy: 0.7123 - val_loss: 0.5834\n",
            "Epoch 12/15\n",
            "\u001b[1m10/10\u001b[0m \u001b[32m━━━━━━━━━━━━━━━━━━━━\u001b[0m\u001b[37m\u001b[0m \u001b[1m5s\u001b[0m 444ms/step - accuracy: 0.6646 - loss: 0.6130 - val_accuracy: 0.6986 - val_loss: 0.5653\n",
            "Epoch 13/15\n",
            "\u001b[1m10/10\u001b[0m \u001b[32m━━━━━━━━━━━━━━━━━━━━\u001b[0m\u001b[37m\u001b[0m \u001b[1m5s\u001b[0m 522ms/step - accuracy: 0.7747 - loss: 0.5626 - val_accuracy: 0.6986 - val_loss: 0.5696\n",
            "Epoch 14/15\n",
            "\u001b[1m10/10\u001b[0m \u001b[32m━━━━━━━━━━━━━━━━━━━━\u001b[0m\u001b[37m\u001b[0m \u001b[1m5s\u001b[0m 501ms/step - accuracy: 0.7228 - loss: 0.5885 - val_accuracy: 0.7260 - val_loss: 0.6021\n",
            "Epoch 15/15\n",
            "\u001b[1m10/10\u001b[0m \u001b[32m━━━━━━━━━━━━━━━━━━━━\u001b[0m\u001b[37m\u001b[0m \u001b[1m11s\u001b[0m 600ms/step - accuracy: 0.7725 - loss: 0.4928 - val_accuracy: 0.7260 - val_loss: 0.6242\n"
          ]
        }
      ]
    },
    {
      "cell_type": "code",
      "source": [
        "import matplotlib.pyplot as plt\n",
        "plt.plot(history.history['accuracy'], label='Train Accuracy')\n",
        "plt.plot(history.history['val_accuracy'], label='Val Accuracy')\n",
        "plt.title('Accuracy')\n",
        "plt.legend()\n",
        "plt.show()"
      ],
      "metadata": {
        "colab": {
          "base_uri": "https://localhost:8080/",
          "height": 452
        },
        "id": "kblfc8rp7NdW",
        "outputId": "000ec020-10e1-4593-cd5a-1df26e5478c0"
      },
      "execution_count": 32,
      "outputs": [
        {
          "output_type": "display_data",
          "data": {
            "text/plain": [
              "<Figure size 640x480 with 1 Axes>"
            ],
            "image/png": "[encoded data removed]"
          },
          "metadata": {}
        }
      ]
    },
    {
      "cell_type": "code",
      "source": [
        "plt.plot(history.history['loss'], label='Train Loss')\n",
        "plt.plot(history.history['val_loss'], label='Val Loss')\n",
        "plt.title('Loss')\n",
        "plt.legend()\n",
        "plt.show()\n"
      ],
      "metadata": {
        "colab": {
          "base_uri": "https://localhost:8080/",
          "height": 452
        },
        "id": "JCFrf-UW5Uvg",
        "outputId": "065798da-6d37-45d4-9b8c-4a734f99b8e0"
      },
      "execution_count": 33,
      "outputs": [
        {
          "output_type": "display_data",
          "data": {
            "text/plain": [
              "<Figure size 640x480 with 1 Axes>"
            ],
            "image/png": "[encoded data removed]"
          },
          "metadata": {}
        }
      ]
    },
    {
      "cell_type": "code",
      "source": [
        "import numpy as np\n",
        "from sklearn.metrics import classification_report, confusion_matrix\n",
        "import matplotlib.pyplot as plt\n",
        "import seaborn as sns"
      ],
      "metadata": {
        "id": "B8RgoYKs3gLE"
      },
      "execution_count": 34,
      "outputs": []
    },
    {
      "cell_type": "code",
      "source": [
        "y_pred_probs = model.predict(X_test)\n",
        "y_pred = np.argmax(y_pred_probs, axis=1)\n",
        "y_true = y_test"
      ],
      "metadata": {
        "colab": {
          "base_uri": "https://localhost:8080/"
        },
        "id": "XcNAq6Y6342E",
        "outputId": "52fecb13-4d19-4e21-f499-8d435cef45fd"
      },
      "execution_count": 35,
      "outputs": [
        {
          "output_type": "stream",
          "name": "stdout",
          "text": [
            "\u001b[1m3/3\u001b[0m \u001b[32m━━━━━━━━━━━━━━━━━━━━\u001b[0m\u001b[37m\u001b[0m \u001b[1m3s\u001b[0m 829ms/step\n"
          ]
        }
      ]
    },
    {
      "cell_type": "code",
      "source": [
        "print(\"📊 Classification Report:\\n\")\n",
        "print(classification_report(y_true, y_pred, target_names=[\"Authentic\", \"Spliced\"]))\n"
      ],
      "metadata": {
        "colab": {
          "base_uri": "https://localhost:8080/"
        },
        "id": "b-7x3X-d37Ae",
        "outputId": "b36f93d1-d796-4c79-df7c-f148bcd7f051"
      },
      "execution_count": 36,
      "outputs": [
        {
          "output_type": "stream",
          "name": "stdout",
          "text": [
            "📊 Classification Report:\n",
            "\n",
            "              precision    recall  f1-score   support\n",
            "\n",
            "   Authentic       0.92      0.56      0.70        41\n",
            "     Spliced       0.62      0.94      0.75        32\n",
            "\n",
            "    accuracy                           0.73        73\n",
            "   macro avg       0.77      0.75      0.72        73\n",
            "weighted avg       0.79      0.73      0.72        73\n",
            "\n"
          ]
        }
      ]
    },
    {
      "cell_type": "code",
      "source": [
        "model.save(\"/content/drive/MyDrive/final_mobilenetv2_model.h5\")\n"
      ],
      "metadata": {
        "colab": {
          "base_uri": "https://localhost:8080/"
        },
        "id": "RL2hUYIc39uV",
        "outputId": "443c5cdb-6658-404c-9ddc-ae03cd1878df"
      },
      "execution_count": 37,
      "outputs": [
        {
          "output_type": "stream",
          "name": "stderr",
          "text": [
            "WARNING:absl:You are saving your model as an HDF5 file via `model.save()` or `keras.saving.save_model(model)`. This file format is considered legacy. We recommend using instead the native Keras format, e.g. `model.save('my_model.keras')` or `keras.saving.save_model(model, 'my_model.keras')`. \n"
          ]
        }
      ]
    },
    {
      "cell_type": "code",
      "source": [
        "img = cv2.imread(\"/content/drive/MyDrive/1 folder/images/14.jpeg\")\n",
        "img = cv2.resize(img, (128, 128)) / 255.0\n",
        "img = np.expand_dims(img, axis=0)\n",
        "prediction = model.predict(img)\n",
        "print(\"Predicted class:\", np.argmax(prediction))\n"
      ],
      "metadata": {
        "colab": {
          "base_uri": "https://localhost:8080/"
        },
        "id": "izRQ9HJx_DFw",
        "outputId": "45842d9b-1b7e-4d8f-ea5c-237a24bb235d"
      },
      "execution_count": 38,
      "outputs": [
        {
          "output_type": "stream",
          "name": "stdout",
          "text": [
            "\u001b[1m1/1\u001b[0m \u001b[32m━━━━━━━━━━━━━━━━━━━━\u001b[0m\u001b[37m\u001b[0m \u001b[1m0s\u001b[0m 58ms/step\n",
            "Predicted class: 1\n"
          ]
        }
      ]
    },
    {
      "cell_type": "code",
      "source": [
        "img = cv2.imread(\"/content/drive/MyDrive/1 folder/images/2.jpeg\")\n",
        "img = cv2.resize(img, (128, 128)) / 255.0\n",
        "img = np.expand_dims(img, axis=0)\n",
        "prediction = model.predict(img)\n",
        "print(\"Predicted class:\", np.argmax(prediction))\n"
      ],
      "metadata": {
        "colab": {
          "base_uri": "https://localhost:8080/"
        },
        "id": "KY3_xMrQ_UQp",
        "outputId": "564fc0e3-7681-4502-d81c-733a15b5927d"
      },
      "execution_count": 39,
      "outputs": [
        {
          "output_type": "stream",
          "name": "stdout",
          "text": [
            "\u001b[1m1/1\u001b[0m \u001b[32m━━━━━━━━━━━━━━━━━━━━\u001b[0m\u001b[37m\u001b[0m \u001b[1m0s\u001b[0m 54ms/step\n",
            "Predicted class: 1\n"
          ]
        }
      ]
    }
  ]
}